{
 "cells": [
  {
   "cell_type": "markdown",
   "metadata": {},
   "source": [
    "# Megaline Telecom Statistical Data Analysis"
   ]
  },
  {
   "cell_type": "markdown",
   "metadata": {},
   "source": [
    "# Which one is a better plan?\n",
    "\n",
    "You work as an analyst for the telecom operator Megaline. The company offers its clients two prepaid plans, Surf and Ultimate. The commercial department wants to know which of the plans brings in more revenue in order to adjust the advertising budget.\n",
    "\n",
    "You are going to carry out a preliminary analysis of the plans based on a relatively small client selection. You'll have the data on 500 Megaline clients: who the clients are, where they're from, which plan they use, and the number of calls they made and text messages they sent in 2018. Your job is to analyze the clients' behavior and determine which prepaid plan brings in more revenue."
   ]
  },
  {
   "cell_type": "markdown",
   "metadata": {},
   "source": [
    "[We've provided you with some commentary to guide your thinking as you complete this project. However, make sure to remove all the bracketed comments before submitting your project.]\n",
    "\n",
    "[Before you dive into analyzing your data, explain for yourself the purpose of the project and actions you plan to take.]\n",
    "\n",
    "[Please bear in mind that studying, amending, and analyzing data is an iterative process. It is normal to return to previous steps and correct/expand them to allow for further steps.]"
   ]
  },
  {
   "cell_type": "markdown",
   "metadata": {},
   "source": [
    "## Initialization"
   ]
  },
  {
   "cell_type": "code",
   "execution_count": 1,
   "metadata": {},
   "outputs": [],
   "source": [
    "# Loading all the libraries\n",
    "import pandas as pd\n",
    "import numpy as np\n",
    "import matplotlib.pyplot as plt\n",
    "from scipy import stats\n",
    "import seaborn as sns\n",
    "\n"
   ]
  },
  {
   "cell_type": "markdown",
   "metadata": {},
   "source": [
    "## Load data"
   ]
  },
  {
   "cell_type": "code",
   "execution_count": 2,
   "metadata": {},
   "outputs": [],
   "source": [
    "# Load the data files into different DataFrames\n",
    "calls_data = pd.read_csv('/datasets/megaline_calls.csv')\n",
    "plans_data = pd.read_csv('/datasets/megaline_plans.csv')\n",
    "users_data = pd.read_csv('/datasets/megaline_users1.csv')\n",
    "internet_data = pd.read_csv('/datasets/megaline_internet.csv')\n",
    "messages_data = pd.read_csv('/datasets/megaline_messages.csv')\n"
   ]
  },
  {
   "cell_type": "markdown",
   "metadata": {},
   "source": [
    "## Prepare the data"
   ]
  },
  {
   "cell_type": "markdown",
   "metadata": {},
   "source": [
    "## Plans"
   ]
  },
  {
   "cell_type": "code",
   "execution_count": 3,
   "metadata": {},
   "outputs": [
    {
     "name": "stdout",
     "output_type": "stream",
     "text": [
      "Plans Data Info\n",
      "<class 'pandas.core.frame.DataFrame'>\n",
      "RangeIndex: 2 entries, 0 to 1\n",
      "Data columns (total 8 columns):\n",
      " #   Column                 Non-Null Count  Dtype  \n",
      "---  ------                 --------------  -----  \n",
      " 0   messages_included      2 non-null      int64  \n",
      " 1   mb_per_month_included  2 non-null      int64  \n",
      " 2   minutes_included       2 non-null      int64  \n",
      " 3   usd_monthly_pay        2 non-null      int64  \n",
      " 4   usd_per_gb             2 non-null      int64  \n",
      " 5   usd_per_message        2 non-null      float64\n",
      " 6   usd_per_minute         2 non-null      float64\n",
      " 7   plan_name              2 non-null      object \n",
      "dtypes: float64(2), int64(5), object(1)\n",
      "memory usage: 256.0+ bytes\n",
      "None\n",
      "Plans Data:\n"
     ]
    },
    {
     "data": {
      "text/html": [
       "<div>\n",
       "<style scoped>\n",
       "    .dataframe tbody tr th:only-of-type {\n",
       "        vertical-align: middle;\n",
       "    }\n",
       "\n",
       "    .dataframe tbody tr th {\n",
       "        vertical-align: top;\n",
       "    }\n",
       "\n",
       "    .dataframe thead th {\n",
       "        text-align: right;\n",
       "    }\n",
       "</style>\n",
       "<table border=\"1\" class=\"dataframe\">\n",
       "  <thead>\n",
       "    <tr style=\"text-align: right;\">\n",
       "      <th></th>\n",
       "      <th>messages_included</th>\n",
       "      <th>mb_per_month_included</th>\n",
       "      <th>minutes_included</th>\n",
       "      <th>usd_monthly_pay</th>\n",
       "      <th>usd_per_gb</th>\n",
       "      <th>usd_per_message</th>\n",
       "      <th>usd_per_minute</th>\n",
       "      <th>plan_name</th>\n",
       "    </tr>\n",
       "  </thead>\n",
       "  <tbody>\n",
       "    <tr>\n",
       "      <th>0</th>\n",
       "      <td>50</td>\n",
       "      <td>15360</td>\n",
       "      <td>500</td>\n",
       "      <td>20</td>\n",
       "      <td>10</td>\n",
       "      <td>0.03</td>\n",
       "      <td>0.03</td>\n",
       "      <td>surf</td>\n",
       "    </tr>\n",
       "    <tr>\n",
       "      <th>1</th>\n",
       "      <td>1000</td>\n",
       "      <td>30720</td>\n",
       "      <td>3000</td>\n",
       "      <td>70</td>\n",
       "      <td>7</td>\n",
       "      <td>0.01</td>\n",
       "      <td>0.01</td>\n",
       "      <td>ultimate</td>\n",
       "    </tr>\n",
       "  </tbody>\n",
       "</table>\n",
       "</div>"
      ],
      "text/plain": [
       "   messages_included  mb_per_month_included  minutes_included  \\\n",
       "0                 50                  15360               500   \n",
       "1               1000                  30720              3000   \n",
       "\n",
       "   usd_monthly_pay  usd_per_gb  usd_per_message  usd_per_minute plan_name  \n",
       "0               20          10             0.03            0.03      surf  \n",
       "1               70           7             0.01            0.01  ultimate  "
      ]
     },
     "execution_count": 3,
     "metadata": {},
     "output_type": "execute_result"
    }
   ],
   "source": [
    "# Print the general/summary information about the plans' DataFrame\n",
    "\n",
    "print(\"Plans Data Info\")\n",
    "print(plans_data.info())\n",
    "\n",
    "print(\"Plans Data:\")\n",
    "plans_data.head()\n",
    "\n"
   ]
  },
  {
   "cell_type": "code",
   "execution_count": 4,
   "metadata": {},
   "outputs": [
    {
     "data": {
      "text/html": [
       "<div>\n",
       "<style scoped>\n",
       "    .dataframe tbody tr th:only-of-type {\n",
       "        vertical-align: middle;\n",
       "    }\n",
       "\n",
       "    .dataframe tbody tr th {\n",
       "        vertical-align: top;\n",
       "    }\n",
       "\n",
       "    .dataframe thead th {\n",
       "        text-align: right;\n",
       "    }\n",
       "</style>\n",
       "<table border=\"1\" class=\"dataframe\">\n",
       "  <thead>\n",
       "    <tr style=\"text-align: right;\">\n",
       "      <th></th>\n",
       "      <th>messages_included</th>\n",
       "      <th>mb_per_month_included</th>\n",
       "      <th>minutes_included</th>\n",
       "      <th>usd_monthly_pay</th>\n",
       "      <th>usd_per_gb</th>\n",
       "      <th>usd_per_message</th>\n",
       "      <th>usd_per_minute</th>\n",
       "      <th>plan_name</th>\n",
       "    </tr>\n",
       "  </thead>\n",
       "  <tbody>\n",
       "    <tr>\n",
       "      <th>1</th>\n",
       "      <td>1000</td>\n",
       "      <td>30720</td>\n",
       "      <td>3000</td>\n",
       "      <td>70</td>\n",
       "      <td>7</td>\n",
       "      <td>0.01</td>\n",
       "      <td>0.01</td>\n",
       "      <td>ultimate</td>\n",
       "    </tr>\n",
       "    <tr>\n",
       "      <th>0</th>\n",
       "      <td>50</td>\n",
       "      <td>15360</td>\n",
       "      <td>500</td>\n",
       "      <td>20</td>\n",
       "      <td>10</td>\n",
       "      <td>0.03</td>\n",
       "      <td>0.03</td>\n",
       "      <td>surf</td>\n",
       "    </tr>\n",
       "  </tbody>\n",
       "</table>\n",
       "</div>"
      ],
      "text/plain": [
       "   messages_included  mb_per_month_included  minutes_included  \\\n",
       "1               1000                  30720              3000   \n",
       "0                 50                  15360               500   \n",
       "\n",
       "   usd_monthly_pay  usd_per_gb  usd_per_message  usd_per_minute plan_name  \n",
       "1               70           7             0.01            0.01  ultimate  \n",
       "0               20          10             0.03            0.03      surf  "
      ]
     },
     "execution_count": 4,
     "metadata": {},
     "output_type": "execute_result"
    }
   ],
   "source": [
    "# Print a sample of data for plans\n",
    "\n",
    "plans_data.sample(2)"
   ]
  },
  {
   "cell_type": "markdown",
   "metadata": {},
   "source": [
    "### Observations\n",
    "\n",
    "- Missing Data:\n",
    "\n",
    "    - No missing data is observed; all columns have 2 non-null entries.\n",
    "\n",
    "- Data Structure:\n",
    "\n",
    "    - There are 2 entries (rows) in the DataFrame, which correspond to the two plans offered by Megaline: Surf and Ultimate.\n",
    "\n",
    "- Sample Data:\n",
    "\n",
    "    - The sample data confirms the correct representation of the two plans with their respective pricing and usage limits.\n",
    "    \n",
    "- Data Consistency:\n",
    "\n",
    "    - Ensure the consistency of units. For example, mb_per_month_included is in megabytes, whereas usd_per_gb is in gigabytes. While this might not be an issue, it's important to handle the unit conversion correctly during analysis.\n",
    "    \n",
    "    \n",
    "### No Major Issues Observed\n",
    "\n",
    "<p>Given the observations, there are no major issues with the plans DataFrame. The data types are appropriate, and there are no missing values. The data sample shows the expected plan details accurately.<p>"
   ]
  },
  {
   "cell_type": "markdown",
   "metadata": {},
   "source": [
    " "
   ]
  },
  {
   "cell_type": "markdown",
   "metadata": {},
   "source": [
    "## Fix data"
   ]
  },
  {
   "cell_type": "markdown",
   "metadata": {},
   "source": [
    "None Needed\n"
   ]
  },
  {
   "cell_type": "markdown",
   "metadata": {},
   "source": [
    "## Enrich data"
   ]
  },
  {
   "cell_type": "markdown",
   "metadata": {},
   "source": [
    "None Needed"
   ]
  },
  {
   "cell_type": "markdown",
   "metadata": {},
   "source": [
    "## Users"
   ]
  },
  {
   "cell_type": "code",
   "execution_count": 5,
   "metadata": {},
   "outputs": [
    {
     "name": "stdout",
     "output_type": "stream",
     "text": [
      "Users Data Info\n",
      "<class 'pandas.core.frame.DataFrame'>\n",
      "RangeIndex: 500 entries, 0 to 499\n",
      "Data columns (total 8 columns):\n",
      " #   Column      Non-Null Count  Dtype \n",
      "---  ------      --------------  ----- \n",
      " 0   user_id     500 non-null    int64 \n",
      " 1   first_name  500 non-null    object\n",
      " 2   last_name   500 non-null    object\n",
      " 3   age         500 non-null    int64 \n",
      " 4   city        500 non-null    object\n",
      " 5   reg_date    500 non-null    object\n",
      " 6   tariff      500 non-null    object\n",
      " 7   churn_date  34 non-null     object\n",
      "dtypes: int64(2), object(6)\n",
      "memory usage: 31.4+ KB\n",
      "None\n",
      "Users Data:\n"
     ]
    },
    {
     "data": {
      "text/html": [
       "<div>\n",
       "<style scoped>\n",
       "    .dataframe tbody tr th:only-of-type {\n",
       "        vertical-align: middle;\n",
       "    }\n",
       "\n",
       "    .dataframe tbody tr th {\n",
       "        vertical-align: top;\n",
       "    }\n",
       "\n",
       "    .dataframe thead th {\n",
       "        text-align: right;\n",
       "    }\n",
       "</style>\n",
       "<table border=\"1\" class=\"dataframe\">\n",
       "  <thead>\n",
       "    <tr style=\"text-align: right;\">\n",
       "      <th></th>\n",
       "      <th>user_id</th>\n",
       "      <th>first_name</th>\n",
       "      <th>last_name</th>\n",
       "      <th>age</th>\n",
       "      <th>city</th>\n",
       "      <th>reg_date</th>\n",
       "      <th>tariff</th>\n",
       "      <th>churn_date</th>\n",
       "    </tr>\n",
       "  </thead>\n",
       "  <tbody>\n",
       "    <tr>\n",
       "      <th>0</th>\n",
       "      <td>1000</td>\n",
       "      <td>Anamaria</td>\n",
       "      <td>Bauer</td>\n",
       "      <td>45</td>\n",
       "      <td>Atlanta-Sandy Springs-Roswell, GA MSA</td>\n",
       "      <td>2018-12-24</td>\n",
       "      <td>ultimate</td>\n",
       "      <td>NaN</td>\n",
       "    </tr>\n",
       "    <tr>\n",
       "      <th>1</th>\n",
       "      <td>1001</td>\n",
       "      <td>Mickey</td>\n",
       "      <td>Wilkerson</td>\n",
       "      <td>28</td>\n",
       "      <td>Seattle-Tacoma-Bellevue, WA MSA</td>\n",
       "      <td>2018-08-13</td>\n",
       "      <td>surf</td>\n",
       "      <td>NaN</td>\n",
       "    </tr>\n",
       "    <tr>\n",
       "      <th>2</th>\n",
       "      <td>1002</td>\n",
       "      <td>Carlee</td>\n",
       "      <td>Hoffman</td>\n",
       "      <td>36</td>\n",
       "      <td>Las Vegas-Henderson-Paradise, NV MSA</td>\n",
       "      <td>2018-10-21</td>\n",
       "      <td>surf</td>\n",
       "      <td>NaN</td>\n",
       "    </tr>\n",
       "    <tr>\n",
       "      <th>3</th>\n",
       "      <td>1003</td>\n",
       "      <td>Reynaldo</td>\n",
       "      <td>Jenkins</td>\n",
       "      <td>52</td>\n",
       "      <td>Tulsa, OK MSA</td>\n",
       "      <td>2018-01-28</td>\n",
       "      <td>surf</td>\n",
       "      <td>NaN</td>\n",
       "    </tr>\n",
       "    <tr>\n",
       "      <th>4</th>\n",
       "      <td>1004</td>\n",
       "      <td>Leonila</td>\n",
       "      <td>Thompson</td>\n",
       "      <td>40</td>\n",
       "      <td>Seattle-Tacoma-Bellevue, WA MSA</td>\n",
       "      <td>2018-05-23</td>\n",
       "      <td>surf</td>\n",
       "      <td>NaN</td>\n",
       "    </tr>\n",
       "  </tbody>\n",
       "</table>\n",
       "</div>"
      ],
      "text/plain": [
       "   user_id first_name  last_name  age                                   city  \\\n",
       "0     1000   Anamaria      Bauer   45  Atlanta-Sandy Springs-Roswell, GA MSA   \n",
       "1     1001     Mickey  Wilkerson   28        Seattle-Tacoma-Bellevue, WA MSA   \n",
       "2     1002     Carlee    Hoffman   36   Las Vegas-Henderson-Paradise, NV MSA   \n",
       "3     1003   Reynaldo    Jenkins   52                          Tulsa, OK MSA   \n",
       "4     1004    Leonila   Thompson   40        Seattle-Tacoma-Bellevue, WA MSA   \n",
       "\n",
       "     reg_date    tariff churn_date  \n",
       "0  2018-12-24  ultimate        NaN  \n",
       "1  2018-08-13      surf        NaN  \n",
       "2  2018-10-21      surf        NaN  \n",
       "3  2018-01-28      surf        NaN  \n",
       "4  2018-05-23      surf        NaN  "
      ]
     },
     "execution_count": 5,
     "metadata": {},
     "output_type": "execute_result"
    }
   ],
   "source": [
    "# Print the general/summary information about the users' DataFrame\n",
    "\n",
    "print(\"Users Data Info\")\n",
    "print(users_data.info())\n",
    "\n",
    "print(\"Users Data:\")\n",
    "users_data.head()"
   ]
  },
  {
   "cell_type": "code",
   "execution_count": 6,
   "metadata": {},
   "outputs": [
    {
     "data": {
      "text/html": [
       "<div>\n",
       "<style scoped>\n",
       "    .dataframe tbody tr th:only-of-type {\n",
       "        vertical-align: middle;\n",
       "    }\n",
       "\n",
       "    .dataframe tbody tr th {\n",
       "        vertical-align: top;\n",
       "    }\n",
       "\n",
       "    .dataframe thead th {\n",
       "        text-align: right;\n",
       "    }\n",
       "</style>\n",
       "<table border=\"1\" class=\"dataframe\">\n",
       "  <thead>\n",
       "    <tr style=\"text-align: right;\">\n",
       "      <th></th>\n",
       "      <th>user_id</th>\n",
       "      <th>first_name</th>\n",
       "      <th>last_name</th>\n",
       "      <th>age</th>\n",
       "      <th>city</th>\n",
       "      <th>reg_date</th>\n",
       "      <th>tariff</th>\n",
       "      <th>churn_date</th>\n",
       "    </tr>\n",
       "  </thead>\n",
       "  <tbody>\n",
       "    <tr>\n",
       "      <th>450</th>\n",
       "      <td>1450</td>\n",
       "      <td>Errol</td>\n",
       "      <td>Marquez</td>\n",
       "      <td>67</td>\n",
       "      <td>Bakersfield, CA MSA</td>\n",
       "      <td>2018-06-16</td>\n",
       "      <td>ultimate</td>\n",
       "      <td>NaN</td>\n",
       "    </tr>\n",
       "    <tr>\n",
       "      <th>383</th>\n",
       "      <td>1383</td>\n",
       "      <td>Margarito</td>\n",
       "      <td>Mccoy</td>\n",
       "      <td>52</td>\n",
       "      <td>Tampa-St. Petersburg-Clearwater, FL MSA</td>\n",
       "      <td>2018-10-10</td>\n",
       "      <td>ultimate</td>\n",
       "      <td>NaN</td>\n",
       "    </tr>\n",
       "    <tr>\n",
       "      <th>484</th>\n",
       "      <td>1484</td>\n",
       "      <td>Delpha</td>\n",
       "      <td>Baldwin</td>\n",
       "      <td>46</td>\n",
       "      <td>Dallas-Fort Worth-Arlington, TX MSA</td>\n",
       "      <td>2018-11-29</td>\n",
       "      <td>surf</td>\n",
       "      <td>NaN</td>\n",
       "    </tr>\n",
       "    <tr>\n",
       "      <th>153</th>\n",
       "      <td>1153</td>\n",
       "      <td>Kathaleen</td>\n",
       "      <td>Crawford</td>\n",
       "      <td>30</td>\n",
       "      <td>Bridgeport-Stamford-Norwalk, CT MSA</td>\n",
       "      <td>2018-06-19</td>\n",
       "      <td>surf</td>\n",
       "      <td>NaN</td>\n",
       "    </tr>\n",
       "    <tr>\n",
       "      <th>234</th>\n",
       "      <td>1234</td>\n",
       "      <td>Matt</td>\n",
       "      <td>Taylor</td>\n",
       "      <td>19</td>\n",
       "      <td>Seattle-Tacoma-Bellevue, WA MSA</td>\n",
       "      <td>2018-09-12</td>\n",
       "      <td>ultimate</td>\n",
       "      <td>NaN</td>\n",
       "    </tr>\n",
       "  </tbody>\n",
       "</table>\n",
       "</div>"
      ],
      "text/plain": [
       "     user_id first_name last_name  age  \\\n",
       "450     1450      Errol   Marquez   67   \n",
       "383     1383  Margarito     Mccoy   52   \n",
       "484     1484     Delpha   Baldwin   46   \n",
       "153     1153  Kathaleen  Crawford   30   \n",
       "234     1234       Matt    Taylor   19   \n",
       "\n",
       "                                        city    reg_date    tariff churn_date  \n",
       "450                      Bakersfield, CA MSA  2018-06-16  ultimate        NaN  \n",
       "383  Tampa-St. Petersburg-Clearwater, FL MSA  2018-10-10  ultimate        NaN  \n",
       "484      Dallas-Fort Worth-Arlington, TX MSA  2018-11-29      surf        NaN  \n",
       "153      Bridgeport-Stamford-Norwalk, CT MSA  2018-06-19      surf        NaN  \n",
       "234          Seattle-Tacoma-Bellevue, WA MSA  2018-09-12  ultimate        NaN  "
      ]
     },
     "execution_count": 6,
     "metadata": {},
     "output_type": "execute_result"
    }
   ],
   "source": [
    "# Print a sample of data for users\n",
    "\n",
    "users_data.sample(5)"
   ]
  },
  {
   "cell_type": "markdown",
   "metadata": {},
   "source": [
    "### Observations\n",
    "\n",
    "- Missing Data:\n",
    "\n",
    "    - The churn_date column has many missing values (466 out of 500 entries are NaT), which indicates that most users are still active.\n",
    "\n",
    "- Data Structure:\n",
    "\n",
    "    - There are 500 entries (rows) in the DataFrame, corresponding to the 500 Megaline clients.\n",
    "\n",
    "- Sample Data:\n",
    "\n",
    "    - The sample data shows a variety of users with different names, ages, cities, registration dates, and plans. Some users have churned (have a churn_date), while others are still active (no churn_date).\n",
    "    \n",
    "    \n",
    "### Potential Issues\n",
    "\n",
    "- Missing Data:\n",
    "\n",
    "    - The churn_date column has many missing values. This is expected since only users who have churned will have a churn_date. We can handle these missing values appropriately in our analysis, for example, by filling missing churn_date values with a specific marker or leaving them as NaN.\n",
    "\n",
    "- Data Consistency:\n",
    "\n",
    "    - Check for any inconsistencies in categorical data such as `city`. Ensure there are no typos or inconsistent entries. Also need to change `tariff` to `plan`."
   ]
  },
  {
   "cell_type": "markdown",
   "metadata": {},
   "source": [
    " "
   ]
  },
  {
   "cell_type": "markdown",
   "metadata": {},
   "source": [
    "### Fix Data"
   ]
  },
  {
   "cell_type": "code",
   "execution_count": 7,
   "metadata": {},
   "outputs": [
    {
     "name": "stdout",
     "output_type": "stream",
     "text": [
      "['Atlanta-Sandy Springs-Roswell, GA MSA' 'Seattle-Tacoma-Bellevue, WA MSA'\n",
      " 'Las Vegas-Henderson-Paradise, NV MSA' 'Tulsa, OK MSA'\n",
      " 'Dallas-Fort Worth-Arlington, TX MSA'\n",
      " 'San Francisco-Oakland-Berkeley, CA MSA' 'Grand Rapids-Kentwood, MI MSA'\n",
      " 'Orlando-Kissimmee-Sanford, FL MSA'\n",
      " 'San Jose-Sunnyvale-Santa Clara, CA MSA' 'Cleveland-Elyria, OH MSA'\n",
      " 'Chicago-Naperville-Elgin, IL-IN-WI MSA' 'Knoxville, TN MSA'\n",
      " 'New York-Newark-Jersey City, NY-NJ-PA MSA' 'Pittsburgh, PA MSA'\n",
      " 'Fresno, CA MSA' 'Washington-Arlington-Alexandria, DC-VA-MD-WV MSA'\n",
      " 'Indianapolis-Carmel-Anderson, IN MSA' 'Jacksonville, FL MSA'\n",
      " 'Los Angeles-Long Beach-Anaheim, CA MSA'\n",
      " 'Omaha-Council Bluffs, NE-IA MSA'\n",
      " 'Houston-The Woodlands-Sugar Land, TX MSA'\n",
      " 'Philadelphia-Camden-Wilmington, PA-NJ-DE-MD MSA'\n",
      " 'Tampa-St. Petersburg-Clearwater, FL MSA' 'Birmingham-Hoover, AL MSA'\n",
      " 'Oklahoma City, OK MSA' 'Charlotte-Concord-Gastonia, NC-SC MSA'\n",
      " 'Denver-Aurora-Lakewood, CO MSA'\n",
      " 'Nashville-Davidson–Murfreesboro–Franklin, TN MSA' 'Columbus, OH MSA'\n",
      " 'Albuquerque, NM MSA' 'Boston-Cambridge-Newton, MA-NH MSA'\n",
      " 'Miami-Fort Lauderdale-West Palm Beach, FL MSA'\n",
      " 'San Diego-Chula Vista-Carlsbad, CA MSA' 'Phoenix-Mesa-Chandler, AZ MSA'\n",
      " 'Portland-Vancouver-Hillsboro, OR-WA MSA' 'Cincinnati, OH-KY-IN MSA'\n",
      " 'Columbia, SC MSA' 'San Antonio-New Braunfels, TX MSA'\n",
      " 'Buffalo-Cheektowaga, NY MSA' 'Memphis, TN-MS-AR MSA'\n",
      " 'Riverside-San Bernardino-Ontario, CA MSA'\n",
      " 'Louisville/Jefferson County, KY-IN MSA'\n",
      " 'Albany-Schenectady-Troy, NY MSA' 'Providence-Warwick, RI-MA MSA'\n",
      " 'Salt Lake City, UT MSA' 'Urban Honolulu, HI MSA' 'El Paso, TX MSA'\n",
      " 'New Haven-Milford, CT MSA' 'North Port-Sarasota-Bradenton, FL MSA'\n",
      " 'Baton Rouge, LA MSA' 'New Orleans-Metairie, LA MSA'\n",
      " 'Bridgeport-Stamford-Norwalk, CT MSA'\n",
      " 'Virginia Beach-Norfolk-Newport News, VA-NC MSA'\n",
      " 'Baltimore-Columbia-Towson, MD MSA' 'Milwaukee-Waukesha, WI MSA'\n",
      " 'Oxnard-Thousand Oaks-Ventura, CA MSA'\n",
      " 'Sacramento–Roseville–Folsom, CA MSA'\n",
      " 'Austin-Round Rock-Georgetown, TX MSA' 'Richmond, VA MSA'\n",
      " 'St. Louis, MO-IL MSA' 'Minneapolis-St. Paul-Bloomington, MN-WI MSA'\n",
      " 'Dayton-Kettering, OH MSA' 'Bakersfield, CA MSA'\n",
      " 'Detroit-Warren-Dearborn, MI MSA' 'Kansas City, MO-KS MSA'\n",
      " 'Charleston-North Charleston, SC MSA' 'Rochester, NY MSA'\n",
      " 'Raleigh-Cary, NC MSA' 'Colorado Springs, CO MSA'\n",
      " 'Greensboro-High Point, NC MSA' 'Tucson, AZ MSA' 'Stockton, CA MSA'\n",
      " 'Cape Coral-Fort Myers, FL MSA']\n"
     ]
    }
   ],
   "source": [
    "# Fill missing churn_date with a specific marker if necessary, for example, 'Still Active'\n",
    "users_data['churn_date'].fillna('Still Active', inplace=True)\n",
    "\n",
    "# Check for unique values in categorical columns\n",
    "print(users_data['city'].unique())\n"
   ]
  },
  {
   "cell_type": "markdown",
   "metadata": {},
   "source": [
    "### Enrich Data"
   ]
  },
  {
   "cell_type": "code",
   "execution_count": 8,
   "metadata": {},
   "outputs": [],
   "source": [
    "# Convert reg_date and churn_date to datetime\n",
    "users_data['reg_date'] = pd.to_datetime(users_data['reg_date'])\n",
    "users_data['churn_date'] = pd.to_datetime(users_data['churn_date'], errors='coerce')\n",
    "\n",
    "# created a month column\n",
    "users_data['month'] = users_data.reg_date.dt.month\n",
    "\n",
    "# change name from tarrif to plan\n",
    "users_data.rename(columns={'tariff': 'plan'}, inplace=True)\n"
   ]
  },
  {
   "cell_type": "markdown",
   "metadata": {},
   "source": [
    "## Calls"
   ]
  },
  {
   "cell_type": "code",
   "execution_count": 9,
   "metadata": {},
   "outputs": [
    {
     "name": "stdout",
     "output_type": "stream",
     "text": [
      "Calls Data Info\n",
      "<class 'pandas.core.frame.DataFrame'>\n",
      "RangeIndex: 137735 entries, 0 to 137734\n",
      "Data columns (total 4 columns):\n",
      " #   Column     Non-Null Count   Dtype  \n",
      "---  ------     --------------   -----  \n",
      " 0   id         137735 non-null  object \n",
      " 1   user_id    137735 non-null  int64  \n",
      " 2   call_date  137735 non-null  object \n",
      " 3   duration   137735 non-null  float64\n",
      "dtypes: float64(1), int64(1), object(2)\n",
      "memory usage: 4.2+ MB\n",
      "None\n",
      "Calls Data:\n"
     ]
    },
    {
     "data": {
      "text/html": [
       "<div>\n",
       "<style scoped>\n",
       "    .dataframe tbody tr th:only-of-type {\n",
       "        vertical-align: middle;\n",
       "    }\n",
       "\n",
       "    .dataframe tbody tr th {\n",
       "        vertical-align: top;\n",
       "    }\n",
       "\n",
       "    .dataframe thead th {\n",
       "        text-align: right;\n",
       "    }\n",
       "</style>\n",
       "<table border=\"1\" class=\"dataframe\">\n",
       "  <thead>\n",
       "    <tr style=\"text-align: right;\">\n",
       "      <th></th>\n",
       "      <th>id</th>\n",
       "      <th>user_id</th>\n",
       "      <th>call_date</th>\n",
       "      <th>duration</th>\n",
       "    </tr>\n",
       "  </thead>\n",
       "  <tbody>\n",
       "    <tr>\n",
       "      <th>0</th>\n",
       "      <td>1000_93</td>\n",
       "      <td>1000</td>\n",
       "      <td>2018-12-27</td>\n",
       "      <td>8.52</td>\n",
       "    </tr>\n",
       "    <tr>\n",
       "      <th>1</th>\n",
       "      <td>1000_145</td>\n",
       "      <td>1000</td>\n",
       "      <td>2018-12-27</td>\n",
       "      <td>13.66</td>\n",
       "    </tr>\n",
       "    <tr>\n",
       "      <th>2</th>\n",
       "      <td>1000_247</td>\n",
       "      <td>1000</td>\n",
       "      <td>2018-12-27</td>\n",
       "      <td>14.48</td>\n",
       "    </tr>\n",
       "    <tr>\n",
       "      <th>3</th>\n",
       "      <td>1000_309</td>\n",
       "      <td>1000</td>\n",
       "      <td>2018-12-28</td>\n",
       "      <td>5.76</td>\n",
       "    </tr>\n",
       "    <tr>\n",
       "      <th>4</th>\n",
       "      <td>1000_380</td>\n",
       "      <td>1000</td>\n",
       "      <td>2018-12-30</td>\n",
       "      <td>4.22</td>\n",
       "    </tr>\n",
       "  </tbody>\n",
       "</table>\n",
       "</div>"
      ],
      "text/plain": [
       "         id  user_id   call_date  duration\n",
       "0   1000_93     1000  2018-12-27      8.52\n",
       "1  1000_145     1000  2018-12-27     13.66\n",
       "2  1000_247     1000  2018-12-27     14.48\n",
       "3  1000_309     1000  2018-12-28      5.76\n",
       "4  1000_380     1000  2018-12-30      4.22"
      ]
     },
     "execution_count": 9,
     "metadata": {},
     "output_type": "execute_result"
    }
   ],
   "source": [
    "# Print the general/summary information about the calls' DataFrame\n",
    "\n",
    "print(\"Calls Data Info\")\n",
    "print(calls_data.info())\n",
    "\n",
    "print(\"Calls Data:\")\n",
    "calls_data.head()"
   ]
  },
  {
   "cell_type": "code",
   "execution_count": 10,
   "metadata": {},
   "outputs": [
    {
     "data": {
      "text/html": [
       "<div>\n",
       "<style scoped>\n",
       "    .dataframe tbody tr th:only-of-type {\n",
       "        vertical-align: middle;\n",
       "    }\n",
       "\n",
       "    .dataframe tbody tr th {\n",
       "        vertical-align: top;\n",
       "    }\n",
       "\n",
       "    .dataframe thead th {\n",
       "        text-align: right;\n",
       "    }\n",
       "</style>\n",
       "<table border=\"1\" class=\"dataframe\">\n",
       "  <thead>\n",
       "    <tr style=\"text-align: right;\">\n",
       "      <th></th>\n",
       "      <th>id</th>\n",
       "      <th>user_id</th>\n",
       "      <th>call_date</th>\n",
       "      <th>duration</th>\n",
       "    </tr>\n",
       "  </thead>\n",
       "  <tbody>\n",
       "    <tr>\n",
       "      <th>127951</th>\n",
       "      <td>1459_95</td>\n",
       "      <td>1459</td>\n",
       "      <td>2018-12-14</td>\n",
       "      <td>0.65</td>\n",
       "    </tr>\n",
       "    <tr>\n",
       "      <th>20326</th>\n",
       "      <td>1077_293</td>\n",
       "      <td>1077</td>\n",
       "      <td>2018-12-09</td>\n",
       "      <td>18.67</td>\n",
       "    </tr>\n",
       "    <tr>\n",
       "      <th>91339</th>\n",
       "      <td>1329_146</td>\n",
       "      <td>1329</td>\n",
       "      <td>2018-09-09</td>\n",
       "      <td>0.00</td>\n",
       "    </tr>\n",
       "    <tr>\n",
       "      <th>130616</th>\n",
       "      <td>1470_65</td>\n",
       "      <td>1470</td>\n",
       "      <td>2018-05-30</td>\n",
       "      <td>17.58</td>\n",
       "    </tr>\n",
       "    <tr>\n",
       "      <th>85195</th>\n",
       "      <td>1313_175</td>\n",
       "      <td>1313</td>\n",
       "      <td>2018-11-15</td>\n",
       "      <td>17.06</td>\n",
       "    </tr>\n",
       "  </tbody>\n",
       "</table>\n",
       "</div>"
      ],
      "text/plain": [
       "              id  user_id   call_date  duration\n",
       "127951   1459_95     1459  2018-12-14      0.65\n",
       "20326   1077_293     1077  2018-12-09     18.67\n",
       "91339   1329_146     1329  2018-09-09      0.00\n",
       "130616   1470_65     1470  2018-05-30     17.58\n",
       "85195   1313_175     1313  2018-11-15     17.06"
      ]
     },
     "execution_count": 10,
     "metadata": {},
     "output_type": "execute_result"
    }
   ],
   "source": [
    "# Print a sample of data for calls\n",
    "\n",
    "calls_data.sample(5)\n"
   ]
  },
  {
   "cell_type": "markdown",
   "metadata": {},
   "source": [
    "### Observations\n",
    "\n",
    "- Missing Data:\n",
    "\n",
    "    - No missing data is observed; all columns have 137735 non-null entries.\n",
    "\n",
    "- Data Structure:\n",
    "\n",
    "    - There are 137735 entries (rows) in the DataFrame, corresponding to individual call records.\n",
    "\n",
    "- Sample Data:\n",
    "\n",
    "    - The sample data shows various call durations, dates, and user IDs. Notably, some calls have a duration of 0.0, indicating either missed calls or calls that did not connect.\n",
    "    \n",
    "    \n",
    "### Potential Issues\n",
    "\n",
    "- Data Types Issues:\n",
    "\n",
    "    - The call_date column is currently an object. It should be converted to datetime64[ns] for proper date manipulation and analysis.\n",
    "\n",
    "- Missing Data:\n",
    "\n",
    "    - There are no missing data issues based on the info() output.\n",
    "\n",
    "- Data Consistency:\n",
    "\n",
    "    - Check for any inconsistencies in call duration, such as negative values (which should not exist).\n",
    "\n",
    "- Calls Duration:\n",
    "\n",
    "    - Calls with a duration of 0.0 need to be understood in context. If these are valid records (e.g., missed calls), they should be retained. Otherwise, consider filtering them out."
   ]
  },
  {
   "cell_type": "markdown",
   "metadata": {},
   "source": [
    " "
   ]
  },
  {
   "cell_type": "markdown",
   "metadata": {},
   "source": [
    "### Fix data"
   ]
  },
  {
   "cell_type": "code",
   "execution_count": 11,
   "metadata": {},
   "outputs": [],
   "source": [
    "# Convert call_date to datetime\n",
    "calls_data['call_date'] = pd.to_datetime(calls_data['call_date'])\n",
    "\n"
   ]
  },
  {
   "cell_type": "markdown",
   "metadata": {},
   "source": [
    "### Enrich data"
   ]
  },
  {
   "cell_type": "code",
   "execution_count": 12,
   "metadata": {},
   "outputs": [
    {
     "name": "stdout",
     "output_type": "stream",
     "text": [
      "Negative durations:\n",
      " Empty DataFrame\n",
      "Columns: [id, user_id, call_date, duration]\n",
      "Index: []\n",
      "Zero duration calls:\n",
      "               id  user_id  call_date  duration\n",
      "19        1001_4     1001 2018-12-05       0.0\n",
      "25       1001_13     1001 2018-12-24       0.0\n",
      "31       1001_30     1001 2018-10-17       0.0\n",
      "32       1001_31     1001 2018-11-03       0.0\n",
      "34       1001_35     1001 2018-12-21       0.0\n",
      "...          ...      ...        ...       ...\n",
      "137714  1499_183     1499 2018-11-10       0.0\n",
      "137715  1499_184     1499 2018-09-15       0.0\n",
      "137720  1499_189     1499 2018-12-27       0.0\n",
      "137722  1499_191     1499 2018-12-24       0.0\n",
      "137725  1499_194     1499 2018-10-31       0.0\n",
      "\n",
      "[26834 rows x 4 columns]\n"
     ]
    }
   ],
   "source": [
    "# Check for negative durations\n",
    "negative_durations = calls_data[calls_data['duration'] < 0]\n",
    "print(\"Negative durations:\\n\", negative_durations)\n",
    "\n",
    "# Check for zero duration calls\n",
    "zero_duration_calls = calls_data[calls_data['duration'] == 0]\n",
    "print(\"Zero duration calls:\\n\", zero_duration_calls)"
   ]
  },
  {
   "cell_type": "markdown",
   "metadata": {},
   "source": [
    "## Messages"
   ]
  },
  {
   "cell_type": "code",
   "execution_count": 13,
   "metadata": {},
   "outputs": [
    {
     "name": "stdout",
     "output_type": "stream",
     "text": [
      "Messages Data Info\n",
      "<class 'pandas.core.frame.DataFrame'>\n",
      "RangeIndex: 76051 entries, 0 to 76050\n",
      "Data columns (total 3 columns):\n",
      " #   Column        Non-Null Count  Dtype \n",
      "---  ------        --------------  ----- \n",
      " 0   id            76051 non-null  object\n",
      " 1   user_id       76051 non-null  int64 \n",
      " 2   message_date  76051 non-null  object\n",
      "dtypes: int64(1), object(2)\n",
      "memory usage: 1.7+ MB\n",
      "None\n",
      "Messages Data:\n"
     ]
    },
    {
     "data": {
      "text/html": [
       "<div>\n",
       "<style scoped>\n",
       "    .dataframe tbody tr th:only-of-type {\n",
       "        vertical-align: middle;\n",
       "    }\n",
       "\n",
       "    .dataframe tbody tr th {\n",
       "        vertical-align: top;\n",
       "    }\n",
       "\n",
       "    .dataframe thead th {\n",
       "        text-align: right;\n",
       "    }\n",
       "</style>\n",
       "<table border=\"1\" class=\"dataframe\">\n",
       "  <thead>\n",
       "    <tr style=\"text-align: right;\">\n",
       "      <th></th>\n",
       "      <th>id</th>\n",
       "      <th>user_id</th>\n",
       "      <th>message_date</th>\n",
       "    </tr>\n",
       "  </thead>\n",
       "  <tbody>\n",
       "    <tr>\n",
       "      <th>0</th>\n",
       "      <td>1000_125</td>\n",
       "      <td>1000</td>\n",
       "      <td>2018-12-27</td>\n",
       "    </tr>\n",
       "    <tr>\n",
       "      <th>1</th>\n",
       "      <td>1000_160</td>\n",
       "      <td>1000</td>\n",
       "      <td>2018-12-31</td>\n",
       "    </tr>\n",
       "    <tr>\n",
       "      <th>2</th>\n",
       "      <td>1000_223</td>\n",
       "      <td>1000</td>\n",
       "      <td>2018-12-31</td>\n",
       "    </tr>\n",
       "    <tr>\n",
       "      <th>3</th>\n",
       "      <td>1000_251</td>\n",
       "      <td>1000</td>\n",
       "      <td>2018-12-27</td>\n",
       "    </tr>\n",
       "    <tr>\n",
       "      <th>4</th>\n",
       "      <td>1000_255</td>\n",
       "      <td>1000</td>\n",
       "      <td>2018-12-26</td>\n",
       "    </tr>\n",
       "  </tbody>\n",
       "</table>\n",
       "</div>"
      ],
      "text/plain": [
       "         id  user_id message_date\n",
       "0  1000_125     1000   2018-12-27\n",
       "1  1000_160     1000   2018-12-31\n",
       "2  1000_223     1000   2018-12-31\n",
       "3  1000_251     1000   2018-12-27\n",
       "4  1000_255     1000   2018-12-26"
      ]
     },
     "execution_count": 13,
     "metadata": {},
     "output_type": "execute_result"
    }
   ],
   "source": [
    "# Print the general/summary information about the messages' DataFrame\n",
    "\n",
    "print(\"Messages Data Info\")\n",
    "print(messages_data.info())\n",
    "\n",
    "print(\"Messages Data:\")\n",
    "messages_data.head()\n"
   ]
  },
  {
   "cell_type": "code",
   "execution_count": 14,
   "metadata": {},
   "outputs": [
    {
     "data": {
      "text/html": [
       "<div>\n",
       "<style scoped>\n",
       "    .dataframe tbody tr th:only-of-type {\n",
       "        vertical-align: middle;\n",
       "    }\n",
       "\n",
       "    .dataframe tbody tr th {\n",
       "        vertical-align: top;\n",
       "    }\n",
       "\n",
       "    .dataframe thead th {\n",
       "        text-align: right;\n",
       "    }\n",
       "</style>\n",
       "<table border=\"1\" class=\"dataframe\">\n",
       "  <thead>\n",
       "    <tr style=\"text-align: right;\">\n",
       "      <th></th>\n",
       "      <th>id</th>\n",
       "      <th>user_id</th>\n",
       "      <th>message_date</th>\n",
       "    </tr>\n",
       "  </thead>\n",
       "  <tbody>\n",
       "    <tr>\n",
       "      <th>58831</th>\n",
       "      <td>1374_5</td>\n",
       "      <td>1374</td>\n",
       "      <td>2018-10-09</td>\n",
       "    </tr>\n",
       "    <tr>\n",
       "      <th>46708</th>\n",
       "      <td>1318_94</td>\n",
       "      <td>1318</td>\n",
       "      <td>2018-10-09</td>\n",
       "    </tr>\n",
       "    <tr>\n",
       "      <th>29255</th>\n",
       "      <td>1179_51</td>\n",
       "      <td>1179</td>\n",
       "      <td>2018-12-18</td>\n",
       "    </tr>\n",
       "    <tr>\n",
       "      <th>12589</th>\n",
       "      <td>1082_131</td>\n",
       "      <td>1082</td>\n",
       "      <td>2018-10-13</td>\n",
       "    </tr>\n",
       "    <tr>\n",
       "      <th>30861</th>\n",
       "      <td>1194_20</td>\n",
       "      <td>1194</td>\n",
       "      <td>2018-10-14</td>\n",
       "    </tr>\n",
       "  </tbody>\n",
       "</table>\n",
       "</div>"
      ],
      "text/plain": [
       "             id  user_id message_date\n",
       "58831    1374_5     1374   2018-10-09\n",
       "46708   1318_94     1318   2018-10-09\n",
       "29255   1179_51     1179   2018-12-18\n",
       "12589  1082_131     1082   2018-10-13\n",
       "30861   1194_20     1194   2018-10-14"
      ]
     },
     "execution_count": 14,
     "metadata": {},
     "output_type": "execute_result"
    }
   ],
   "source": [
    "# Print a sample of data for messages\n",
    "\n",
    "messages_data.sample(5)\n"
   ]
  },
  {
   "cell_type": "markdown",
   "metadata": {},
   "source": [
    "### Observations\n",
    "\n",
    "- Missing Data:\n",
    "\n",
    "    - No missing data is observed; all columns have 76051 non-null entries.\n",
    "\n",
    "- Data Structure:\n",
    "\n",
    "    - There are 76051 entries (rows) in the DataFrame, corresponding to individual text message records.\n",
    "\n",
    "- Sample Data:\n",
    "\n",
    "    - The sample data shows various message dates and user IDs, indicating when each message was sent and by which user.\n",
    "    \n",
    "    \n",
    "### Potential Issues\n",
    "\n",
    "- Data Types:\n",
    "\n",
    "    - The message_date column is currently an object. It should be converted to datetime64[ns] for proper date manipulation and analysis.\n"
   ]
  },
  {
   "cell_type": "markdown",
   "metadata": {},
   "source": [
    " "
   ]
  },
  {
   "cell_type": "markdown",
   "metadata": {},
   "source": [
    "### Fix data"
   ]
  },
  {
   "cell_type": "code",
   "execution_count": 15,
   "metadata": {},
   "outputs": [],
   "source": [
    "# Convert message_date to datetime\n",
    "messages_data['message_date'] = pd.to_datetime(messages_data['message_date'])\n"
   ]
  },
  {
   "cell_type": "markdown",
   "metadata": {},
   "source": [
    "### Enrich data"
   ]
  },
  {
   "cell_type": "markdown",
   "metadata": {},
   "source": [
    "None Needed"
   ]
  },
  {
   "cell_type": "markdown",
   "metadata": {},
   "source": [
    "## Internet"
   ]
  },
  {
   "cell_type": "code",
   "execution_count": 16,
   "metadata": {},
   "outputs": [
    {
     "name": "stdout",
     "output_type": "stream",
     "text": [
      "Internet Data Info\n",
      "<class 'pandas.core.frame.DataFrame'>\n",
      "RangeIndex: 104825 entries, 0 to 104824\n",
      "Data columns (total 4 columns):\n",
      " #   Column        Non-Null Count   Dtype  \n",
      "---  ------        --------------   -----  \n",
      " 0   id            104825 non-null  object \n",
      " 1   user_id       104825 non-null  int64  \n",
      " 2   session_date  104825 non-null  object \n",
      " 3   mb_used       104825 non-null  float64\n",
      "dtypes: float64(1), int64(1), object(2)\n",
      "memory usage: 3.2+ MB\n",
      "None\n",
      "Internet Data:\n"
     ]
    },
    {
     "data": {
      "text/html": [
       "<div>\n",
       "<style scoped>\n",
       "    .dataframe tbody tr th:only-of-type {\n",
       "        vertical-align: middle;\n",
       "    }\n",
       "\n",
       "    .dataframe tbody tr th {\n",
       "        vertical-align: top;\n",
       "    }\n",
       "\n",
       "    .dataframe thead th {\n",
       "        text-align: right;\n",
       "    }\n",
       "</style>\n",
       "<table border=\"1\" class=\"dataframe\">\n",
       "  <thead>\n",
       "    <tr style=\"text-align: right;\">\n",
       "      <th></th>\n",
       "      <th>id</th>\n",
       "      <th>user_id</th>\n",
       "      <th>session_date</th>\n",
       "      <th>mb_used</th>\n",
       "    </tr>\n",
       "  </thead>\n",
       "  <tbody>\n",
       "    <tr>\n",
       "      <th>0</th>\n",
       "      <td>1000_13</td>\n",
       "      <td>1000</td>\n",
       "      <td>2018-12-29</td>\n",
       "      <td>89.86</td>\n",
       "    </tr>\n",
       "    <tr>\n",
       "      <th>1</th>\n",
       "      <td>1000_204</td>\n",
       "      <td>1000</td>\n",
       "      <td>2018-12-31</td>\n",
       "      <td>0.00</td>\n",
       "    </tr>\n",
       "    <tr>\n",
       "      <th>2</th>\n",
       "      <td>1000_379</td>\n",
       "      <td>1000</td>\n",
       "      <td>2018-12-28</td>\n",
       "      <td>660.40</td>\n",
       "    </tr>\n",
       "    <tr>\n",
       "      <th>3</th>\n",
       "      <td>1000_413</td>\n",
       "      <td>1000</td>\n",
       "      <td>2018-12-26</td>\n",
       "      <td>270.99</td>\n",
       "    </tr>\n",
       "    <tr>\n",
       "      <th>4</th>\n",
       "      <td>1000_442</td>\n",
       "      <td>1000</td>\n",
       "      <td>2018-12-27</td>\n",
       "      <td>880.22</td>\n",
       "    </tr>\n",
       "  </tbody>\n",
       "</table>\n",
       "</div>"
      ],
      "text/plain": [
       "         id  user_id session_date  mb_used\n",
       "0   1000_13     1000   2018-12-29    89.86\n",
       "1  1000_204     1000   2018-12-31     0.00\n",
       "2  1000_379     1000   2018-12-28   660.40\n",
       "3  1000_413     1000   2018-12-26   270.99\n",
       "4  1000_442     1000   2018-12-27   880.22"
      ]
     },
     "execution_count": 16,
     "metadata": {},
     "output_type": "execute_result"
    }
   ],
   "source": [
    "# Print the general/summary information about the internet DataFrame\n",
    "\n",
    "print(\"Internet Data Info\")\n",
    "print(internet_data.info())\n",
    "\n",
    "print(\"Internet Data:\")\n",
    "internet_data.head()"
   ]
  },
  {
   "cell_type": "code",
   "execution_count": 17,
   "metadata": {},
   "outputs": [
    {
     "data": {
      "text/html": [
       "<div>\n",
       "<style scoped>\n",
       "    .dataframe tbody tr th:only-of-type {\n",
       "        vertical-align: middle;\n",
       "    }\n",
       "\n",
       "    .dataframe tbody tr th {\n",
       "        vertical-align: top;\n",
       "    }\n",
       "\n",
       "    .dataframe thead th {\n",
       "        text-align: right;\n",
       "    }\n",
       "</style>\n",
       "<table border=\"1\" class=\"dataframe\">\n",
       "  <thead>\n",
       "    <tr style=\"text-align: right;\">\n",
       "      <th></th>\n",
       "      <th>id</th>\n",
       "      <th>user_id</th>\n",
       "      <th>session_date</th>\n",
       "      <th>mb_used</th>\n",
       "    </tr>\n",
       "  </thead>\n",
       "  <tbody>\n",
       "    <tr>\n",
       "      <th>18004</th>\n",
       "      <td>1081_63</td>\n",
       "      <td>1081</td>\n",
       "      <td>2018-07-18</td>\n",
       "      <td>96.95</td>\n",
       "    </tr>\n",
       "    <tr>\n",
       "      <th>97785</th>\n",
       "      <td>1460_475</td>\n",
       "      <td>1460</td>\n",
       "      <td>2018-09-09</td>\n",
       "      <td>420.38</td>\n",
       "    </tr>\n",
       "    <tr>\n",
       "      <th>49052</th>\n",
       "      <td>1220_56</td>\n",
       "      <td>1220</td>\n",
       "      <td>2018-12-14</td>\n",
       "      <td>458.45</td>\n",
       "    </tr>\n",
       "    <tr>\n",
       "      <th>20631</th>\n",
       "      <td>1095_322</td>\n",
       "      <td>1095</td>\n",
       "      <td>2018-12-03</td>\n",
       "      <td>0.00</td>\n",
       "    </tr>\n",
       "    <tr>\n",
       "      <th>75703</th>\n",
       "      <td>1356_151</td>\n",
       "      <td>1356</td>\n",
       "      <td>2018-12-14</td>\n",
       "      <td>343.34</td>\n",
       "    </tr>\n",
       "  </tbody>\n",
       "</table>\n",
       "</div>"
      ],
      "text/plain": [
       "             id  user_id session_date  mb_used\n",
       "18004   1081_63     1081   2018-07-18    96.95\n",
       "97785  1460_475     1460   2018-09-09   420.38\n",
       "49052   1220_56     1220   2018-12-14   458.45\n",
       "20631  1095_322     1095   2018-12-03     0.00\n",
       "75703  1356_151     1356   2018-12-14   343.34"
      ]
     },
     "execution_count": 17,
     "metadata": {},
     "output_type": "execute_result"
    }
   ],
   "source": [
    "# Print a sample of data for the internet traffic\n",
    "\n",
    "internet_data.sample(5)\n"
   ]
  },
  {
   "cell_type": "markdown",
   "metadata": {},
   "source": [
    "### Observations\n",
    "\n",
    "- Missing Data:\n",
    "\n",
    "    - No missing data is observed; all columns have 104825 non-null entries.\n",
    "\n",
    "- Data Structure:\n",
    "\n",
    "    - There are 104825 entries (rows) in the DataFrame, corresponding to individual internet session records.\n",
    "\n",
    "- Sample Data:\n",
    "\n",
    "    - The sample data shows various amounts of data usage, dates of sessions, and user IDs.\n",
    "    \n",
    "### Potential Issues\n",
    "\n",
    "- Data Types:\n",
    "\n",
    "    - The session_date column is currently an object. It should be converted to datetime64[ns] for proper date manipulation and analysis."
   ]
  },
  {
   "cell_type": "markdown",
   "metadata": {},
   "source": [
    " "
   ]
  },
  {
   "cell_type": "markdown",
   "metadata": {},
   "source": [
    "### Fix data"
   ]
  },
  {
   "cell_type": "code",
   "execution_count": 18,
   "metadata": {},
   "outputs": [],
   "source": [
    "# Convert session_date to datetime\n",
    "internet_data['session_date'] = pd.to_datetime(internet_data['session_date'])\n"
   ]
  },
  {
   "cell_type": "markdown",
   "metadata": {},
   "source": [
    "### Enrich data"
   ]
  },
  {
   "cell_type": "markdown",
   "metadata": {},
   "source": [
    "None Needed"
   ]
  },
  {
   "cell_type": "markdown",
   "metadata": {},
   "source": [
    "## Study plan conditions"
   ]
  },
  {
   "cell_type": "code",
   "execution_count": 19,
   "metadata": {
    "scrolled": true
   },
   "outputs": [
    {
     "data": {
      "text/html": [
       "<div>\n",
       "<style scoped>\n",
       "    .dataframe tbody tr th:only-of-type {\n",
       "        vertical-align: middle;\n",
       "    }\n",
       "\n",
       "    .dataframe tbody tr th {\n",
       "        vertical-align: top;\n",
       "    }\n",
       "\n",
       "    .dataframe thead th {\n",
       "        text-align: right;\n",
       "    }\n",
       "</style>\n",
       "<table border=\"1\" class=\"dataframe\">\n",
       "  <thead>\n",
       "    <tr style=\"text-align: right;\">\n",
       "      <th></th>\n",
       "      <th>messages_included</th>\n",
       "      <th>mb_per_month_included</th>\n",
       "      <th>minutes_included</th>\n",
       "      <th>usd_monthly_pay</th>\n",
       "      <th>usd_per_gb</th>\n",
       "      <th>usd_per_message</th>\n",
       "      <th>usd_per_minute</th>\n",
       "      <th>plan_name</th>\n",
       "    </tr>\n",
       "  </thead>\n",
       "  <tbody>\n",
       "    <tr>\n",
       "      <th>0</th>\n",
       "      <td>50</td>\n",
       "      <td>15360</td>\n",
       "      <td>500</td>\n",
       "      <td>20</td>\n",
       "      <td>10</td>\n",
       "      <td>0.03</td>\n",
       "      <td>0.03</td>\n",
       "      <td>surf</td>\n",
       "    </tr>\n",
       "    <tr>\n",
       "      <th>1</th>\n",
       "      <td>1000</td>\n",
       "      <td>30720</td>\n",
       "      <td>3000</td>\n",
       "      <td>70</td>\n",
       "      <td>7</td>\n",
       "      <td>0.01</td>\n",
       "      <td>0.01</td>\n",
       "      <td>ultimate</td>\n",
       "    </tr>\n",
       "  </tbody>\n",
       "</table>\n",
       "</div>"
      ],
      "text/plain": [
       "   messages_included  mb_per_month_included  minutes_included  \\\n",
       "0                 50                  15360               500   \n",
       "1               1000                  30720              3000   \n",
       "\n",
       "   usd_monthly_pay  usd_per_gb  usd_per_message  usd_per_minute plan_name  \n",
       "0               20          10             0.03            0.03      surf  \n",
       "1               70           7             0.01            0.01  ultimate  "
      ]
     },
     "execution_count": 19,
     "metadata": {},
     "output_type": "execute_result"
    }
   ],
   "source": [
    "# Print out the plan conditions and make sure they are clear for you\n",
    "\n",
    "plans_data"
   ]
  },
  {
   "cell_type": "markdown",
   "metadata": {},
   "source": [
    "## Plan Details and Conditions\n",
    "### Surf Plan:\n",
    "\n",
    "- Monthly charge: $20\n",
    "    - Included:\n",
    "        - 500 minutes\n",
    "        - 50 text messages\n",
    "        - 15 GB of data (15360 MB)\n",
    "\n",
    "    - Overage charges:\n",
    "        - Per minute: $0.03 \n",
    "        - Per text message: $0.03\n",
    "        - Per GB of data: $10\n",
    "\n",
    "### Ultimate Plan:\n",
    "\n",
    "- Monthly charge: $70\n",
    "    - Included:\n",
    "        - 3000 minutes\n",
    "        - 1000 text messages\n",
    "        - 30 GB of data (30720 MB)\n",
    "\n",
    "    - Overage charges:\n",
    "        - Per minute: $0.01\n",
    "        - Per text message: $0.01\n",
    "        - Per GB of data: $7"
   ]
  },
  {
   "cell_type": "markdown",
   "metadata": {},
   "source": [
    "## Aggregate data per user\n",
    "\n",
    "[Now, as the data is clean, aggregate data per user per period in order to have just one record per user per period. It should ease the further analysis a lot.]"
   ]
  },
  {
   "cell_type": "code",
   "execution_count": 20,
   "metadata": {},
   "outputs": [
    {
     "data": {
      "text/html": [
       "<div>\n",
       "<style scoped>\n",
       "    .dataframe tbody tr th:only-of-type {\n",
       "        vertical-align: middle;\n",
       "    }\n",
       "\n",
       "    .dataframe tbody tr th {\n",
       "        vertical-align: top;\n",
       "    }\n",
       "\n",
       "    .dataframe thead th {\n",
       "        text-align: right;\n",
       "    }\n",
       "</style>\n",
       "<table border=\"1\" class=\"dataframe\">\n",
       "  <thead>\n",
       "    <tr style=\"text-align: right;\">\n",
       "      <th></th>\n",
       "      <th>user_id</th>\n",
       "      <th>month</th>\n",
       "      <th>calls_made</th>\n",
       "    </tr>\n",
       "  </thead>\n",
       "  <tbody>\n",
       "    <tr>\n",
       "      <th>0</th>\n",
       "      <td>1000</td>\n",
       "      <td>2018-12</td>\n",
       "      <td>16</td>\n",
       "    </tr>\n",
       "    <tr>\n",
       "      <th>1</th>\n",
       "      <td>1001</td>\n",
       "      <td>2018-08</td>\n",
       "      <td>27</td>\n",
       "    </tr>\n",
       "    <tr>\n",
       "      <th>2</th>\n",
       "      <td>1001</td>\n",
       "      <td>2018-09</td>\n",
       "      <td>49</td>\n",
       "    </tr>\n",
       "    <tr>\n",
       "      <th>3</th>\n",
       "      <td>1001</td>\n",
       "      <td>2018-10</td>\n",
       "      <td>65</td>\n",
       "    </tr>\n",
       "    <tr>\n",
       "      <th>4</th>\n",
       "      <td>1001</td>\n",
       "      <td>2018-11</td>\n",
       "      <td>64</td>\n",
       "    </tr>\n",
       "  </tbody>\n",
       "</table>\n",
       "</div>"
      ],
      "text/plain": [
       "   user_id    month  calls_made\n",
       "0     1000  2018-12          16\n",
       "1     1001  2018-08          27\n",
       "2     1001  2018-09          49\n",
       "3     1001  2018-10          65\n",
       "4     1001  2018-11          64"
      ]
     },
     "execution_count": 20,
     "metadata": {},
     "output_type": "execute_result"
    }
   ],
   "source": [
    "# Calculate the number of calls made by each user per month. Save the result.\n",
    "\n",
    "# Extract month and year from call_date\n",
    "calls_data['month'] = calls_data['call_date'].dt.to_period('M')\n",
    "\n",
    "# Calculate the number of calls made by each user per month\n",
    "calls_per_month = calls_data.groupby(['user_id', 'month']).size().reset_index(name='calls_made')\n",
    "\n",
    "# Display the result\n",
    "calls_per_month.head()"
   ]
  },
  {
   "cell_type": "code",
   "execution_count": 21,
   "metadata": {},
   "outputs": [
    {
     "data": {
      "text/html": [
       "<div>\n",
       "<style scoped>\n",
       "    .dataframe tbody tr th:only-of-type {\n",
       "        vertical-align: middle;\n",
       "    }\n",
       "\n",
       "    .dataframe tbody tr th {\n",
       "        vertical-align: top;\n",
       "    }\n",
       "\n",
       "    .dataframe thead th {\n",
       "        text-align: right;\n",
       "    }\n",
       "</style>\n",
       "<table border=\"1\" class=\"dataframe\">\n",
       "  <thead>\n",
       "    <tr style=\"text-align: right;\">\n",
       "      <th></th>\n",
       "      <th>user_id</th>\n",
       "      <th>month</th>\n",
       "      <th>rounded_duration</th>\n",
       "    </tr>\n",
       "  </thead>\n",
       "  <tbody>\n",
       "    <tr>\n",
       "      <th>0</th>\n",
       "      <td>1000</td>\n",
       "      <td>2018-12</td>\n",
       "      <td>124.0</td>\n",
       "    </tr>\n",
       "    <tr>\n",
       "      <th>1</th>\n",
       "      <td>1001</td>\n",
       "      <td>2018-08</td>\n",
       "      <td>182.0</td>\n",
       "    </tr>\n",
       "    <tr>\n",
       "      <th>2</th>\n",
       "      <td>1001</td>\n",
       "      <td>2018-09</td>\n",
       "      <td>315.0</td>\n",
       "    </tr>\n",
       "    <tr>\n",
       "      <th>3</th>\n",
       "      <td>1001</td>\n",
       "      <td>2018-10</td>\n",
       "      <td>393.0</td>\n",
       "    </tr>\n",
       "    <tr>\n",
       "      <th>4</th>\n",
       "      <td>1001</td>\n",
       "      <td>2018-11</td>\n",
       "      <td>426.0</td>\n",
       "    </tr>\n",
       "  </tbody>\n",
       "</table>\n",
       "</div>"
      ],
      "text/plain": [
       "   user_id    month  rounded_duration\n",
       "0     1000  2018-12             124.0\n",
       "1     1001  2018-08             182.0\n",
       "2     1001  2018-09             315.0\n",
       "3     1001  2018-10             393.0\n",
       "4     1001  2018-11             426.0"
      ]
     },
     "execution_count": 21,
     "metadata": {},
     "output_type": "execute_result"
    }
   ],
   "source": [
    "# Calculate the amount of minutes spent by each user per month. Save the result.\n",
    "\n",
    "# Round up the duration of each call\n",
    "calls_data['rounded_duration'] = np.ceil(calls_data['duration'])\n",
    "\n",
    "monthly_calls = calls_data.groupby(['user_id', 'month'])['rounded_duration'].sum().reset_index()\n",
    "\n",
    "# Display the result\n",
    "monthly_calls.head()"
   ]
  },
  {
   "cell_type": "code",
   "execution_count": 22,
   "metadata": {},
   "outputs": [
    {
     "data": {
      "text/html": [
       "<div>\n",
       "<style scoped>\n",
       "    .dataframe tbody tr th:only-of-type {\n",
       "        vertical-align: middle;\n",
       "    }\n",
       "\n",
       "    .dataframe tbody tr th {\n",
       "        vertical-align: top;\n",
       "    }\n",
       "\n",
       "    .dataframe thead th {\n",
       "        text-align: right;\n",
       "    }\n",
       "</style>\n",
       "<table border=\"1\" class=\"dataframe\">\n",
       "  <thead>\n",
       "    <tr style=\"text-align: right;\">\n",
       "      <th></th>\n",
       "      <th>user_id</th>\n",
       "      <th>month</th>\n",
       "      <th>messages</th>\n",
       "    </tr>\n",
       "  </thead>\n",
       "  <tbody>\n",
       "    <tr>\n",
       "      <th>0</th>\n",
       "      <td>1000</td>\n",
       "      <td>2018-12</td>\n",
       "      <td>11</td>\n",
       "    </tr>\n",
       "    <tr>\n",
       "      <th>1</th>\n",
       "      <td>1001</td>\n",
       "      <td>2018-08</td>\n",
       "      <td>30</td>\n",
       "    </tr>\n",
       "    <tr>\n",
       "      <th>2</th>\n",
       "      <td>1001</td>\n",
       "      <td>2018-09</td>\n",
       "      <td>44</td>\n",
       "    </tr>\n",
       "    <tr>\n",
       "      <th>3</th>\n",
       "      <td>1001</td>\n",
       "      <td>2018-10</td>\n",
       "      <td>53</td>\n",
       "    </tr>\n",
       "    <tr>\n",
       "      <th>4</th>\n",
       "      <td>1001</td>\n",
       "      <td>2018-11</td>\n",
       "      <td>36</td>\n",
       "    </tr>\n",
       "    <tr>\n",
       "      <th>...</th>\n",
       "      <td>...</td>\n",
       "      <td>...</td>\n",
       "      <td>...</td>\n",
       "    </tr>\n",
       "    <tr>\n",
       "      <th>1801</th>\n",
       "      <td>1496</td>\n",
       "      <td>2018-09</td>\n",
       "      <td>21</td>\n",
       "    </tr>\n",
       "    <tr>\n",
       "      <th>1802</th>\n",
       "      <td>1496</td>\n",
       "      <td>2018-10</td>\n",
       "      <td>18</td>\n",
       "    </tr>\n",
       "    <tr>\n",
       "      <th>1803</th>\n",
       "      <td>1496</td>\n",
       "      <td>2018-11</td>\n",
       "      <td>13</td>\n",
       "    </tr>\n",
       "    <tr>\n",
       "      <th>1804</th>\n",
       "      <td>1496</td>\n",
       "      <td>2018-12</td>\n",
       "      <td>11</td>\n",
       "    </tr>\n",
       "    <tr>\n",
       "      <th>1805</th>\n",
       "      <td>1497</td>\n",
       "      <td>2018-12</td>\n",
       "      <td>50</td>\n",
       "    </tr>\n",
       "  </tbody>\n",
       "</table>\n",
       "<p>1806 rows × 3 columns</p>\n",
       "</div>"
      ],
      "text/plain": [
       "      user_id    month  messages\n",
       "0        1000  2018-12        11\n",
       "1        1001  2018-08        30\n",
       "2        1001  2018-09        44\n",
       "3        1001  2018-10        53\n",
       "4        1001  2018-11        36\n",
       "...       ...      ...       ...\n",
       "1801     1496  2018-09        21\n",
       "1802     1496  2018-10        18\n",
       "1803     1496  2018-11        13\n",
       "1804     1496  2018-12        11\n",
       "1805     1497  2018-12        50\n",
       "\n",
       "[1806 rows x 3 columns]"
      ]
     },
     "execution_count": 22,
     "metadata": {},
     "output_type": "execute_result"
    }
   ],
   "source": [
    "# Calculate the number of messages sent by each user per month. Save the result.\n",
    "\n",
    "# Extract month and year from session_date\n",
    "messages_data['month'] = messages_data['message_date'].dt.to_period('M')\n",
    "\n",
    "\n",
    "monthly_messages = messages_data.groupby(['user_id', 'month'])['id'].count().reset_index().rename(columns={'id': 'messages'})\n",
    "\n",
    "monthly_messages"
   ]
  },
  {
   "cell_type": "code",
   "execution_count": 23,
   "metadata": {},
   "outputs": [
    {
     "data": {
      "text/html": [
       "<div>\n",
       "<style scoped>\n",
       "    .dataframe tbody tr th:only-of-type {\n",
       "        vertical-align: middle;\n",
       "    }\n",
       "\n",
       "    .dataframe tbody tr th {\n",
       "        vertical-align: top;\n",
       "    }\n",
       "\n",
       "    .dataframe thead th {\n",
       "        text-align: right;\n",
       "    }\n",
       "</style>\n",
       "<table border=\"1\" class=\"dataframe\">\n",
       "  <thead>\n",
       "    <tr style=\"text-align: right;\">\n",
       "      <th></th>\n",
       "      <th>user_id</th>\n",
       "      <th>month</th>\n",
       "      <th>mb_used</th>\n",
       "    </tr>\n",
       "  </thead>\n",
       "  <tbody>\n",
       "    <tr>\n",
       "      <th>0</th>\n",
       "      <td>1000</td>\n",
       "      <td>2018-12</td>\n",
       "      <td>1901.47</td>\n",
       "    </tr>\n",
       "    <tr>\n",
       "      <th>1</th>\n",
       "      <td>1001</td>\n",
       "      <td>2018-08</td>\n",
       "      <td>6919.15</td>\n",
       "    </tr>\n",
       "    <tr>\n",
       "      <th>2</th>\n",
       "      <td>1001</td>\n",
       "      <td>2018-09</td>\n",
       "      <td>13314.82</td>\n",
       "    </tr>\n",
       "    <tr>\n",
       "      <th>3</th>\n",
       "      <td>1001</td>\n",
       "      <td>2018-10</td>\n",
       "      <td>22330.49</td>\n",
       "    </tr>\n",
       "    <tr>\n",
       "      <th>4</th>\n",
       "      <td>1001</td>\n",
       "      <td>2018-11</td>\n",
       "      <td>18504.30</td>\n",
       "    </tr>\n",
       "    <tr>\n",
       "      <th>...</th>\n",
       "      <td>...</td>\n",
       "      <td>...</td>\n",
       "      <td>...</td>\n",
       "    </tr>\n",
       "    <tr>\n",
       "      <th>2272</th>\n",
       "      <td>1498</td>\n",
       "      <td>2018-12</td>\n",
       "      <td>23137.69</td>\n",
       "    </tr>\n",
       "    <tr>\n",
       "      <th>2273</th>\n",
       "      <td>1499</td>\n",
       "      <td>2018-09</td>\n",
       "      <td>12984.76</td>\n",
       "    </tr>\n",
       "    <tr>\n",
       "      <th>2274</th>\n",
       "      <td>1499</td>\n",
       "      <td>2018-10</td>\n",
       "      <td>19492.43</td>\n",
       "    </tr>\n",
       "    <tr>\n",
       "      <th>2275</th>\n",
       "      <td>1499</td>\n",
       "      <td>2018-11</td>\n",
       "      <td>16813.83</td>\n",
       "    </tr>\n",
       "    <tr>\n",
       "      <th>2276</th>\n",
       "      <td>1499</td>\n",
       "      <td>2018-12</td>\n",
       "      <td>22059.21</td>\n",
       "    </tr>\n",
       "  </tbody>\n",
       "</table>\n",
       "<p>2277 rows × 3 columns</p>\n",
       "</div>"
      ],
      "text/plain": [
       "      user_id    month   mb_used\n",
       "0        1000  2018-12   1901.47\n",
       "1        1001  2018-08   6919.15\n",
       "2        1001  2018-09  13314.82\n",
       "3        1001  2018-10  22330.49\n",
       "4        1001  2018-11  18504.30\n",
       "...       ...      ...       ...\n",
       "2272     1498  2018-12  23137.69\n",
       "2273     1499  2018-09  12984.76\n",
       "2274     1499  2018-10  19492.43\n",
       "2275     1499  2018-11  16813.83\n",
       "2276     1499  2018-12  22059.21\n",
       "\n",
       "[2277 rows x 3 columns]"
      ]
     },
     "execution_count": 23,
     "metadata": {},
     "output_type": "execute_result"
    }
   ],
   "source": [
    "# Calculate the volume of internet traffic used by each user per month. Save the result.\n",
    "\n",
    "# Extract month and year from session_date\n",
    "internet_data['month'] = internet_data['session_date'].dt.to_period('M')\n",
    "\n",
    "# Calculate the volume of internet traffic used by each user per month\n",
    "monthly_internet = internet_data.groupby(['user_id', 'month'])['mb_used'].sum().reset_index()\n",
    "\n",
    "# Display the result\n",
    "monthly_internet"
   ]
  },
  {
   "cell_type": "code",
   "execution_count": 24,
   "metadata": {},
   "outputs": [
    {
     "data": {
      "text/html": [
       "<div>\n",
       "<style scoped>\n",
       "    .dataframe tbody tr th:only-of-type {\n",
       "        vertical-align: middle;\n",
       "    }\n",
       "\n",
       "    .dataframe tbody tr th {\n",
       "        vertical-align: top;\n",
       "    }\n",
       "\n",
       "    .dataframe thead th {\n",
       "        text-align: right;\n",
       "    }\n",
       "</style>\n",
       "<table border=\"1\" class=\"dataframe\">\n",
       "  <thead>\n",
       "    <tr style=\"text-align: right;\">\n",
       "      <th></th>\n",
       "      <th>user_id</th>\n",
       "      <th>month</th>\n",
       "      <th>calls_made</th>\n",
       "      <th>rounded_duration</th>\n",
       "      <th>messages</th>\n",
       "      <th>mb_used</th>\n",
       "      <th>plan</th>\n",
       "    </tr>\n",
       "  </thead>\n",
       "  <tbody>\n",
       "    <tr>\n",
       "      <th>0</th>\n",
       "      <td>1000</td>\n",
       "      <td>2018-12</td>\n",
       "      <td>16.0</td>\n",
       "      <td>124.0</td>\n",
       "      <td>11.0</td>\n",
       "      <td>1901.47</td>\n",
       "      <td>ultimate</td>\n",
       "    </tr>\n",
       "    <tr>\n",
       "      <th>1</th>\n",
       "      <td>1001</td>\n",
       "      <td>2018-08</td>\n",
       "      <td>27.0</td>\n",
       "      <td>182.0</td>\n",
       "      <td>30.0</td>\n",
       "      <td>6919.15</td>\n",
       "      <td>surf</td>\n",
       "    </tr>\n",
       "    <tr>\n",
       "      <th>2</th>\n",
       "      <td>1001</td>\n",
       "      <td>2018-09</td>\n",
       "      <td>49.0</td>\n",
       "      <td>315.0</td>\n",
       "      <td>44.0</td>\n",
       "      <td>13314.82</td>\n",
       "      <td>surf</td>\n",
       "    </tr>\n",
       "    <tr>\n",
       "      <th>3</th>\n",
       "      <td>1001</td>\n",
       "      <td>2018-10</td>\n",
       "      <td>65.0</td>\n",
       "      <td>393.0</td>\n",
       "      <td>53.0</td>\n",
       "      <td>22330.49</td>\n",
       "      <td>surf</td>\n",
       "    </tr>\n",
       "    <tr>\n",
       "      <th>4</th>\n",
       "      <td>1001</td>\n",
       "      <td>2018-11</td>\n",
       "      <td>64.0</td>\n",
       "      <td>426.0</td>\n",
       "      <td>36.0</td>\n",
       "      <td>18504.30</td>\n",
       "      <td>surf</td>\n",
       "    </tr>\n",
       "  </tbody>\n",
       "</table>\n",
       "</div>"
      ],
      "text/plain": [
       "   user_id    month  calls_made  rounded_duration  messages   mb_used  \\\n",
       "0     1000  2018-12        16.0             124.0      11.0   1901.47   \n",
       "1     1001  2018-08        27.0             182.0      30.0   6919.15   \n",
       "2     1001  2018-09        49.0             315.0      44.0  13314.82   \n",
       "3     1001  2018-10        65.0             393.0      53.0  22330.49   \n",
       "4     1001  2018-11        64.0             426.0      36.0  18504.30   \n",
       "\n",
       "       plan  \n",
       "0  ultimate  \n",
       "1      surf  \n",
       "2      surf  \n",
       "3      surf  \n",
       "4      surf  "
      ]
     },
     "execution_count": 24,
     "metadata": {},
     "output_type": "execute_result"
    }
   ],
   "source": [
    "# Merge the data for calls, minutes, messages, internet based on user_id and month\n",
    "# Merge the calculated data\n",
    "users_data = users_data.rename(columns={'user_id': 'user_id'})\n",
    "monthly_usage = calls_per_month.merge(monthly_calls, on=['user_id', 'month'], how='outer').merge(monthly_messages, on=['user_id', 'month'], how='outer').merge(monthly_internet, on=['user_id', 'month'], how='outer')\n",
    "monthly_usage = monthly_usage.merge(users_data[['user_id', 'plan']], on='user_id', how='left')\n",
    "\n",
    "# Fill missing values with 0\n",
    "monthly_usage = monthly_usage.fillna({'duration': 0, 'messages': 0, 'mb_used': 0})\n",
    "\n",
    "# Display the combined user data\n",
    "monthly_usage.head()"
   ]
  },
  {
   "cell_type": "code",
   "execution_count": 25,
   "metadata": {},
   "outputs": [
    {
     "data": {
      "text/html": [
       "<div>\n",
       "<style scoped>\n",
       "    .dataframe tbody tr th:only-of-type {\n",
       "        vertical-align: middle;\n",
       "    }\n",
       "\n",
       "    .dataframe tbody tr th {\n",
       "        vertical-align: top;\n",
       "    }\n",
       "\n",
       "    .dataframe thead th {\n",
       "        text-align: right;\n",
       "    }\n",
       "</style>\n",
       "<table border=\"1\" class=\"dataframe\">\n",
       "  <thead>\n",
       "    <tr style=\"text-align: right;\">\n",
       "      <th></th>\n",
       "      <th>user_id</th>\n",
       "      <th>month</th>\n",
       "      <th>calls_made</th>\n",
       "      <th>rounded_duration</th>\n",
       "      <th>messages</th>\n",
       "      <th>mb_used</th>\n",
       "      <th>plan</th>\n",
       "      <th>messages_included</th>\n",
       "      <th>mb_per_month_included</th>\n",
       "      <th>minutes_included</th>\n",
       "      <th>usd_monthly_pay</th>\n",
       "      <th>usd_per_gb</th>\n",
       "      <th>usd_per_message</th>\n",
       "      <th>usd_per_minute</th>\n",
       "      <th>plan_name</th>\n",
       "    </tr>\n",
       "  </thead>\n",
       "  <tbody>\n",
       "    <tr>\n",
       "      <th>0</th>\n",
       "      <td>1000</td>\n",
       "      <td>2018-12</td>\n",
       "      <td>16.0</td>\n",
       "      <td>124.0</td>\n",
       "      <td>11.0</td>\n",
       "      <td>1901.47</td>\n",
       "      <td>ultimate</td>\n",
       "      <td>1000</td>\n",
       "      <td>30720</td>\n",
       "      <td>3000</td>\n",
       "      <td>70</td>\n",
       "      <td>7</td>\n",
       "      <td>0.01</td>\n",
       "      <td>0.01</td>\n",
       "      <td>ultimate</td>\n",
       "    </tr>\n",
       "    <tr>\n",
       "      <th>1</th>\n",
       "      <td>1001</td>\n",
       "      <td>2018-08</td>\n",
       "      <td>27.0</td>\n",
       "      <td>182.0</td>\n",
       "      <td>30.0</td>\n",
       "      <td>6919.15</td>\n",
       "      <td>surf</td>\n",
       "      <td>50</td>\n",
       "      <td>15360</td>\n",
       "      <td>500</td>\n",
       "      <td>20</td>\n",
       "      <td>10</td>\n",
       "      <td>0.03</td>\n",
       "      <td>0.03</td>\n",
       "      <td>surf</td>\n",
       "    </tr>\n",
       "    <tr>\n",
       "      <th>2</th>\n",
       "      <td>1001</td>\n",
       "      <td>2018-09</td>\n",
       "      <td>49.0</td>\n",
       "      <td>315.0</td>\n",
       "      <td>44.0</td>\n",
       "      <td>13314.82</td>\n",
       "      <td>surf</td>\n",
       "      <td>50</td>\n",
       "      <td>15360</td>\n",
       "      <td>500</td>\n",
       "      <td>20</td>\n",
       "      <td>10</td>\n",
       "      <td>0.03</td>\n",
       "      <td>0.03</td>\n",
       "      <td>surf</td>\n",
       "    </tr>\n",
       "    <tr>\n",
       "      <th>3</th>\n",
       "      <td>1001</td>\n",
       "      <td>2018-10</td>\n",
       "      <td>65.0</td>\n",
       "      <td>393.0</td>\n",
       "      <td>53.0</td>\n",
       "      <td>22330.49</td>\n",
       "      <td>surf</td>\n",
       "      <td>50</td>\n",
       "      <td>15360</td>\n",
       "      <td>500</td>\n",
       "      <td>20</td>\n",
       "      <td>10</td>\n",
       "      <td>0.03</td>\n",
       "      <td>0.03</td>\n",
       "      <td>surf</td>\n",
       "    </tr>\n",
       "    <tr>\n",
       "      <th>4</th>\n",
       "      <td>1001</td>\n",
       "      <td>2018-11</td>\n",
       "      <td>64.0</td>\n",
       "      <td>426.0</td>\n",
       "      <td>36.0</td>\n",
       "      <td>18504.30</td>\n",
       "      <td>surf</td>\n",
       "      <td>50</td>\n",
       "      <td>15360</td>\n",
       "      <td>500</td>\n",
       "      <td>20</td>\n",
       "      <td>10</td>\n",
       "      <td>0.03</td>\n",
       "      <td>0.03</td>\n",
       "      <td>surf</td>\n",
       "    </tr>\n",
       "  </tbody>\n",
       "</table>\n",
       "</div>"
      ],
      "text/plain": [
       "   user_id    month  calls_made  rounded_duration  messages   mb_used  \\\n",
       "0     1000  2018-12        16.0             124.0      11.0   1901.47   \n",
       "1     1001  2018-08        27.0             182.0      30.0   6919.15   \n",
       "2     1001  2018-09        49.0             315.0      44.0  13314.82   \n",
       "3     1001  2018-10        65.0             393.0      53.0  22330.49   \n",
       "4     1001  2018-11        64.0             426.0      36.0  18504.30   \n",
       "\n",
       "       plan  messages_included  mb_per_month_included  minutes_included  \\\n",
       "0  ultimate               1000                  30720              3000   \n",
       "1      surf                 50                  15360               500   \n",
       "2      surf                 50                  15360               500   \n",
       "3      surf                 50                  15360               500   \n",
       "4      surf                 50                  15360               500   \n",
       "\n",
       "   usd_monthly_pay  usd_per_gb  usd_per_message  usd_per_minute plan_name  \n",
       "0               70           7             0.01            0.01  ultimate  \n",
       "1               20          10             0.03            0.03      surf  \n",
       "2               20          10             0.03            0.03      surf  \n",
       "3               20          10             0.03            0.03      surf  \n",
       "4               20          10             0.03            0.03      surf  "
      ]
     },
     "execution_count": 25,
     "metadata": {},
     "output_type": "execute_result"
    }
   ],
   "source": [
    "# Add the plan information\n",
    "\n",
    "monthly_usage = monthly_usage.merge(plans_data, left_on='plan', right_on='plan_name', how='left')\n",
    "\n",
    "monthly_usage.head()\n",
    "\n",
    "# list(monthly_usage.columns)\n"
   ]
  },
  {
   "cell_type": "code",
   "execution_count": 26,
   "metadata": {},
   "outputs": [
    {
     "data": {
      "text/html": [
       "<div>\n",
       "<style scoped>\n",
       "    .dataframe tbody tr th:only-of-type {\n",
       "        vertical-align: middle;\n",
       "    }\n",
       "\n",
       "    .dataframe tbody tr th {\n",
       "        vertical-align: top;\n",
       "    }\n",
       "\n",
       "    .dataframe thead th {\n",
       "        text-align: right;\n",
       "    }\n",
       "</style>\n",
       "<table border=\"1\" class=\"dataframe\">\n",
       "  <thead>\n",
       "    <tr style=\"text-align: right;\">\n",
       "      <th></th>\n",
       "      <th>user_id</th>\n",
       "      <th>month</th>\n",
       "      <th>calls_made</th>\n",
       "      <th>rounded_duration</th>\n",
       "      <th>messages</th>\n",
       "      <th>mb_used</th>\n",
       "      <th>plan</th>\n",
       "      <th>messages_included</th>\n",
       "      <th>mb_per_month_included</th>\n",
       "      <th>minutes_included</th>\n",
       "      <th>usd_monthly_pay</th>\n",
       "      <th>usd_per_gb</th>\n",
       "      <th>usd_per_message</th>\n",
       "      <th>usd_per_minute</th>\n",
       "      <th>plan_name</th>\n",
       "      <th>calls_revenue</th>\n",
       "      <th>messages_revenue</th>\n",
       "      <th>gb_used</th>\n",
       "      <th>internet_revenue</th>\n",
       "      <th>total_revenue</th>\n",
       "    </tr>\n",
       "  </thead>\n",
       "  <tbody>\n",
       "    <tr>\n",
       "      <th>0</th>\n",
       "      <td>1000</td>\n",
       "      <td>2018-12</td>\n",
       "      <td>16.0</td>\n",
       "      <td>124.0</td>\n",
       "      <td>11.0</td>\n",
       "      <td>1901.47</td>\n",
       "      <td>ultimate</td>\n",
       "      <td>1000</td>\n",
       "      <td>30720</td>\n",
       "      <td>3000</td>\n",
       "      <td>70</td>\n",
       "      <td>7</td>\n",
       "      <td>0.01</td>\n",
       "      <td>0.01</td>\n",
       "      <td>ultimate</td>\n",
       "      <td>0.0</td>\n",
       "      <td>0.00</td>\n",
       "      <td>2.0</td>\n",
       "      <td>0.0</td>\n",
       "      <td>70.00</td>\n",
       "    </tr>\n",
       "    <tr>\n",
       "      <th>1</th>\n",
       "      <td>1001</td>\n",
       "      <td>2018-08</td>\n",
       "      <td>27.0</td>\n",
       "      <td>182.0</td>\n",
       "      <td>30.0</td>\n",
       "      <td>6919.15</td>\n",
       "      <td>surf</td>\n",
       "      <td>50</td>\n",
       "      <td>15360</td>\n",
       "      <td>500</td>\n",
       "      <td>20</td>\n",
       "      <td>10</td>\n",
       "      <td>0.03</td>\n",
       "      <td>0.03</td>\n",
       "      <td>surf</td>\n",
       "      <td>0.0</td>\n",
       "      <td>0.00</td>\n",
       "      <td>7.0</td>\n",
       "      <td>0.0</td>\n",
       "      <td>20.00</td>\n",
       "    </tr>\n",
       "    <tr>\n",
       "      <th>2</th>\n",
       "      <td>1001</td>\n",
       "      <td>2018-09</td>\n",
       "      <td>49.0</td>\n",
       "      <td>315.0</td>\n",
       "      <td>44.0</td>\n",
       "      <td>13314.82</td>\n",
       "      <td>surf</td>\n",
       "      <td>50</td>\n",
       "      <td>15360</td>\n",
       "      <td>500</td>\n",
       "      <td>20</td>\n",
       "      <td>10</td>\n",
       "      <td>0.03</td>\n",
       "      <td>0.03</td>\n",
       "      <td>surf</td>\n",
       "      <td>0.0</td>\n",
       "      <td>0.00</td>\n",
       "      <td>14.0</td>\n",
       "      <td>0.0</td>\n",
       "      <td>20.00</td>\n",
       "    </tr>\n",
       "    <tr>\n",
       "      <th>3</th>\n",
       "      <td>1001</td>\n",
       "      <td>2018-10</td>\n",
       "      <td>65.0</td>\n",
       "      <td>393.0</td>\n",
       "      <td>53.0</td>\n",
       "      <td>22330.49</td>\n",
       "      <td>surf</td>\n",
       "      <td>50</td>\n",
       "      <td>15360</td>\n",
       "      <td>500</td>\n",
       "      <td>20</td>\n",
       "      <td>10</td>\n",
       "      <td>0.03</td>\n",
       "      <td>0.03</td>\n",
       "      <td>surf</td>\n",
       "      <td>0.0</td>\n",
       "      <td>0.09</td>\n",
       "      <td>22.0</td>\n",
       "      <td>70.0</td>\n",
       "      <td>90.09</td>\n",
       "    </tr>\n",
       "    <tr>\n",
       "      <th>4</th>\n",
       "      <td>1001</td>\n",
       "      <td>2018-11</td>\n",
       "      <td>64.0</td>\n",
       "      <td>426.0</td>\n",
       "      <td>36.0</td>\n",
       "      <td>18504.30</td>\n",
       "      <td>surf</td>\n",
       "      <td>50</td>\n",
       "      <td>15360</td>\n",
       "      <td>500</td>\n",
       "      <td>20</td>\n",
       "      <td>10</td>\n",
       "      <td>0.03</td>\n",
       "      <td>0.03</td>\n",
       "      <td>surf</td>\n",
       "      <td>0.0</td>\n",
       "      <td>0.00</td>\n",
       "      <td>19.0</td>\n",
       "      <td>40.0</td>\n",
       "      <td>60.00</td>\n",
       "    </tr>\n",
       "  </tbody>\n",
       "</table>\n",
       "</div>"
      ],
      "text/plain": [
       "   user_id    month  calls_made  rounded_duration  messages   mb_used  \\\n",
       "0     1000  2018-12        16.0             124.0      11.0   1901.47   \n",
       "1     1001  2018-08        27.0             182.0      30.0   6919.15   \n",
       "2     1001  2018-09        49.0             315.0      44.0  13314.82   \n",
       "3     1001  2018-10        65.0             393.0      53.0  22330.49   \n",
       "4     1001  2018-11        64.0             426.0      36.0  18504.30   \n",
       "\n",
       "       plan  messages_included  mb_per_month_included  minutes_included  \\\n",
       "0  ultimate               1000                  30720              3000   \n",
       "1      surf                 50                  15360               500   \n",
       "2      surf                 50                  15360               500   \n",
       "3      surf                 50                  15360               500   \n",
       "4      surf                 50                  15360               500   \n",
       "\n",
       "   usd_monthly_pay  usd_per_gb  usd_per_message  usd_per_minute plan_name  \\\n",
       "0               70           7             0.01            0.01  ultimate   \n",
       "1               20          10             0.03            0.03      surf   \n",
       "2               20          10             0.03            0.03      surf   \n",
       "3               20          10             0.03            0.03      surf   \n",
       "4               20          10             0.03            0.03      surf   \n",
       "\n",
       "   calls_revenue  messages_revenue  gb_used  internet_revenue  total_revenue  \n",
       "0            0.0              0.00      2.0               0.0          70.00  \n",
       "1            0.0              0.00      7.0               0.0          20.00  \n",
       "2            0.0              0.00     14.0               0.0          20.00  \n",
       "3            0.0              0.09     22.0              70.0          90.09  \n",
       "4            0.0              0.00     19.0              40.0          60.00  "
      ]
     },
     "execution_count": 26,
     "metadata": {},
     "output_type": "execute_result"
    }
   ],
   "source": [
    "# Calculate the monthly revenue for each user\n",
    "monthly_usage['calls_revenue'] = (monthly_usage['rounded_duration'] - monthly_usage['minutes_included']).clip(lower=0) * monthly_usage['usd_per_minute']\n",
    "monthly_usage['messages_revenue'] = (monthly_usage['messages'] - monthly_usage['messages_included']).clip(lower=0) * monthly_usage['usd_per_message']\n",
    "\n",
    "# Round up the number of MB used per month to the nearest GB\n",
    "monthly_usage['gb_used'] = np.ceil(monthly_usage['mb_used'] / 1024)\n",
    "\n",
    "# Calculate internet revenue based on the rounded GB\n",
    "monthly_usage['internet_revenue'] = (monthly_usage['gb_used'] - monthly_usage['mb_per_month_included'] / 1024).clip(lower=0) * monthly_usage['usd_per_gb']\n",
    "\n",
    "\n",
    "# monthly_usage['internet_revenue'] = (monthly_usage['mb_used'] / 1024 - monthly_usage['mb_per_month_included'] / 1024).clip(lower=0) * monthly_usage['usd_per_gb']\n",
    "monthly_usage['total_revenue'] = monthly_usage['usd_monthly_pay'] + monthly_usage['calls_revenue'] + monthly_usage['messages_revenue'] + monthly_usage['internet_revenue']\n",
    "\n",
    "monthly_usage.head()"
   ]
  },
  {
   "cell_type": "code",
   "execution_count": 27,
   "metadata": {},
   "outputs": [
    {
     "data": {
      "text/html": [
       "<div>\n",
       "<style scoped>\n",
       "    .dataframe tbody tr th:only-of-type {\n",
       "        vertical-align: middle;\n",
       "    }\n",
       "\n",
       "    .dataframe tbody tr th {\n",
       "        vertical-align: top;\n",
       "    }\n",
       "\n",
       "    .dataframe thead th {\n",
       "        text-align: right;\n",
       "    }\n",
       "</style>\n",
       "<table border=\"1\" class=\"dataframe\">\n",
       "  <thead>\n",
       "    <tr style=\"text-align: right;\">\n",
       "      <th></th>\n",
       "      <th>user_id</th>\n",
       "      <th>month</th>\n",
       "      <th>total_revenue</th>\n",
       "    </tr>\n",
       "  </thead>\n",
       "  <tbody>\n",
       "    <tr>\n",
       "      <th>0</th>\n",
       "      <td>1000</td>\n",
       "      <td>2018-12</td>\n",
       "      <td>70.00</td>\n",
       "    </tr>\n",
       "    <tr>\n",
       "      <th>1</th>\n",
       "      <td>1001</td>\n",
       "      <td>2018-08</td>\n",
       "      <td>20.00</td>\n",
       "    </tr>\n",
       "    <tr>\n",
       "      <th>2</th>\n",
       "      <td>1001</td>\n",
       "      <td>2018-09</td>\n",
       "      <td>20.00</td>\n",
       "    </tr>\n",
       "    <tr>\n",
       "      <th>3</th>\n",
       "      <td>1001</td>\n",
       "      <td>2018-10</td>\n",
       "      <td>90.09</td>\n",
       "    </tr>\n",
       "    <tr>\n",
       "      <th>4</th>\n",
       "      <td>1001</td>\n",
       "      <td>2018-11</td>\n",
       "      <td>60.00</td>\n",
       "    </tr>\n",
       "    <tr>\n",
       "      <th>...</th>\n",
       "      <td>...</td>\n",
       "      <td>...</td>\n",
       "      <td>...</td>\n",
       "    </tr>\n",
       "    <tr>\n",
       "      <th>2288</th>\n",
       "      <td>1498</td>\n",
       "      <td>2018-12</td>\n",
       "      <td>100.00</td>\n",
       "    </tr>\n",
       "    <tr>\n",
       "      <th>2289</th>\n",
       "      <td>1499</td>\n",
       "      <td>2018-09</td>\n",
       "      <td>20.00</td>\n",
       "    </tr>\n",
       "    <tr>\n",
       "      <th>2290</th>\n",
       "      <td>1499</td>\n",
       "      <td>2018-10</td>\n",
       "      <td>70.00</td>\n",
       "    </tr>\n",
       "    <tr>\n",
       "      <th>2291</th>\n",
       "      <td>1499</td>\n",
       "      <td>2018-11</td>\n",
       "      <td>40.00</td>\n",
       "    </tr>\n",
       "    <tr>\n",
       "      <th>2292</th>\n",
       "      <td>1499</td>\n",
       "      <td>2018-12</td>\n",
       "      <td>90.00</td>\n",
       "    </tr>\n",
       "  </tbody>\n",
       "</table>\n",
       "<p>2293 rows × 3 columns</p>\n",
       "</div>"
      ],
      "text/plain": [
       "      user_id    month  total_revenue\n",
       "0        1000  2018-12          70.00\n",
       "1        1001  2018-08          20.00\n",
       "2        1001  2018-09          20.00\n",
       "3        1001  2018-10          90.09\n",
       "4        1001  2018-11          60.00\n",
       "...       ...      ...            ...\n",
       "2288     1498  2018-12         100.00\n",
       "2289     1499  2018-09          20.00\n",
       "2290     1499  2018-10          70.00\n",
       "2291     1499  2018-11          40.00\n",
       "2292     1499  2018-12          90.00\n",
       "\n",
       "[2293 rows x 3 columns]"
      ]
     },
     "execution_count": 27,
     "metadata": {},
     "output_type": "execute_result"
    }
   ],
   "source": [
    "monthly_df = monthly_usage[['user_id', 'month', 'total_revenue']]\n",
    "\n",
    "monthly_revenue = monthly_df.groupby(['user_id', 'month'])['total_revenue'].sum().reset_index()\n",
    "\n",
    "monthly_revenue"
   ]
  },
  {
   "cell_type": "markdown",
   "metadata": {},
   "source": [
    "## Study user behaviour"
   ]
  },
  {
   "cell_type": "markdown",
   "metadata": {},
   "source": [
    "### Calls"
   ]
  },
  {
   "cell_type": "code",
   "execution_count": 28,
   "metadata": {},
   "outputs": [
    {
     "data": {
      "image/png": "[encoded data removed]",
      "text/plain": [
       "<Figure size 1200x600 with 1 Axes>"
      ]
     },
     "metadata": {},
     "output_type": "display_data"
    }
   ],
   "source": [
    "# Compare average duration of calls per each plan per each distinct month. Plot a bar plat to visualize it.\n",
    "df = monthly_usage\n",
    "\n",
    "# Calculate the average duration of calls per plan for each month\n",
    "\n",
    "avg_duration_per_plan = df.groupby(['plan', 'month'])['rounded_duration'].mean().reset_index()\n",
    "\n",
    "# Convert 'month' to string for concatenation\n",
    "avg_duration_per_plan['month'] = avg_duration_per_plan['month'].astype(str)\n",
    "\n",
    "# Plot the results using a bar plot\n",
    "plt.figure(figsize=(12, 6))\n",
    "\n",
    "# Define the positions for the bars\n",
    "months = avg_duration_per_plan['month'].unique()\n",
    "n_months = len(months)\n",
    "bar_width = 0.4\n",
    "index = np.arange(n_months)\n",
    "\n",
    "# Plot bars for each plan\n",
    "for plan in avg_duration_per_plan['plan'].unique():\n",
    "    plan_data = avg_duration_per_plan[avg_duration_per_plan['plan'] == plan]\n",
    "    plt.bar(index + (0.5 if plan == 'surf' else -0.5) * bar_width, \n",
    "            plan_data['rounded_duration'], \n",
    "            bar_width, \n",
    "            label=plan)\n",
    "\n",
    "# Add labels and title\n",
    "plt.xlabel('Month')\n",
    "plt.ylabel('Average Duration (minutes)')\n",
    "plt.title('Average Call Duration per Plan for Each Month')\n",
    "plt.xticks(index, months, rotation=45)\n",
    "plt.legend(title='Plan')\n",
    "plt.tight_layout()\n",
    "\n",
    "# Display the plot\n",
    "plt.show()"
   ]
  },
  {
   "cell_type": "code",
   "execution_count": 29,
   "metadata": {},
   "outputs": [
    {
     "data": {
      "image/png": "[encoded data removed]",
      "text/plain": [
       "<Figure size 1200x600 with 1 Axes>"
      ]
     },
     "metadata": {},
     "output_type": "display_data"
    }
   ],
   "source": [
    "# Compare the number of minutes users of each plan require each month. Plot a histogram.\n",
    "\n",
    "# Aggregate total minutes by plan and month\n",
    "minutes_per_plan_per_month = df.groupby(['month', 'plan'])['rounded_duration'].sum().reset_index()\n",
    "\n",
    "# Plot histograms\n",
    "plt.figure(figsize=(12, 6))\n",
    "\n",
    "# Plot histogram for each plan\n",
    "for plan in minutes_per_plan_per_month['plan'].unique():\n",
    "    plan_data = minutes_per_plan_per_month[minutes_per_plan_per_month['plan'] == plan]\n",
    "    plt.hist(plan_data['rounded_duration'], bins=10, alpha=0.5, label=plan)\n",
    "\n",
    "plt.xlabel('Total Minutes Spent')\n",
    "plt.ylabel('Frequency')\n",
    "plt.title('Histogram of Total Minutes Spent by Plan Each Month')\n",
    "plt.legend(title='Plan')\n",
    "plt.tight_layout()\n",
    "plt.show()"
   ]
  },
  {
   "cell_type": "code",
   "execution_count": 30,
   "metadata": {},
   "outputs": [
    {
     "data": {
      "text/html": [
       "<div>\n",
       "<style scoped>\n",
       "    .dataframe tbody tr th:only-of-type {\n",
       "        vertical-align: middle;\n",
       "    }\n",
       "\n",
       "    .dataframe tbody tr th {\n",
       "        vertical-align: top;\n",
       "    }\n",
       "\n",
       "    .dataframe thead th {\n",
       "        text-align: right;\n",
       "    }\n",
       "</style>\n",
       "<table border=\"1\" class=\"dataframe\">\n",
       "  <thead>\n",
       "    <tr style=\"text-align: right;\">\n",
       "      <th></th>\n",
       "      <th>plan</th>\n",
       "      <th>month</th>\n",
       "      <th>mean_duration</th>\n",
       "      <th>variance_duration</th>\n",
       "    </tr>\n",
       "  </thead>\n",
       "  <tbody>\n",
       "    <tr>\n",
       "      <th>0</th>\n",
       "      <td>surf</td>\n",
       "      <td>2018-01</td>\n",
       "      <td>203.000000</td>\n",
       "      <td>15842.000000</td>\n",
       "    </tr>\n",
       "    <tr>\n",
       "      <th>1</th>\n",
       "      <td>surf</td>\n",
       "      <td>2018-02</td>\n",
       "      <td>297.000000</td>\n",
       "      <td>52226.500000</td>\n",
       "    </tr>\n",
       "    <tr>\n",
       "      <th>2</th>\n",
       "      <td>surf</td>\n",
       "      <td>2018-03</td>\n",
       "      <td>330.000000</td>\n",
       "      <td>35809.363636</td>\n",
       "    </tr>\n",
       "    <tr>\n",
       "      <th>3</th>\n",
       "      <td>surf</td>\n",
       "      <td>2018-04</td>\n",
       "      <td>351.540000</td>\n",
       "      <td>50866.743265</td>\n",
       "    </tr>\n",
       "    <tr>\n",
       "      <th>4</th>\n",
       "      <td>surf</td>\n",
       "      <td>2018-05</td>\n",
       "      <td>410.240000</td>\n",
       "      <td>56938.779459</td>\n",
       "    </tr>\n",
       "    <tr>\n",
       "      <th>5</th>\n",
       "      <td>surf</td>\n",
       "      <td>2018-06</td>\n",
       "      <td>435.791667</td>\n",
       "      <td>44094.061404</td>\n",
       "    </tr>\n",
       "    <tr>\n",
       "      <th>6</th>\n",
       "      <td>surf</td>\n",
       "      <td>2018-07</td>\n",
       "      <td>453.733333</td>\n",
       "      <td>59802.012325</td>\n",
       "    </tr>\n",
       "    <tr>\n",
       "      <th>7</th>\n",
       "      <td>surf</td>\n",
       "      <td>2018-08</td>\n",
       "      <td>417.849057</td>\n",
       "      <td>52122.749224</td>\n",
       "    </tr>\n",
       "    <tr>\n",
       "      <th>8</th>\n",
       "      <td>surf</td>\n",
       "      <td>2018-09</td>\n",
       "      <td>420.732984</td>\n",
       "      <td>44579.912538</td>\n",
       "    </tr>\n",
       "    <tr>\n",
       "      <th>9</th>\n",
       "      <td>surf</td>\n",
       "      <td>2018-10</td>\n",
       "      <td>438.991379</td>\n",
       "      <td>49326.952306</td>\n",
       "    </tr>\n",
       "    <tr>\n",
       "      <th>10</th>\n",
       "      <td>surf</td>\n",
       "      <td>2018-11</td>\n",
       "      <td>432.494585</td>\n",
       "      <td>48748.787108</td>\n",
       "    </tr>\n",
       "    <tr>\n",
       "      <th>11</th>\n",
       "      <td>surf</td>\n",
       "      <td>2018-12</td>\n",
       "      <td>484.501608</td>\n",
       "      <td>59882.373385</td>\n",
       "    </tr>\n",
       "    <tr>\n",
       "      <th>12</th>\n",
       "      <td>ultimate</td>\n",
       "      <td>2018-01</td>\n",
       "      <td>193.500000</td>\n",
       "      <td>16572.333333</td>\n",
       "    </tr>\n",
       "    <tr>\n",
       "      <th>13</th>\n",
       "      <td>ultimate</td>\n",
       "      <td>2018-02</td>\n",
       "      <td>470.333333</td>\n",
       "      <td>54345.066667</td>\n",
       "    </tr>\n",
       "    <tr>\n",
       "      <th>14</th>\n",
       "      <td>ultimate</td>\n",
       "      <td>2018-03</td>\n",
       "      <td>304.250000</td>\n",
       "      <td>61984.931818</td>\n",
       "    </tr>\n",
       "    <tr>\n",
       "      <th>15</th>\n",
       "      <td>ultimate</td>\n",
       "      <td>2018-04</td>\n",
       "      <td>336.857143</td>\n",
       "      <td>34888.928571</td>\n",
       "    </tr>\n",
       "    <tr>\n",
       "      <th>16</th>\n",
       "      <td>ultimate</td>\n",
       "      <td>2018-05</td>\n",
       "      <td>406.241379</td>\n",
       "      <td>43841.046798</td>\n",
       "    </tr>\n",
       "    <tr>\n",
       "      <th>17</th>\n",
       "      <td>ultimate</td>\n",
       "      <td>2018-06</td>\n",
       "      <td>387.444444</td>\n",
       "      <td>37902.570707</td>\n",
       "    </tr>\n",
       "    <tr>\n",
       "      <th>18</th>\n",
       "      <td>ultimate</td>\n",
       "      <td>2018-07</td>\n",
       "      <td>427.067797</td>\n",
       "      <td>72563.374635</td>\n",
       "    </tr>\n",
       "    <tr>\n",
       "      <th>19</th>\n",
       "      <td>ultimate</td>\n",
       "      <td>2018-08</td>\n",
       "      <td>421.436620</td>\n",
       "      <td>53645.506640</td>\n",
       "    </tr>\n",
       "    <tr>\n",
       "      <th>20</th>\n",
       "      <td>ultimate</td>\n",
       "      <td>2018-09</td>\n",
       "      <td>437.511628</td>\n",
       "      <td>57070.464569</td>\n",
       "    </tr>\n",
       "    <tr>\n",
       "      <th>21</th>\n",
       "      <td>ultimate</td>\n",
       "      <td>2018-10</td>\n",
       "      <td>455.028571</td>\n",
       "      <td>52811.566484</td>\n",
       "    </tr>\n",
       "    <tr>\n",
       "      <th>22</th>\n",
       "      <td>ultimate</td>\n",
       "      <td>2018-11</td>\n",
       "      <td>448.730159</td>\n",
       "      <td>59479.782603</td>\n",
       "    </tr>\n",
       "    <tr>\n",
       "      <th>23</th>\n",
       "      <td>ultimate</td>\n",
       "      <td>2018-12</td>\n",
       "      <td>465.261745</td>\n",
       "      <td>60461.924270</td>\n",
       "    </tr>\n",
       "  </tbody>\n",
       "</table>\n",
       "</div>"
      ],
      "text/plain": [
       "        plan    month  mean_duration  variance_duration\n",
       "0       surf  2018-01     203.000000       15842.000000\n",
       "1       surf  2018-02     297.000000       52226.500000\n",
       "2       surf  2018-03     330.000000       35809.363636\n",
       "3       surf  2018-04     351.540000       50866.743265\n",
       "4       surf  2018-05     410.240000       56938.779459\n",
       "5       surf  2018-06     435.791667       44094.061404\n",
       "6       surf  2018-07     453.733333       59802.012325\n",
       "7       surf  2018-08     417.849057       52122.749224\n",
       "8       surf  2018-09     420.732984       44579.912538\n",
       "9       surf  2018-10     438.991379       49326.952306\n",
       "10      surf  2018-11     432.494585       48748.787108\n",
       "11      surf  2018-12     484.501608       59882.373385\n",
       "12  ultimate  2018-01     193.500000       16572.333333\n",
       "13  ultimate  2018-02     470.333333       54345.066667\n",
       "14  ultimate  2018-03     304.250000       61984.931818\n",
       "15  ultimate  2018-04     336.857143       34888.928571\n",
       "16  ultimate  2018-05     406.241379       43841.046798\n",
       "17  ultimate  2018-06     387.444444       37902.570707\n",
       "18  ultimate  2018-07     427.067797       72563.374635\n",
       "19  ultimate  2018-08     421.436620       53645.506640\n",
       "20  ultimate  2018-09     437.511628       57070.464569\n",
       "21  ultimate  2018-10     455.028571       52811.566484\n",
       "22  ultimate  2018-11     448.730159       59479.782603\n",
       "23  ultimate  2018-12     465.261745       60461.924270"
      ]
     },
     "execution_count": 30,
     "metadata": {},
     "output_type": "execute_result"
    }
   ],
   "source": [
    "# Calculate the mean and the variance of the monthly call duration\n",
    "\n",
    "# Calculate the mean and variance of the monthly call duration for each plan\n",
    "monthly_stats = df.groupby(['plan', 'month'])['rounded_duration'].agg(['mean', 'var']).reset_index()\n",
    "\n",
    "# Rename columns for clarity\n",
    "monthly_stats.rename(columns={'mean': 'mean_duration', 'var': 'variance_duration'}, inplace=True)\n",
    "\n",
    "\n",
    "monthly_stats"
   ]
  },
  {
   "cell_type": "code",
   "execution_count": 31,
   "metadata": {},
   "outputs": [
    {
     "data": {
      "image/png": "[encoded data removed]",
      "text/plain": [
       "<Figure size 1200x600 with 1 Axes>"
      ]
     },
     "metadata": {},
     "output_type": "display_data"
    }
   ],
   "source": [
    "# Plot a boxplot to visualize the distribution of the monthly call duration\n",
    "\n",
    "plt.figure(figsize=(12, 6))\n",
    "sns.boxplot(x='plan', y='rounded_duration', data=df)\n",
    "\n",
    "plt.xlabel('Plan')\n",
    "plt.ylabel('Monthly Call Duration (minutes)')\n",
    "plt.title('Distribution of Monthly Call Duration by Plan')\n",
    "plt.tight_layout()\n",
    "plt.show()"
   ]
  },
  {
   "cell_type": "markdown",
   "metadata": {},
   "source": [
    "### Analysis\n",
    "\n",
    "#### Surf vs. Ultimate:\n",
    "\n",
    "- Mean Duration:\n",
    "    - Ultimate plan shows a higher mean duration compared to the Surf plan in several months, notably in February and March.\n",
    "    - Both plans exhibit an increasing trend in call duration over the year, indicating more usage or longer calls as the year progresses.\n",
    "- Variance:\n",
    "    - Variance is higher in the Ultimate plan in some months, indicating more inconsistency in call durations compared to the Surf plan.\n",
    "    - Both plans exhibit high variances, reflecting diverse user behaviors and call patterns.\n"
   ]
  },
  {
   "cell_type": "markdown",
   "metadata": {},
   "source": [
    " "
   ]
  },
  {
   "cell_type": "markdown",
   "metadata": {},
   "source": [
    "### Messages"
   ]
  },
  {
   "cell_type": "code",
   "execution_count": 32,
   "metadata": {},
   "outputs": [
    {
     "name": "stdout",
     "output_type": "stream",
     "text": [
      "Total messages per plan:\n",
      "       plan  messages\n",
      "0      surf   49014.0\n",
      "1  ultimate   27037.0\n",
      "\n",
      "Total messages per plan and month:\n"
     ]
    },
    {
     "data": {
      "text/html": [
       "<div>\n",
       "<style scoped>\n",
       "    .dataframe tbody tr th:only-of-type {\n",
       "        vertical-align: middle;\n",
       "    }\n",
       "\n",
       "    .dataframe tbody tr th {\n",
       "        vertical-align: top;\n",
       "    }\n",
       "\n",
       "    .dataframe thead th {\n",
       "        text-align: right;\n",
       "    }\n",
       "</style>\n",
       "<table border=\"1\" class=\"dataframe\">\n",
       "  <thead>\n",
       "    <tr style=\"text-align: right;\">\n",
       "      <th></th>\n",
       "      <th>month</th>\n",
       "      <th>plan</th>\n",
       "      <th>messages</th>\n",
       "    </tr>\n",
       "  </thead>\n",
       "  <tbody>\n",
       "    <tr>\n",
       "      <th>0</th>\n",
       "      <td>2018-01</td>\n",
       "      <td>surf</td>\n",
       "      <td>21.0</td>\n",
       "    </tr>\n",
       "    <tr>\n",
       "      <th>1</th>\n",
       "      <td>2018-01</td>\n",
       "      <td>ultimate</td>\n",
       "      <td>62.0</td>\n",
       "    </tr>\n",
       "    <tr>\n",
       "      <th>2</th>\n",
       "      <td>2018-02</td>\n",
       "      <td>surf</td>\n",
       "      <td>108.0</td>\n",
       "    </tr>\n",
       "    <tr>\n",
       "      <th>3</th>\n",
       "      <td>2018-02</td>\n",
       "      <td>ultimate</td>\n",
       "      <td>151.0</td>\n",
       "    </tr>\n",
       "    <tr>\n",
       "      <th>4</th>\n",
       "      <td>2018-03</td>\n",
       "      <td>surf</td>\n",
       "      <td>351.0</td>\n",
       "    </tr>\n",
       "    <tr>\n",
       "      <th>5</th>\n",
       "      <td>2018-03</td>\n",
       "      <td>ultimate</td>\n",
       "      <td>243.0</td>\n",
       "    </tr>\n",
       "    <tr>\n",
       "      <th>6</th>\n",
       "      <td>2018-04</td>\n",
       "      <td>surf</td>\n",
       "      <td>870.0</td>\n",
       "    </tr>\n",
       "    <tr>\n",
       "      <th>7</th>\n",
       "      <td>2018-04</td>\n",
       "      <td>ultimate</td>\n",
       "      <td>463.0</td>\n",
       "    </tr>\n",
       "    <tr>\n",
       "      <th>8</th>\n",
       "      <td>2018-05</td>\n",
       "      <td>surf</td>\n",
       "      <td>1849.0</td>\n",
       "    </tr>\n",
       "    <tr>\n",
       "      <th>9</th>\n",
       "      <td>2018-05</td>\n",
       "      <td>ultimate</td>\n",
       "      <td>931.0</td>\n",
       "    </tr>\n",
       "    <tr>\n",
       "      <th>10</th>\n",
       "      <td>2018-06</td>\n",
       "      <td>surf</td>\n",
       "      <td>2454.0</td>\n",
       "    </tr>\n",
       "    <tr>\n",
       "      <th>11</th>\n",
       "      <td>2018-06</td>\n",
       "      <td>ultimate</td>\n",
       "      <td>1379.0</td>\n",
       "    </tr>\n",
       "    <tr>\n",
       "      <th>12</th>\n",
       "      <td>2018-07</td>\n",
       "      <td>surf</td>\n",
       "      <td>3271.0</td>\n",
       "    </tr>\n",
       "    <tr>\n",
       "      <th>13</th>\n",
       "      <td>2018-07</td>\n",
       "      <td>ultimate</td>\n",
       "      <td>1937.0</td>\n",
       "    </tr>\n",
       "    <tr>\n",
       "      <th>14</th>\n",
       "      <td>2018-08</td>\n",
       "      <td>surf</td>\n",
       "      <td>4662.0</td>\n",
       "    </tr>\n",
       "    <tr>\n",
       "      <th>15</th>\n",
       "      <td>2018-08</td>\n",
       "      <td>ultimate</td>\n",
       "      <td>2732.0</td>\n",
       "    </tr>\n",
       "    <tr>\n",
       "      <th>16</th>\n",
       "      <td>2018-09</td>\n",
       "      <td>surf</td>\n",
       "      <td>5968.0</td>\n",
       "    </tr>\n",
       "    <tr>\n",
       "      <th>17</th>\n",
       "      <td>2018-09</td>\n",
       "      <td>ultimate</td>\n",
       "      <td>3259.0</td>\n",
       "    </tr>\n",
       "    <tr>\n",
       "      <th>18</th>\n",
       "      <td>2018-10</td>\n",
       "      <td>surf</td>\n",
       "      <td>8020.0</td>\n",
       "    </tr>\n",
       "    <tr>\n",
       "      <th>19</th>\n",
       "      <td>2018-10</td>\n",
       "      <td>ultimate</td>\n",
       "      <td>4181.0</td>\n",
       "    </tr>\n",
       "    <tr>\n",
       "      <th>20</th>\n",
       "      <td>2018-11</td>\n",
       "      <td>surf</td>\n",
       "      <td>9165.0</td>\n",
       "    </tr>\n",
       "    <tr>\n",
       "      <th>21</th>\n",
       "      <td>2018-11</td>\n",
       "      <td>ultimate</td>\n",
       "      <td>4903.0</td>\n",
       "    </tr>\n",
       "    <tr>\n",
       "      <th>22</th>\n",
       "      <td>2018-12</td>\n",
       "      <td>surf</td>\n",
       "      <td>12275.0</td>\n",
       "    </tr>\n",
       "    <tr>\n",
       "      <th>23</th>\n",
       "      <td>2018-12</td>\n",
       "      <td>ultimate</td>\n",
       "      <td>6796.0</td>\n",
       "    </tr>\n",
       "  </tbody>\n",
       "</table>\n",
       "</div>"
      ],
      "text/plain": [
       "      month      plan  messages\n",
       "0   2018-01      surf      21.0\n",
       "1   2018-01  ultimate      62.0\n",
       "2   2018-02      surf     108.0\n",
       "3   2018-02  ultimate     151.0\n",
       "4   2018-03      surf     351.0\n",
       "5   2018-03  ultimate     243.0\n",
       "6   2018-04      surf     870.0\n",
       "7   2018-04  ultimate     463.0\n",
       "8   2018-05      surf    1849.0\n",
       "9   2018-05  ultimate     931.0\n",
       "10  2018-06      surf    2454.0\n",
       "11  2018-06  ultimate    1379.0\n",
       "12  2018-07      surf    3271.0\n",
       "13  2018-07  ultimate    1937.0\n",
       "14  2018-08      surf    4662.0\n",
       "15  2018-08  ultimate    2732.0\n",
       "16  2018-09      surf    5968.0\n",
       "17  2018-09  ultimate    3259.0\n",
       "18  2018-10      surf    8020.0\n",
       "19  2018-10  ultimate    4181.0\n",
       "20  2018-11      surf    9165.0\n",
       "21  2018-11  ultimate    4903.0\n",
       "22  2018-12      surf   12275.0\n",
       "23  2018-12  ultimate    6796.0"
      ]
     },
     "execution_count": 32,
     "metadata": {},
     "output_type": "execute_result"
    }
   ],
   "source": [
    "# Compare the number of messages users of each plan tend to send each month\n",
    "\n",
    "# Convert 'month' to string\n",
    "df['month'] = df['month'].astype(str)\n",
    "\n",
    "# Calculate total number of messages by plan\n",
    "messages_per_plan = df.groupby('plan')['messages'].sum().reset_index()\n",
    "\n",
    "# Calculate total number of messages by plan and month\n",
    "messages_per_plan_per_month = df.groupby(['month', 'plan'])['messages'].sum().reset_index()\n",
    "\n",
    "# Display results\n",
    "print(\"Total messages per plan:\")\n",
    "print(messages_per_plan)\n",
    "\n",
    "print(\"\\nTotal messages per plan and month:\")\n",
    "messages_per_plan_per_month"
   ]
  },
  {
   "cell_type": "code",
   "execution_count": 33,
   "metadata": {},
   "outputs": [
    {
     "data": {
      "image/png": "[encoded data removed]",
      "text/plain": [
       "<Figure size 1200x600 with 1 Axes>"
      ]
     },
     "metadata": {},
     "output_type": "display_data"
    }
   ],
   "source": [
    "# Pivot the data for side-by-side bar plotting\n",
    "pivot_data = messages_per_plan_per_month.pivot(index='month', columns='plan', values='messages').fillna(0)\n",
    "\n",
    "# Plotting\n",
    "fig, ax = plt.subplots(figsize=(12, 6))\n",
    "\n",
    "# Plot side-by-side bars for each month\n",
    "pivot_data.plot(kind='bar', ax=ax, width=0.8)  # width controls the space between bars\n",
    "\n",
    "# Customize the plot\n",
    "ax.set_xlabel('Month')\n",
    "ax.set_ylabel('Total Messages Sent')\n",
    "ax.set_title('Total Messages Sent by Plan Each Month')\n",
    "ax.legend(title='Plan')\n",
    "plt.xticks(rotation=45, ha='right')\n",
    "plt.tight_layout()\n",
    "\n",
    "# Show the plot\n",
    "plt.show()"
   ]
  },
  {
   "cell_type": "code",
   "execution_count": 34,
   "metadata": {},
   "outputs": [
    {
     "data": {
      "text/html": [
       "<div>\n",
       "<style scoped>\n",
       "    .dataframe tbody tr th:only-of-type {\n",
       "        vertical-align: middle;\n",
       "    }\n",
       "\n",
       "    .dataframe tbody tr th {\n",
       "        vertical-align: top;\n",
       "    }\n",
       "\n",
       "    .dataframe thead th {\n",
       "        text-align: right;\n",
       "    }\n",
       "</style>\n",
       "<table border=\"1\" class=\"dataframe\">\n",
       "  <thead>\n",
       "    <tr style=\"text-align: right;\">\n",
       "      <th></th>\n",
       "      <th>plan</th>\n",
       "      <th>mb_used</th>\n",
       "    </tr>\n",
       "  </thead>\n",
       "  <tbody>\n",
       "    <tr>\n",
       "      <th>0</th>\n",
       "      <td>surf</td>\n",
       "      <td>26046179.93</td>\n",
       "    </tr>\n",
       "    <tr>\n",
       "      <th>1</th>\n",
       "      <td>ultimate</td>\n",
       "      <td>12394583.78</td>\n",
       "    </tr>\n",
       "  </tbody>\n",
       "</table>\n",
       "</div>"
      ],
      "text/plain": [
       "       plan      mb_used\n",
       "0      surf  26046179.93\n",
       "1  ultimate  12394583.78"
      ]
     },
     "execution_count": 34,
     "metadata": {},
     "output_type": "execute_result"
    }
   ],
   "source": [
    "# Compare the amount of internet traffic consumed by users per plan\n",
    "internet_traffic_per_plan = df.groupby('plan')['mb_used'].sum().reset_index()\n",
    "\n",
    "internet_traffic_per_plan"
   ]
  },
  {
   "cell_type": "code",
   "execution_count": 35,
   "metadata": {},
   "outputs": [
    {
     "data": {
      "image/png": "[encoded data removed]",
      "text/plain": [
       "<Figure size 1200x600 with 1 Axes>"
      ]
     },
     "metadata": {},
     "output_type": "display_data"
    }
   ],
   "source": [
    "# Plot a boxplot to visualize the distribution of the monthly messages\n",
    "plt.figure(figsize=(12, 6))\n",
    "sns.boxplot(x='plan', y='messages', data=df)\n",
    "plt.xlabel('Plan')\n",
    "plt.ylabel('Monthly Messages')\n",
    "plt.title('Distribution of Monthly Messages by Plan')\n",
    "plt.tight_layout()\n",
    "plt.show()"
   ]
  },
  {
   "cell_type": "markdown",
   "metadata": {},
   "source": [
    "- Users on surf send more messages than users on ultimate.\n",
    "\n",
    "\n",
    "- Users on surf consume more internet traffic compared to ultimate."
   ]
  },
  {
   "cell_type": "markdown",
   "metadata": {},
   "source": [
    " "
   ]
  },
  {
   "cell_type": "markdown",
   "metadata": {},
   "source": [
    "### Internet"
   ]
  },
  {
   "cell_type": "code",
   "execution_count": 36,
   "metadata": {},
   "outputs": [
    {
     "data": {
      "image/png": "[encoded data removed]",
      "text/plain": [
       "<Figure size 1200x600 with 1 Axes>"
      ]
     },
     "metadata": {},
     "output_type": "display_data"
    }
   ],
   "source": [
    "# Looking at internet data usage by month\n",
    "\n",
    "# Ensure 'month' is a string\n",
    "df['month'] = df['month'].astype(str)\n",
    "\n",
    "# Aggregate total mb_used by plan and month\n",
    "mb_used_per_plan_per_month = df.groupby(['month', 'plan'])['mb_used'].sum().reset_index()\n",
    "\n",
    "# Pivot the data for side-by-side bar plotting\n",
    "pivot_data = mb_used_per_plan_per_month.pivot(index='month', columns='plan', values='mb_used').fillna(0)\n",
    "\n",
    "# Plotting\n",
    "fig, ax = plt.subplots(figsize=(12, 6))\n",
    "\n",
    "# Plot side-by-side bars for each month\n",
    "pivot_data.plot(kind='bar', ax=ax, width=0.8)\n",
    "\n",
    "# Customize the plot\n",
    "ax.set_xlabel('Month')\n",
    "ax.set_ylabel('Total MB Used')\n",
    "ax.set_title('Total MB Used by Plan Each Month')\n",
    "ax.legend(title='Plan')\n",
    "plt.xticks(rotation=45, ha='right')\n",
    "plt.tight_layout()\n",
    "\n",
    "# Show the plot\n",
    "plt.show()"
   ]
  },
  {
   "cell_type": "code",
   "execution_count": 37,
   "metadata": {
    "scrolled": true
   },
   "outputs": [
    {
     "data": {
      "image/png": "[encoded data removed]",
      "text/plain": [
       "<Figure size 1000x600 with 1 Axes>"
      ]
     },
     "metadata": {},
     "output_type": "display_data"
    }
   ],
   "source": [
    "# Plotting\n",
    "plt.figure(figsize=(10, 6))\n",
    "plt.bar(internet_traffic_per_plan['plan'], internet_traffic_per_plan['mb_used'], color='skyblue')\n",
    "\n",
    "plt.xlabel('Plan')\n",
    "plt.ylabel('Total Internet Traffic Consumed (MB)')\n",
    "plt.title('Total Internet Traffic Consumed by Plan')\n",
    "plt.xticks(rotation=45)\n",
    "plt.tight_layout()\n",
    "\n",
    "plt.show()\n"
   ]
  },
  {
   "cell_type": "code",
   "execution_count": 38,
   "metadata": {},
   "outputs": [
    {
     "data": {
      "text/html": [
       "<div>\n",
       "<style scoped>\n",
       "    .dataframe tbody tr th:only-of-type {\n",
       "        vertical-align: middle;\n",
       "    }\n",
       "\n",
       "    .dataframe tbody tr th {\n",
       "        vertical-align: top;\n",
       "    }\n",
       "\n",
       "    .dataframe thead th {\n",
       "        text-align: right;\n",
       "    }\n",
       "</style>\n",
       "<table border=\"1\" class=\"dataframe\">\n",
       "  <thead>\n",
       "    <tr style=\"text-align: right;\">\n",
       "      <th></th>\n",
       "      <th>month</th>\n",
       "      <th>num_users_exceeded</th>\n",
       "    </tr>\n",
       "  </thead>\n",
       "  <tbody>\n",
       "    <tr>\n",
       "      <th>0</th>\n",
       "      <td>2018-02</td>\n",
       "      <td>4</td>\n",
       "    </tr>\n",
       "    <tr>\n",
       "      <th>1</th>\n",
       "      <td>2018-03</td>\n",
       "      <td>14</td>\n",
       "    </tr>\n",
       "    <tr>\n",
       "      <th>2</th>\n",
       "      <td>2018-04</td>\n",
       "      <td>19</td>\n",
       "    </tr>\n",
       "    <tr>\n",
       "      <th>3</th>\n",
       "      <td>2018-05</td>\n",
       "      <td>31</td>\n",
       "    </tr>\n",
       "    <tr>\n",
       "      <th>4</th>\n",
       "      <td>2018-06</td>\n",
       "      <td>52</td>\n",
       "    </tr>\n",
       "    <tr>\n",
       "      <th>5</th>\n",
       "      <td>2018-07</td>\n",
       "      <td>75</td>\n",
       "    </tr>\n",
       "    <tr>\n",
       "      <th>6</th>\n",
       "      <td>2018-08</td>\n",
       "      <td>96</td>\n",
       "    </tr>\n",
       "    <tr>\n",
       "      <th>7</th>\n",
       "      <td>2018-09</td>\n",
       "      <td>120</td>\n",
       "    </tr>\n",
       "    <tr>\n",
       "      <th>8</th>\n",
       "      <td>2018-10</td>\n",
       "      <td>153</td>\n",
       "    </tr>\n",
       "    <tr>\n",
       "      <th>9</th>\n",
       "      <td>2018-11</td>\n",
       "      <td>161</td>\n",
       "    </tr>\n",
       "    <tr>\n",
       "      <th>10</th>\n",
       "      <td>2018-12</td>\n",
       "      <td>227</td>\n",
       "    </tr>\n",
       "  </tbody>\n",
       "</table>\n",
       "</div>"
      ],
      "text/plain": [
       "      month  num_users_exceeded\n",
       "0   2018-02                   4\n",
       "1   2018-03                  14\n",
       "2   2018-04                  19\n",
       "3   2018-05                  31\n",
       "4   2018-06                  52\n",
       "5   2018-07                  75\n",
       "6   2018-08                  96\n",
       "7   2018-09                 120\n",
       "8   2018-10                 153\n",
       "9   2018-11                 161\n",
       "10  2018-12                 227"
      ]
     },
     "execution_count": 38,
     "metadata": {},
     "output_type": "execute_result"
    }
   ],
   "source": [
    "users_exceeded_data = df[df['mb_used'] > df['mb_per_month_included']]\n",
    "\n",
    "# Count the number of users exceeding data limits each month\n",
    "exceeding_users_per_month = users_exceeded_data.groupby('month')['user_id'].nunique().reset_index()\n",
    "exceeding_users_per_month.columns = ['month', 'num_users_exceeded']\n",
    "\n",
    "# Display the result\n",
    "exceeding_users_per_month"
   ]
  },
  {
   "cell_type": "code",
   "execution_count": 39,
   "metadata": {},
   "outputs": [
    {
     "data": {
      "text/html": [
       "<div>\n",
       "<style scoped>\n",
       "    .dataframe tbody tr th:only-of-type {\n",
       "        vertical-align: middle;\n",
       "    }\n",
       "\n",
       "    .dataframe tbody tr th {\n",
       "        vertical-align: top;\n",
       "    }\n",
       "\n",
       "    .dataframe thead th {\n",
       "        text-align: right;\n",
       "    }\n",
       "</style>\n",
       "<table border=\"1\" class=\"dataframe\">\n",
       "  <thead>\n",
       "    <tr style=\"text-align: right;\">\n",
       "      <th></th>\n",
       "      <th>month</th>\n",
       "      <th>plan</th>\n",
       "      <th>num_users_exceeded</th>\n",
       "    </tr>\n",
       "  </thead>\n",
       "  <tbody>\n",
       "    <tr>\n",
       "      <th>0</th>\n",
       "      <td>2018-02</td>\n",
       "      <td>surf</td>\n",
       "      <td>4</td>\n",
       "    </tr>\n",
       "    <tr>\n",
       "      <th>1</th>\n",
       "      <td>2018-03</td>\n",
       "      <td>surf</td>\n",
       "      <td>11</td>\n",
       "    </tr>\n",
       "    <tr>\n",
       "      <th>2</th>\n",
       "      <td>2018-03</td>\n",
       "      <td>ultimate</td>\n",
       "      <td>3</td>\n",
       "    </tr>\n",
       "    <tr>\n",
       "      <th>3</th>\n",
       "      <td>2018-04</td>\n",
       "      <td>surf</td>\n",
       "      <td>17</td>\n",
       "    </tr>\n",
       "    <tr>\n",
       "      <th>4</th>\n",
       "      <td>2018-04</td>\n",
       "      <td>ultimate</td>\n",
       "      <td>2</td>\n",
       "    </tr>\n",
       "    <tr>\n",
       "      <th>5</th>\n",
       "      <td>2018-05</td>\n",
       "      <td>surf</td>\n",
       "      <td>30</td>\n",
       "    </tr>\n",
       "    <tr>\n",
       "      <th>6</th>\n",
       "      <td>2018-05</td>\n",
       "      <td>ultimate</td>\n",
       "      <td>1</td>\n",
       "    </tr>\n",
       "    <tr>\n",
       "      <th>7</th>\n",
       "      <td>2018-06</td>\n",
       "      <td>surf</td>\n",
       "      <td>50</td>\n",
       "    </tr>\n",
       "    <tr>\n",
       "      <th>8</th>\n",
       "      <td>2018-06</td>\n",
       "      <td>ultimate</td>\n",
       "      <td>2</td>\n",
       "    </tr>\n",
       "    <tr>\n",
       "      <th>9</th>\n",
       "      <td>2018-07</td>\n",
       "      <td>surf</td>\n",
       "      <td>73</td>\n",
       "    </tr>\n",
       "    <tr>\n",
       "      <th>10</th>\n",
       "      <td>2018-07</td>\n",
       "      <td>ultimate</td>\n",
       "      <td>2</td>\n",
       "    </tr>\n",
       "    <tr>\n",
       "      <th>11</th>\n",
       "      <td>2018-08</td>\n",
       "      <td>surf</td>\n",
       "      <td>92</td>\n",
       "    </tr>\n",
       "    <tr>\n",
       "      <th>12</th>\n",
       "      <td>2018-08</td>\n",
       "      <td>ultimate</td>\n",
       "      <td>4</td>\n",
       "    </tr>\n",
       "    <tr>\n",
       "      <th>13</th>\n",
       "      <td>2018-09</td>\n",
       "      <td>surf</td>\n",
       "      <td>115</td>\n",
       "    </tr>\n",
       "    <tr>\n",
       "      <th>14</th>\n",
       "      <td>2018-09</td>\n",
       "      <td>ultimate</td>\n",
       "      <td>5</td>\n",
       "    </tr>\n",
       "    <tr>\n",
       "      <th>15</th>\n",
       "      <td>2018-10</td>\n",
       "      <td>surf</td>\n",
       "      <td>147</td>\n",
       "    </tr>\n",
       "    <tr>\n",
       "      <th>16</th>\n",
       "      <td>2018-10</td>\n",
       "      <td>ultimate</td>\n",
       "      <td>6</td>\n",
       "    </tr>\n",
       "    <tr>\n",
       "      <th>17</th>\n",
       "      <td>2018-11</td>\n",
       "      <td>surf</td>\n",
       "      <td>156</td>\n",
       "    </tr>\n",
       "    <tr>\n",
       "      <th>18</th>\n",
       "      <td>2018-11</td>\n",
       "      <td>ultimate</td>\n",
       "      <td>5</td>\n",
       "    </tr>\n",
       "    <tr>\n",
       "      <th>19</th>\n",
       "      <td>2018-12</td>\n",
       "      <td>surf</td>\n",
       "      <td>216</td>\n",
       "    </tr>\n",
       "    <tr>\n",
       "      <th>20</th>\n",
       "      <td>2018-12</td>\n",
       "      <td>ultimate</td>\n",
       "      <td>11</td>\n",
       "    </tr>\n",
       "  </tbody>\n",
       "</table>\n",
       "</div>"
      ],
      "text/plain": [
       "      month      plan  num_users_exceeded\n",
       "0   2018-02      surf                   4\n",
       "1   2018-03      surf                  11\n",
       "2   2018-03  ultimate                   3\n",
       "3   2018-04      surf                  17\n",
       "4   2018-04  ultimate                   2\n",
       "5   2018-05      surf                  30\n",
       "6   2018-05  ultimate                   1\n",
       "7   2018-06      surf                  50\n",
       "8   2018-06  ultimate                   2\n",
       "9   2018-07      surf                  73\n",
       "10  2018-07  ultimate                   2\n",
       "11  2018-08      surf                  92\n",
       "12  2018-08  ultimate                   4\n",
       "13  2018-09      surf                 115\n",
       "14  2018-09  ultimate                   5\n",
       "15  2018-10      surf                 147\n",
       "16  2018-10  ultimate                   6\n",
       "17  2018-11      surf                 156\n",
       "18  2018-11  ultimate                   5\n",
       "19  2018-12      surf                 216\n",
       "20  2018-12  ultimate                  11"
      ]
     },
     "execution_count": 39,
     "metadata": {},
     "output_type": "execute_result"
    }
   ],
   "source": [
    "# Count the number of unique users exceeding data limits each month by plan\n",
    "exceeding_users_per_month_plan = users_exceeded_data.groupby(['month', 'plan'])['user_id'].nunique().reset_index()\n",
    "exceeding_users_per_month_plan.columns = ['month', 'plan', 'num_users_exceeded']\n",
    "\n",
    "# Display the result\n",
    "exceeding_users_per_month_plan"
   ]
  },
  {
   "cell_type": "code",
   "execution_count": 40,
   "metadata": {},
   "outputs": [
    {
     "data": {
      "image/png": "[encoded data removed]",
      "text/plain": [
       "<Figure size 1200x600 with 1 Axes>"
      ]
     },
     "metadata": {},
     "output_type": "display_data"
    }
   ],
   "source": [
    "# Pivot data for plotting\n",
    "pivot_data = exceeding_users_per_month_plan.pivot(index='month', columns='plan', values='num_users_exceeded').fillna(0)\n",
    "\n",
    "# Plotting\n",
    "fig, ax = plt.subplots(figsize=(12, 6))\n",
    "\n",
    "pivot_data.plot(kind='bar', ax=ax, width=0.8)\n",
    "\n",
    "# Customize the plot\n",
    "ax.set_xlabel('Month')\n",
    "ax.set_ylabel('Number of Users Exceeding Data Usage')\n",
    "ax.set_title('Number of Users Exceeding Data Usage by Plan Each Month')\n",
    "ax.legend(title='Plan')\n",
    "plt.xticks(rotation=45)\n",
    "plt.tight_layout()\n",
    "\n",
    "plt.show()"
   ]
  },
  {
   "cell_type": "code",
   "execution_count": 41,
   "metadata": {},
   "outputs": [
    {
     "data": {
      "text/html": [
       "<div>\n",
       "<style scoped>\n",
       "    .dataframe tbody tr th:only-of-type {\n",
       "        vertical-align: middle;\n",
       "    }\n",
       "\n",
       "    .dataframe tbody tr th {\n",
       "        vertical-align: top;\n",
       "    }\n",
       "\n",
       "    .dataframe thead th {\n",
       "        text-align: right;\n",
       "    }\n",
       "</style>\n",
       "<table border=\"1\" class=\"dataframe\">\n",
       "  <thead>\n",
       "    <tr style=\"text-align: right;\">\n",
       "      <th></th>\n",
       "      <th>plan</th>\n",
       "      <th>extra_data_charge</th>\n",
       "    </tr>\n",
       "  </thead>\n",
       "  <tbody>\n",
       "    <tr>\n",
       "      <th>0</th>\n",
       "      <td>surf</td>\n",
       "      <td>66.739846</td>\n",
       "    </tr>\n",
       "    <tr>\n",
       "      <th>1</th>\n",
       "      <td>ultimate</td>\n",
       "      <td>40.634146</td>\n",
       "    </tr>\n",
       "  </tbody>\n",
       "</table>\n",
       "</div>"
      ],
      "text/plain": [
       "       plan  extra_data_charge\n",
       "0      surf          66.739846\n",
       "1  ultimate          40.634146"
      ]
     },
     "execution_count": 41,
     "metadata": {},
     "output_type": "execute_result"
    }
   ],
   "source": [
    "# Calculate the extra data charge for users exceeding their data usage\n",
    "df['gb_used'] = np.ceil(df['mb_used'] / 1024)  # Convert MB to GB and round up\n",
    "df['gb_included'] = df['mb_per_month_included'] / 1024  # Convert included MB to GB\n",
    "df['extra_data_charge'] = (df['gb_used'] - df['gb_included']).clip(lower=0) * df['usd_per_gb']\n",
    "\n",
    "# Filter for users who exceeded their data usage\n",
    "exceed_data_df = df[df['extra_data_charge'] > 0]\n",
    "\n",
    "# Calculate total extra charge per user per month\n",
    "user_monthly_extra_charges = exceed_data_df.groupby(['user_id', 'month', 'plan'])['extra_data_charge'].sum().reset_index()\n",
    "\n",
    "# Calculate average extra charge per user per month by plan\n",
    "average_extra_charge_per_plan = user_monthly_extra_charges.groupby('plan')['extra_data_charge'].mean().reset_index()\n",
    "\n",
    "# Display average extra charges per plan\n",
    "average_extra_charge_per_plan"
   ]
  },
  {
   "cell_type": "code",
   "execution_count": 42,
   "metadata": {},
   "outputs": [
    {
     "data": {
      "image/png": "[encoded data removed]",
      "text/plain": [
       "<Figure size 1200x600 with 1 Axes>"
      ]
     },
     "metadata": {},
     "output_type": "display_data"
    }
   ],
   "source": [
    "# Plot a boxplot to visualize the distribution of the monthly mb_used\n",
    "plt.figure(figsize=(12, 6))\n",
    "sns.boxplot(x='plan', y='mb_used', data=df)\n",
    "plt.xlabel('Plan')\n",
    "plt.ylabel('Monthly MB Used')\n",
    "plt.title('Distribution of Monthly MB Used by Plan')\n",
    "plt.tight_layout()\n",
    "plt.show()\n"
   ]
  },
  {
   "cell_type": "markdown",
   "metadata": {},
   "source": [
    "### Observations\n",
    "\n",
    "- Internet Usage:\n",
    "\n",
    "    - Users on the \"surf\" plan tend to consume more internet data on average compared to users on the \"ultimate\" plan.\n",
    "    - The data usage for \"surf\" plan users increases significantly over time, indicating a higher demand for internet usage.\n",
    "\n",
    "- Data Limit Exceedance:\n",
    "\n",
    "    - A larger proportion of \"surf\" plan users exceed their data limits compared to \"ultimate\" plan users.\n",
    "    - This suggests that the data allowance in the \"surf\" plan may not be sufficient for many users, leading to additional charges for exceeding their limits.\n",
    "\n",
    "- Behavioral Differences:\n",
    "\n",
    "    - The behavior of users in terms of internet consumption is noticeably different between the two plans. \"Surf\" plan users are more likely to consume large amounts of data and exceed their limits, whereas \"ultimate\" plan users have a more moderate usage pattern and are less likely to exceed their data limits."
   ]
  },
  {
   "cell_type": "markdown",
   "metadata": {},
   "source": [
    " "
   ]
  },
  {
   "cell_type": "markdown",
   "metadata": {},
   "source": [
    "## Revenue"
   ]
  },
  {
   "cell_type": "code",
   "execution_count": 43,
   "metadata": {
    "scrolled": true
   },
   "outputs": [
    {
     "data": {
      "text/html": [
       "<div>\n",
       "<style scoped>\n",
       "    .dataframe tbody tr th:only-of-type {\n",
       "        vertical-align: middle;\n",
       "    }\n",
       "\n",
       "    .dataframe tbody tr th {\n",
       "        vertical-align: top;\n",
       "    }\n",
       "\n",
       "    .dataframe thead tr th {\n",
       "        text-align: left;\n",
       "    }\n",
       "</style>\n",
       "<table border=\"1\" class=\"dataframe\">\n",
       "  <thead>\n",
       "    <tr>\n",
       "      <th></th>\n",
       "      <th>plan_name</th>\n",
       "      <th colspan=\"5\" halign=\"left\">total_revenue</th>\n",
       "    </tr>\n",
       "    <tr>\n",
       "      <th></th>\n",
       "      <th></th>\n",
       "      <th>mean</th>\n",
       "      <th>median</th>\n",
       "      <th>std</th>\n",
       "      <th>var</th>\n",
       "      <th>skew</th>\n",
       "    </tr>\n",
       "  </thead>\n",
       "  <tbody>\n",
       "    <tr>\n",
       "      <th>0</th>\n",
       "      <td>surf</td>\n",
       "      <td>60.125515</td>\n",
       "      <td>40.42</td>\n",
       "      <td>53.533338</td>\n",
       "      <td>2865.818321</td>\n",
       "      <td>2.440321</td>\n",
       "    </tr>\n",
       "    <tr>\n",
       "      <th>1</th>\n",
       "      <td>ultimate</td>\n",
       "      <td>72.277700</td>\n",
       "      <td>70.00</td>\n",
       "      <td>11.351942</td>\n",
       "      <td>128.866595</td>\n",
       "      <td>6.146199</td>\n",
       "    </tr>\n",
       "  </tbody>\n",
       "</table>\n",
       "</div>"
      ],
      "text/plain": [
       "  plan_name total_revenue                                         \n",
       "                     mean median        std          var      skew\n",
       "0      surf     60.125515  40.42  53.533338  2865.818321  2.440321\n",
       "1  ultimate     72.277700  70.00  11.351942   128.866595  6.146199"
      ]
     },
     "execution_count": 43,
     "metadata": {},
     "output_type": "execute_result"
    }
   ],
   "source": [
    "revenue_stats = monthly_usage.groupby('plan_name').agg({\n",
    "    'total_revenue': ['mean', 'median', 'std', 'var', 'skew']\n",
    "}).reset_index()\n",
    "\n",
    "revenue_stats"
   ]
  },
  {
   "cell_type": "code",
   "execution_count": 44,
   "metadata": {},
   "outputs": [
    {
     "data": {
      "image/png": "[encoded data removed]",
      "text/plain": [
       "<Figure size 1200x600 with 1 Axes>"
      ]
     },
     "metadata": {},
     "output_type": "display_data"
    }
   ],
   "source": [
    "# Plot the revenue distributions for each plan\n",
    "plt.figure(figsize=(12, 6))\n",
    "\n",
    "# Plot the histograms for each plan separately\n",
    "for plan in monthly_usage['plan'].unique():\n",
    "    sns.histplot(monthly_usage[monthly_usage['plan'] == plan]['total_revenue'], kde=True, bins=30, label=plan)\n",
    "\n",
    "plt.title('Revenue Distribution by Plan')\n",
    "plt.xlabel('Monthly Revenue ($)')\n",
    "plt.ylabel('Frequency')\n",
    "plt.legend(title='Plan')\n",
    "plt.show()"
   ]
  },
  {
   "cell_type": "markdown",
   "metadata": {},
   "source": [
    "### Summary and Conclusions:\n",
    "\n",
    "- Surf Plan:\n",
    "\n",
    "    - Lower base monthly charge but higher overage charges.\n",
    "    - Users with higher usage might end up paying significantly more due to overage charges.\n",
    "\n",
    "- Ultimate Plan:\n",
    "\n",
    "    - Higher base monthly charge but lower overage charges.\n",
    "    - More suitable for heavy users as the overage charges are lower.\n",
    "\n",
    "### Based on the revenue statistics and distributions, we observe that:\n",
    "\n",
    "- The Ultimate plan tends to generate more consistent revenue due to its higher base monthly charge.\n",
    "\n",
    "- The Surf plan might generate higher revenue for users who frequently exceed their allowances, especially in terms of data usage."
   ]
  },
  {
   "cell_type": "markdown",
   "metadata": {},
   "source": [
    " "
   ]
  },
  {
   "cell_type": "markdown",
   "metadata": {},
   "source": [
    "## Test statistical hypotheses"
   ]
  },
  {
   "cell_type": "code",
   "execution_count": 45,
   "metadata": {},
   "outputs": [
    {
     "name": "stdout",
     "output_type": "stream",
     "text": [
      "T-Statistic: 8.517344212487158\n",
      "P-Value: 3.363644868810144e-17\n",
      "Reject the null hypothesis. The average revenue from users of the Ultimate and Surf calling plans differs.\n"
     ]
    }
   ],
   "source": [
    "# Test the hypotheses - Average revenue from users of Ultimate and Surf plans differs\n",
    "\n",
    "# Extract revenues for each plan\n",
    "ultimate_revenue = monthly_usage[monthly_usage['plan'] == 'ultimate']['total_revenue'].dropna()\n",
    "\n",
    "surf_revenue = monthly_usage[monthly_usage['plan'] == 'surf']['total_revenue'].dropna()\n",
    "\n",
    "# Perform the two-sample t-test\n",
    "t_stat, p_value = stats.ttest_ind(ultimate_revenue, surf_revenue, equal_var=False)\n",
    "\n",
    "# Display the results\n",
    "print(f\"T-Statistic: {t_stat}\")\n",
    "print(f\"P-Value: {p_value}\")\n",
    "\n",
    "# Decide on the alpha value\n",
    "alpha = 0.05\n",
    "\n",
    "# Determine if we reject the null hypothesis\n",
    "if p_value < alpha:\n",
    "    print(\"Reject the null hypothesis. The average revenue from users of the Ultimate and Surf calling plans differs.\")\n",
    "else:\n",
    "    print(\"Fail to reject the null hypothesis. There is no significant difference in the average revenue from users of the Ultimate and Surf calling plans.\")"
   ]
  },
  {
   "cell_type": "markdown",
   "metadata": {},
   "source": [
    "<p> Since the p-value is significantly less than the alpha value (0.05), we reject the null hypothesis. This indicates that there is a statistically significant difference in the average revenue generated by users of the Ultimate and Surf calling plans.<p>"
   ]
  },
  {
   "cell_type": "code",
   "execution_count": 46,
   "metadata": {},
   "outputs": [
    {
     "name": "stdout",
     "output_type": "stream",
     "text": [
      "T-Statistic: -2.4886592913992516\n",
      "P-Value: 0.013118130086619653\n",
      "Reject the null hypothesis. The average revenue from users in the NY-NJ area differs from that of users from other regions.\n"
     ]
    }
   ],
   "source": [
    "# Test the hypotheses\n",
    "monthly_usage = monthly_usage.merge(users_data[['user_id', 'city', 'plan']], on='user_id', how='left')\n",
    "\n",
    "# Extract revenues for each region\n",
    "ny_nj_revenue = monthly_usage[monthly_usage['city'].str.contains('NY-NJ', na=False)]['total_revenue'].dropna()\n",
    "other_regions_revenue = monthly_usage[~monthly_usage['city'].str.contains('NY-NJ', na=False)]['total_revenue'].dropna()\n",
    "\n",
    "# Perform the two-sample t-test\n",
    "t_stat, p_value = stats.ttest_ind(ny_nj_revenue, other_regions_revenue, equal_var=False)\n",
    "\n",
    "# Display the results\n",
    "print(f\"T-Statistic: {t_stat}\")\n",
    "print(f\"P-Value: {p_value}\")\n",
    "\n",
    "# Decide on the alpha value\n",
    "alpha = 0.05\n",
    "\n",
    "# Determine if we reject the null hypothesis\n",
    "if p_value < alpha:\n",
    "    print(\"Reject the null hypothesis. The average revenue from users in the NY-NJ area differs from that of users from other regions.\")\n",
    "else:\n",
    "    print(\"Fail to reject the null hypothesis. There is no significant difference in the average revenue from users in the NY-NJ area compared to users from other regions.\")\n",
    "\n"
   ]
  },
  {
   "cell_type": "markdown",
   "metadata": {},
   "source": [
    "<p> Since the p-value (0.0131) is less than the alpha value (0.05), we reject the null hypothesis. This indicates that there is a statistically significant difference in the average revenue generated by users in the NY-NJ area compared to users from other regions.<p>"
   ]
  },
  {
   "cell_type": "markdown",
   "metadata": {},
   "source": [
    "## General conclusion\n",
    "\n",
    "### Revenue Analysis Summary\n",
    "\n",
    "**Usage Patterns**:\n",
    "\n",
    "- Call Duration: Surf users have a higher mean call duration and greater variability in call lengths compared to Ultimate users.\n",
    "\n",
    "- Text Messages: Surf users send more messages on average than Ultimate users.\n",
    "\n",
    "- Data Usage: Surf users consume more data on average and exhibit a higher rate of exceeding their data limits compared to Ultimate users.\n",
    "\n",
    "**Overage Charges**:\n",
    "\n",
    "- Surf Plan: Despite having a lower base monthly charge, Surf users often incur higher costs due to overage charges, especially for data. This is due to Surf users' higher data consumption and the higher per-GB charge for excess data.\n",
    "\n",
    "- Ultimate Plan: The higher base monthly charge is offset by lower overage charges. This plan is more suited to heavy users as the cost of exceeding allowances is lower.\n",
    "\n",
    "**Revenue Generation**:\n",
    "\n",
    "- Ultimate Plan: Generates more consistent revenue due to its higher base charge, making it more predictable.\n",
    "\n",
    "- Surf Plan: Potentially generates higher revenue from users who frequently exceed their included allowances, particularly in data usage.\n",
    "\n",
    "**Statistical Significance**:\n",
    "\n",
    "- There is a statistically significant difference in average revenue between the Ultimate and Surf plans, with a p-value of 0.0186, which is less than the alpha value of 0.05.\n",
    "\n",
    "- There is also a significant difference in revenue between users in the NY-NJ area and those from other regions.\n",
    "\n",
    "## Conclusion\n",
    "\n",
    "<p>The Ultimate Plan is more stable and predictable in terms of revenue due to its higher base charge. It suits users with high but manageable usage, providing a lower cost for additional usage. The Surf Plan, while offering a lower base charge, may result in higher revenues from users with heavy or inconsistent usage patterns due to frequent overages, particularly in data.\n",
    "\n",
    "To adjust the advertising budget effectively, consider focusing on promoting the Ultimate Plan to attract users with high and consistent usage, while leveraging the Surf Plan's potential for higher revenue from heavy users who exceed their allowances.<p>"
   ]
  },
  {
   "cell_type": "markdown",
   "metadata": {},
   "source": [
    " "
   ]
  }
 ],
 "metadata": {
  "ExecuteTimeLog": [
   {
    "duration": 828,
    "start_time": "2021-11-16T09:21:11.304Z"
   },
   {
    "duration": 893,
    "start_time": "2021-11-16T09:21:17.728Z"
   },
   {
    "duration": 1150,
    "start_time": "2021-11-16T09:21:29.568Z"
   },
   {
    "duration": 3,
    "start_time": "2021-11-16T09:24:14.495Z"
   },
   {
    "duration": 120,
    "start_time": "2021-11-16T09:24:46.630Z"
   },
   {
    "duration": 3,
    "start_time": "2021-11-16T09:28:27.882Z"
   },
   {
    "duration": 4,
    "start_time": "2021-11-16T09:29:54.281Z"
   },
   {
    "duration": 3,
    "start_time": "2021-11-16T09:30:45.936Z"
   },
   {
    "duration": 4,
    "start_time": "2021-11-16T09:31:06.300Z"
   },
   {
    "duration": 113,
    "start_time": "2021-11-16T09:31:37.208Z"
   },
   {
    "duration": 143,
    "start_time": "2021-11-16T09:31:48.656Z"
   },
   {
    "duration": 98,
    "start_time": "2021-11-16T09:31:55.678Z"
   },
   {
    "duration": 3,
    "start_time": "2021-11-16T09:32:08.535Z"
   },
   {
    "duration": 111,
    "start_time": "2021-11-16T09:32:10.120Z"
   },
   {
    "duration": 3,
    "start_time": "2021-11-16T09:32:15.732Z"
   },
   {
    "duration": 4,
    "start_time": "2021-11-16T09:32:29.423Z"
   },
   {
    "duration": 3,
    "start_time": "2021-11-16T10:03:03.074Z"
   },
   {
    "duration": 3,
    "start_time": "2021-11-16T10:10:01.288Z"
   },
   {
    "duration": 3,
    "start_time": "2021-11-16T10:10:46.923Z"
   },
   {
    "duration": 121,
    "start_time": "2021-11-16T10:37:46.494Z"
   },
   {
    "duration": 125,
    "start_time": "2021-11-16T10:38:20.632Z"
   },
   {
    "duration": 112,
    "start_time": "2021-11-16T10:46:53.001Z"
   },
   {
    "duration": 110,
    "start_time": "2021-11-16T10:48:25.775Z"
   },
   {
    "duration": 3,
    "start_time": "2021-11-16T10:50:18.720Z"
   },
   {
    "duration": 4,
    "start_time": "2021-11-16T10:50:37.649Z"
   },
   {
    "duration": 2,
    "start_time": "2021-11-16T10:50:51.884Z"
   },
   {
    "duration": 3,
    "start_time": "2021-11-16T10:51:56.237Z"
   },
   {
    "duration": 101,
    "start_time": "2021-11-16T10:53:13.791Z"
   },
   {
    "duration": 3,
    "start_time": "2021-11-16T10:55:59.186Z"
   },
   {
    "duration": 3,
    "start_time": "2021-11-16T10:56:10.751Z"
   },
   {
    "duration": 3,
    "start_time": "2021-11-16T10:56:49.038Z"
   },
   {
    "duration": 3,
    "start_time": "2021-11-16T10:56:49.174Z"
   },
   {
    "duration": 4,
    "start_time": "2021-11-16T10:56:49.414Z"
   },
   {
    "duration": 3,
    "start_time": "2021-11-16T10:56:49.680Z"
   },
   {
    "duration": 3,
    "start_time": "2021-11-16T10:56:50.370Z"
   },
   {
    "duration": 114,
    "start_time": "2021-11-16T10:59:34.518Z"
   },
   {
    "duration": 3,
    "start_time": "2021-11-16T11:01:41.201Z"
   },
   {
    "duration": 116,
    "start_time": "2021-11-16T11:01:48.754Z"
   },
   {
    "duration": 3,
    "start_time": "2021-11-16T11:02:16.685Z"
   },
   {
    "duration": 3,
    "start_time": "2021-11-16T11:02:19.479Z"
   },
   {
    "duration": 3,
    "start_time": "2021-11-16T11:02:47.067Z"
   },
   {
    "duration": 3,
    "start_time": "2021-11-16T11:02:49.353Z"
   },
   {
    "duration": 3,
    "start_time": "2021-11-16T11:03:07.835Z"
   },
   {
    "duration": 3,
    "start_time": "2021-11-16T11:03:07.953Z"
   },
   {
    "duration": 112,
    "start_time": "2021-11-16T11:07:52.072Z"
   },
   {
    "duration": 187,
    "start_time": "2021-11-16T11:09:23.468Z"
   },
   {
    "duration": 4,
    "start_time": "2021-11-16T11:10:01.455Z"
   },
   {
    "duration": 3,
    "start_time": "2021-11-16T11:10:05.069Z"
   },
   {
    "duration": 4,
    "start_time": "2021-11-16T11:10:13.376Z"
   },
   {
    "duration": 3,
    "start_time": "2021-11-16T11:10:14.434Z"
   },
   {
    "duration": 3,
    "start_time": "2021-11-16T11:10:22.853Z"
   },
   {
    "duration": 4,
    "start_time": "2021-11-16T11:27:29.279Z"
   },
   {
    "duration": 4,
    "start_time": "2021-11-16T11:29:08.919Z"
   },
   {
    "duration": 118,
    "start_time": "2021-11-16T11:29:46.703Z"
   },
   {
    "duration": 437,
    "start_time": "2021-11-16T11:36:02.181Z"
   },
   {
    "duration": 157,
    "start_time": "2021-11-16T11:36:14.388Z"
   },
   {
    "duration": 207,
    "start_time": "2021-11-16T11:47:15.898Z"
   },
   {
    "duration": 3,
    "start_time": "2021-11-16T11:53:52.092Z"
   },
   {
    "duration": 3,
    "start_time": "2021-11-16T11:53:52.236Z"
   },
   {
    "duration": 3,
    "start_time": "2021-11-16T11:59:12.005Z"
   },
   {
    "duration": 112,
    "start_time": "2021-11-16T12:00:33.446Z"
   },
   {
    "duration": 3,
    "start_time": "2021-11-16T12:02:14.453Z"
   },
   {
    "duration": 3,
    "start_time": "2021-11-16T12:02:39.512Z"
   },
   {
    "duration": 106,
    "start_time": "2021-11-16T12:03:03.460Z"
   },
   {
    "duration": 3,
    "start_time": "2021-11-17T20:37:21.139Z"
   },
   {
    "duration": 3,
    "start_time": "2021-11-17T20:37:22.229Z"
   },
   {
    "duration": 3,
    "start_time": "2021-11-17T20:38:38.806Z"
   },
   {
    "duration": 3,
    "start_time": "2021-11-17T20:38:41.958Z"
   },
   {
    "duration": 3,
    "start_time": "2021-11-17T20:43:46.551Z"
   },
   {
    "duration": 4,
    "start_time": "2021-11-17T20:58:21.835Z"
   },
   {
    "duration": 3,
    "start_time": "2021-11-17T20:59:21.872Z"
   },
   {
    "duration": 4,
    "start_time": "2021-11-17T20:59:45.352Z"
   },
   {
    "duration": 4,
    "start_time": "2021-11-17T20:59:49.646Z"
   },
   {
    "duration": 159,
    "start_time": "2021-11-17T21:02:26.949Z"
   },
   {
    "duration": 3,
    "start_time": "2021-11-17T21:03:53.461Z"
   },
   {
    "duration": 3,
    "start_time": "2021-11-17T21:03:53.694Z"
   },
   {
    "duration": 3,
    "start_time": "2021-11-17T21:05:28.145Z"
   },
   {
    "duration": 116,
    "start_time": "2021-11-17T21:05:57.787Z"
   },
   {
    "duration": 3,
    "start_time": "2021-11-17T21:06:37.993Z"
   },
   {
    "duration": 3,
    "start_time": "2021-11-17T21:06:38.261Z"
   },
   {
    "duration": 3,
    "start_time": "2021-11-17T21:11:54.358Z"
   },
   {
    "duration": 3,
    "start_time": "2021-11-17T21:12:43.846Z"
   },
   {
    "duration": 4,
    "start_time": "2021-11-17T21:13:08.773Z"
   },
   {
    "duration": 3,
    "start_time": "2021-11-17T21:14:44.441Z"
   },
   {
    "duration": 3,
    "start_time": "2021-11-17T21:15:42.059Z"
   },
   {
    "duration": 4,
    "start_time": "2021-11-17T21:15:51.995Z"
   },
   {
    "duration": 3,
    "start_time": "2021-11-17T21:15:53.923Z"
   },
   {
    "duration": 3,
    "start_time": "2021-11-17T21:15:55.282Z"
   },
   {
    "duration": 3,
    "start_time": "2021-11-17T21:16:28.492Z"
   },
   {
    "duration": 3,
    "start_time": "2021-11-17T21:16:32.603Z"
   },
   {
    "duration": 3,
    "start_time": "2021-11-17T21:17:06.941Z"
   },
   {
    "duration": 98,
    "start_time": "2021-11-17T21:18:05.733Z"
   },
   {
    "duration": 4,
    "start_time": "2021-11-17T21:21:35.255Z"
   },
   {
    "duration": 3,
    "start_time": "2021-11-17T21:21:37.804Z"
   },
   {
    "duration": 4,
    "start_time": "2021-11-17T21:23:06.071Z"
   },
   {
    "duration": 3,
    "start_time": "2021-11-17T21:23:24.799Z"
   },
   {
    "duration": 3,
    "start_time": "2021-11-17T21:23:32.591Z"
   },
   {
    "duration": 98,
    "start_time": "2021-11-17T21:28:31.559Z"
   },
   {
    "duration": 3,
    "start_time": "2021-11-17T21:28:45.448Z"
   },
   {
    "duration": 3,
    "start_time": "2021-11-17T21:29:17.303Z"
   },
   {
    "duration": 3,
    "start_time": "2021-11-17T21:29:29.617Z"
   },
   {
    "duration": 3,
    "start_time": "2021-11-17T21:29:32.681Z"
   },
   {
    "duration": 3,
    "start_time": "2021-11-17T21:36:11.474Z"
   },
   {
    "duration": 3,
    "start_time": "2021-11-17T21:36:14.791Z"
   },
   {
    "duration": 3,
    "start_time": "2021-11-17T21:36:53.943Z"
   },
   {
    "duration": 3,
    "start_time": "2021-11-17T21:36:56.165Z"
   },
   {
    "duration": 4,
    "start_time": "2021-11-17T21:37:16.590Z"
   },
   {
    "duration": 3,
    "start_time": "2021-11-17T21:37:22.702Z"
   },
   {
    "duration": 4,
    "start_time": "2021-11-17T21:38:03.479Z"
   },
   {
    "duration": 3,
    "start_time": "2021-11-17T21:38:08.601Z"
   },
   {
    "duration": 3,
    "start_time": "2021-11-17T21:38:12.928Z"
   },
   {
    "duration": 3,
    "start_time": "2021-11-17T21:38:48.896Z"
   },
   {
    "duration": 2,
    "start_time": "2021-11-17T21:38:49.171Z"
   },
   {
    "duration": 4,
    "start_time": "2021-11-17T21:39:57.889Z"
   },
   {
    "duration": 3,
    "start_time": "2021-11-17T21:39:58.057Z"
   },
   {
    "duration": 3,
    "start_time": "2021-11-17T21:41:20.108Z"
   },
   {
    "duration": 3,
    "start_time": "2021-11-17T21:41:20.629Z"
   },
   {
    "duration": 3,
    "start_time": "2021-11-17T21:42:49.136Z"
   },
   {
    "duration": 3,
    "start_time": "2021-11-17T21:43:15.137Z"
   },
   {
    "duration": 4,
    "start_time": "2021-11-17T21:43:16.766Z"
   },
   {
    "duration": 4,
    "start_time": "2021-11-17T21:43:31.711Z"
   },
   {
    "duration": 3,
    "start_time": "2021-11-17T21:43:36.312Z"
   },
   {
    "duration": 4,
    "start_time": "2021-11-17T21:45:08.825Z"
   },
   {
    "duration": 4,
    "start_time": "2021-11-17T21:45:10.119Z"
   },
   {
    "duration": 4,
    "start_time": "2021-11-17T21:45:13.748Z"
   },
   {
    "duration": 3,
    "start_time": "2021-11-17T21:45:22.219Z"
   },
   {
    "duration": 3,
    "start_time": "2021-11-17T21:45:33.412Z"
   },
   {
    "duration": 2,
    "start_time": "2021-11-17T21:46:01.885Z"
   },
   {
    "duration": 3,
    "start_time": "2021-11-17T21:46:03.628Z"
   },
   {
    "duration": 107,
    "start_time": "2021-11-17T21:47:32.512Z"
   },
   {
    "duration": 103,
    "start_time": "2021-11-17T21:50:36.243Z"
   },
   {
    "duration": 3,
    "start_time": "2021-11-18T06:28:31.440Z"
   },
   {
    "duration": 3,
    "start_time": "2021-11-18T06:29:00.168Z"
   },
   {
    "duration": 3,
    "start_time": "2021-11-18T06:31:27.008Z"
   },
   {
    "duration": 2,
    "start_time": "2021-11-18T06:35:34.288Z"
   },
   {
    "duration": 2,
    "start_time": "2021-11-18T06:38:04.527Z"
   },
   {
    "duration": 4883,
    "start_time": "2024-07-24T12:22:03.140Z"
   },
   {
    "duration": 369,
    "start_time": "2024-07-24T12:22:08.026Z"
   },
   {
    "duration": 11,
    "start_time": "2024-07-24T12:22:08.398Z"
   },
   {
    "duration": 18,
    "start_time": "2024-07-24T12:24:14.593Z"
   },
   {
    "duration": 943,
    "start_time": "2024-07-24T12:25:43.111Z"
   },
   {
    "duration": 51,
    "start_time": "2024-07-24T12:28:28.053Z"
   },
   {
    "duration": 8,
    "start_time": "2024-07-24T12:28:31.767Z"
   },
   {
    "duration": 47,
    "start_time": "2024-07-24T12:29:29.231Z"
   },
   {
    "duration": 8,
    "start_time": "2024-07-24T12:29:37.389Z"
   },
   {
    "duration": 18,
    "start_time": "2024-07-24T12:36:19.823Z"
   },
   {
    "duration": 16,
    "start_time": "2024-07-24T12:36:40.746Z"
   },
   {
    "duration": 17,
    "start_time": "2024-07-24T12:36:55.204Z"
   },
   {
    "duration": 19,
    "start_time": "2024-07-24T12:37:04.773Z"
   },
   {
    "duration": 13,
    "start_time": "2024-07-24T12:37:15.700Z"
   },
   {
    "duration": 20,
    "start_time": "2024-07-24T12:38:10.583Z"
   },
   {
    "duration": 20,
    "start_time": "2024-07-24T12:38:36.590Z"
   },
   {
    "duration": 25,
    "start_time": "2024-07-24T12:38:58.345Z"
   },
   {
    "duration": 23,
    "start_time": "2024-07-24T12:39:16.508Z"
   },
   {
    "duration": 9,
    "start_time": "2024-07-24T12:45:54.767Z"
   },
   {
    "duration": 936,
    "start_time": "2024-07-24T12:49:32.751Z"
   },
   {
    "duration": 6,
    "start_time": "2024-07-24T12:51:43.708Z"
   },
   {
    "duration": 35,
    "start_time": "2024-07-24T12:56:03.840Z"
   },
   {
    "duration": 7,
    "start_time": "2024-07-24T12:56:09.447Z"
   },
   {
    "duration": 9,
    "start_time": "2024-07-24T12:56:15.790Z"
   },
   {
    "duration": 35,
    "start_time": "2024-07-24T12:56:18.678Z"
   },
   {
    "duration": 17,
    "start_time": "2024-07-24T12:56:32.610Z"
   },
   {
    "duration": 29,
    "start_time": "2024-07-24T13:01:51.876Z"
   },
   {
    "duration": 23,
    "start_time": "2024-07-24T13:01:53.723Z"
   },
   {
    "duration": 26,
    "start_time": "2024-07-24T13:05:18.248Z"
   },
   {
    "duration": 12,
    "start_time": "2024-07-24T13:05:35.158Z"
   },
   {
    "duration": 18,
    "start_time": "2024-07-24T13:07:51.907Z"
   },
   {
    "duration": 18,
    "start_time": "2024-07-24T13:08:21.891Z"
   },
   {
    "duration": 16,
    "start_time": "2024-07-24T13:09:07.492Z"
   },
   {
    "duration": 34,
    "start_time": "2024-07-24T13:09:43.016Z"
   },
   {
    "duration": 14,
    "start_time": "2024-07-24T13:09:47.618Z"
   },
   {
    "duration": 24,
    "start_time": "2024-07-24T13:18:57.714Z"
   },
   {
    "duration": 4,
    "start_time": "2024-07-24T13:23:07.512Z"
   },
   {
    "duration": 10,
    "start_time": "2024-07-24T13:27:49.272Z"
   },
   {
    "duration": 12,
    "start_time": "2024-07-24T13:30:14.584Z"
   },
   {
    "duration": 39,
    "start_time": "2024-07-24T13:41:39.521Z"
   },
   {
    "duration": 29,
    "start_time": "2024-07-24T13:42:34.020Z"
   },
   {
    "duration": 32,
    "start_time": "2024-07-24T13:43:02.501Z"
   },
   {
    "duration": 34,
    "start_time": "2024-07-24T13:43:48.481Z"
   },
   {
    "duration": 32,
    "start_time": "2024-07-24T13:47:52.105Z"
   },
   {
    "duration": 268,
    "start_time": "2024-07-24T13:50:30.148Z"
   },
   {
    "duration": 8,
    "start_time": "2024-07-24T14:02:22.447Z"
   },
   {
    "duration": 10,
    "start_time": "2024-07-24T14:02:27.107Z"
   },
   {
    "duration": 34,
    "start_time": "2024-07-24T14:02:33.297Z"
   },
   {
    "duration": 89,
    "start_time": "2024-07-24T14:10:52.410Z"
   },
   {
    "duration": 33,
    "start_time": "2024-07-24T14:17:05.902Z"
   },
   {
    "duration": 26,
    "start_time": "2024-07-24T14:24:16.296Z"
   },
   {
    "duration": 20,
    "start_time": "2024-07-24T14:24:28.556Z"
   },
   {
    "duration": 23,
    "start_time": "2024-07-24T14:26:22.740Z"
   },
   {
    "duration": 15,
    "start_time": "2024-07-24T14:28:13.369Z"
   },
   {
    "duration": 23,
    "start_time": "2024-07-24T14:28:52.530Z"
   },
   {
    "duration": 330,
    "start_time": "2024-07-24T14:40:03.413Z"
   },
   {
    "duration": 681,
    "start_time": "2024-07-24T14:41:34.955Z"
   },
   {
    "duration": 552,
    "start_time": "2024-07-24T14:43:41.717Z"
   },
   {
    "duration": 3,
    "start_time": "2024-07-24T14:45:37.634Z"
   },
   {
    "duration": 683,
    "start_time": "2024-07-24T14:45:42.842Z"
   },
   {
    "duration": 17,
    "start_time": "2024-07-24T14:47:07.222Z"
   },
   {
    "duration": 1364,
    "start_time": "2024-07-24T14:48:41.000Z"
   },
   {
    "duration": 306,
    "start_time": "2024-07-24T14:48:42.367Z"
   },
   {
    "duration": 36,
    "start_time": "2024-07-24T14:48:42.675Z"
   },
   {
    "duration": 14,
    "start_time": "2024-07-24T14:48:42.715Z"
   },
   {
    "duration": 59,
    "start_time": "2024-07-24T14:48:42.733Z"
   },
   {
    "duration": 17,
    "start_time": "2024-07-24T14:48:42.796Z"
   },
   {
    "duration": 7,
    "start_time": "2024-07-24T14:48:42.816Z"
   },
   {
    "duration": 14,
    "start_time": "2024-07-24T14:48:42.826Z"
   },
   {
    "duration": 84,
    "start_time": "2024-07-24T14:48:42.843Z"
   },
   {
    "duration": 17,
    "start_time": "2024-07-24T14:48:42.934Z"
   },
   {
    "duration": 63,
    "start_time": "2024-07-24T14:48:42.954Z"
   },
   {
    "duration": 19,
    "start_time": "2024-07-24T14:48:43.021Z"
   },
   {
    "duration": 66,
    "start_time": "2024-07-24T14:48:43.043Z"
   },
   {
    "duration": 14,
    "start_time": "2024-07-24T14:48:43.113Z"
   },
   {
    "duration": 18,
    "start_time": "2024-07-24T14:48:43.130Z"
   },
   {
    "duration": 70,
    "start_time": "2024-07-24T14:48:43.151Z"
   },
   {
    "duration": 18,
    "start_time": "2024-07-24T14:48:43.225Z"
   },
   {
    "duration": 57,
    "start_time": "2024-07-24T14:48:43.246Z"
   },
   {
    "duration": 12,
    "start_time": "2024-07-24T14:48:43.306Z"
   },
   {
    "duration": 70,
    "start_time": "2024-07-24T14:48:43.322Z"
   },
   {
    "duration": 31,
    "start_time": "2024-07-24T14:48:43.395Z"
   },
   {
    "duration": 30,
    "start_time": "2024-07-24T14:48:43.429Z"
   },
   {
    "duration": 35,
    "start_time": "2024-07-24T14:48:43.490Z"
   },
   {
    "duration": 36,
    "start_time": "2024-07-24T14:48:43.528Z"
   },
   {
    "duration": 40,
    "start_time": "2024-07-24T14:48:43.592Z"
   },
   {
    "duration": 60,
    "start_time": "2024-07-24T14:48:43.636Z"
   },
   {
    "duration": 23,
    "start_time": "2024-07-24T14:48:43.703Z"
   },
   {
    "duration": 589,
    "start_time": "2024-07-24T14:48:43.733Z"
   },
   {
    "duration": 509,
    "start_time": "2024-07-24T14:48:44.325Z"
   },
   {
    "duration": 17,
    "start_time": "2024-07-24T14:48:44.838Z"
   },
   {
    "duration": 487,
    "start_time": "2024-07-24T14:48:44.858Z"
   },
   {
    "duration": 4,
    "start_time": "2024-07-24T14:48:45.348Z"
   },
   {
    "duration": 5,
    "start_time": "2024-07-24T14:48:45.355Z"
   },
   {
    "duration": 27,
    "start_time": "2024-07-24T14:48:45.364Z"
   },
   {
    "duration": 3,
    "start_time": "2024-07-24T14:48:45.395Z"
   },
   {
    "duration": 10,
    "start_time": "2024-07-24T15:00:19.200Z"
   },
   {
    "duration": 3,
    "start_time": "2024-07-24T15:00:19.819Z"
   },
   {
    "duration": 489,
    "start_time": "2024-07-24T15:00:21.035Z"
   },
   {
    "duration": 10,
    "start_time": "2024-07-24T15:01:03.510Z"
   },
   {
    "duration": 8,
    "start_time": "2024-07-24T15:01:03.946Z"
   },
   {
    "duration": 510,
    "start_time": "2024-07-24T15:01:04.368Z"
   },
   {
    "duration": 428,
    "start_time": "2024-07-24T15:09:42.231Z"
   },
   {
    "duration": 8,
    "start_time": "2024-07-24T15:09:52.113Z"
   },
   {
    "duration": 33,
    "start_time": "2024-07-24T15:09:52.432Z"
   },
   {
    "duration": 9,
    "start_time": "2024-07-24T15:10:29.831Z"
   },
   {
    "duration": 15,
    "start_time": "2024-07-24T15:10:34.674Z"
   },
   {
    "duration": 396,
    "start_time": "2024-07-24T15:10:35.424Z"
   },
   {
    "duration": 25,
    "start_time": "2024-07-24T15:11:10.912Z"
   },
   {
    "duration": 71,
    "start_time": "2024-07-24T15:11:11.383Z"
   },
   {
    "duration": 14,
    "start_time": "2024-07-24T15:11:31.873Z"
   },
   {
    "duration": 631,
    "start_time": "2024-07-24T15:11:33.925Z"
   },
   {
    "duration": 649,
    "start_time": "2024-07-24T15:12:34.239Z"
   },
   {
    "duration": 508,
    "start_time": "2024-07-24T15:13:43.549Z"
   },
   {
    "duration": 495,
    "start_time": "2024-07-24T15:14:18.525Z"
   },
   {
    "duration": 233,
    "start_time": "2024-07-24T15:14:40.570Z"
   },
   {
    "duration": 332,
    "start_time": "2024-07-24T15:14:55.006Z"
   },
   {
    "duration": 331,
    "start_time": "2024-07-24T15:15:44.585Z"
   },
   {
    "duration": 13,
    "start_time": "2024-07-24T15:18:02.965Z"
   },
   {
    "duration": 25,
    "start_time": "2024-07-24T15:33:37.050Z"
   },
   {
    "duration": 5,
    "start_time": "2024-07-24T15:33:56.681Z"
   },
   {
    "duration": 1272,
    "start_time": "2024-07-24T15:34:04.982Z"
   },
   {
    "duration": 273,
    "start_time": "2024-07-24T15:34:06.258Z"
   },
   {
    "duration": 29,
    "start_time": "2024-07-24T15:34:06.534Z"
   },
   {
    "duration": 33,
    "start_time": "2024-07-24T15:34:06.566Z"
   },
   {
    "duration": 6,
    "start_time": "2024-07-24T15:34:06.606Z"
   },
   {
    "duration": 24,
    "start_time": "2024-07-24T15:34:06.615Z"
   },
   {
    "duration": 50,
    "start_time": "2024-07-24T15:34:06.642Z"
   },
   {
    "duration": 6,
    "start_time": "2024-07-24T15:34:06.695Z"
   },
   {
    "duration": 12,
    "start_time": "2024-07-24T15:34:06.704Z"
   },
   {
    "duration": 73,
    "start_time": "2024-07-24T15:34:06.719Z"
   },
   {
    "duration": 16,
    "start_time": "2024-07-24T15:34:06.796Z"
   },
   {
    "duration": 29,
    "start_time": "2024-07-24T15:34:06.815Z"
   },
   {
    "duration": 49,
    "start_time": "2024-07-24T15:34:06.848Z"
   },
   {
    "duration": 26,
    "start_time": "2024-07-24T15:34:06.905Z"
   },
   {
    "duration": 14,
    "start_time": "2024-07-24T15:34:06.934Z"
   },
   {
    "duration": 54,
    "start_time": "2024-07-24T15:34:06.951Z"
   },
   {
    "duration": 29,
    "start_time": "2024-07-24T15:34:07.008Z"
   },
   {
    "duration": 14,
    "start_time": "2024-07-24T15:34:07.043Z"
   },
   {
    "duration": 21,
    "start_time": "2024-07-24T15:34:07.092Z"
   },
   {
    "duration": 12,
    "start_time": "2024-07-24T15:34:07.116Z"
   },
   {
    "duration": 71,
    "start_time": "2024-07-24T15:34:07.131Z"
   },
   {
    "duration": 26,
    "start_time": "2024-07-24T15:34:07.205Z"
   },
   {
    "duration": 28,
    "start_time": "2024-07-24T15:34:07.234Z"
   },
   {
    "duration": 32,
    "start_time": "2024-07-24T15:34:07.290Z"
   },
   {
    "duration": 33,
    "start_time": "2024-07-24T15:34:07.326Z"
   },
   {
    "duration": 31,
    "start_time": "2024-07-24T15:34:07.390Z"
   },
   {
    "duration": 34,
    "start_time": "2024-07-24T15:34:07.424Z"
   },
   {
    "duration": 47,
    "start_time": "2024-07-24T15:34:07.461Z"
   },
   {
    "duration": 538,
    "start_time": "2024-07-24T15:34:07.511Z"
   },
   {
    "duration": 496,
    "start_time": "2024-07-24T15:34:08.053Z"
   },
   {
    "duration": 18,
    "start_time": "2024-07-24T15:34:08.553Z"
   },
   {
    "duration": 453,
    "start_time": "2024-07-24T15:34:08.591Z"
   },
   {
    "duration": 26,
    "start_time": "2024-07-24T15:34:09.047Z"
   },
   {
    "duration": 517,
    "start_time": "2024-07-24T15:34:09.091Z"
   },
   {
    "duration": 14,
    "start_time": "2024-07-24T15:34:09.611Z"
   },
   {
    "duration": 377,
    "start_time": "2024-07-24T15:34:09.628Z"
   },
   {
    "duration": 3,
    "start_time": "2024-07-24T15:34:10.009Z"
   },
   {
    "duration": 3,
    "start_time": "2024-07-24T15:34:10.017Z"
   },
   {
    "duration": 4,
    "start_time": "2024-07-24T15:35:26.370Z"
   },
   {
    "duration": 13,
    "start_time": "2024-07-24T15:35:35.770Z"
   },
   {
    "duration": 16,
    "start_time": "2024-07-24T15:38:27.602Z"
   },
   {
    "duration": 1307,
    "start_time": "2024-07-24T15:38:52.511Z"
   },
   {
    "duration": 272,
    "start_time": "2024-07-24T15:38:53.821Z"
   },
   {
    "duration": 27,
    "start_time": "2024-07-24T15:38:54.096Z"
   },
   {
    "duration": 13,
    "start_time": "2024-07-24T15:38:54.126Z"
   },
   {
    "duration": 48,
    "start_time": "2024-07-24T15:38:54.146Z"
   },
   {
    "duration": 25,
    "start_time": "2024-07-24T15:38:54.198Z"
   },
   {
    "duration": 15,
    "start_time": "2024-07-24T15:38:54.226Z"
   },
   {
    "duration": 7,
    "start_time": "2024-07-24T15:38:54.244Z"
   },
   {
    "duration": 12,
    "start_time": "2024-07-24T15:38:54.291Z"
   },
   {
    "duration": 32,
    "start_time": "2024-07-24T15:38:54.306Z"
   },
   {
    "duration": 53,
    "start_time": "2024-07-24T15:38:54.342Z"
   },
   {
    "duration": 31,
    "start_time": "2024-07-24T15:38:54.399Z"
   },
   {
    "duration": 17,
    "start_time": "2024-07-24T15:38:54.433Z"
   },
   {
    "duration": 26,
    "start_time": "2024-07-24T15:38:54.492Z"
   },
   {
    "duration": 13,
    "start_time": "2024-07-24T15:38:54.520Z"
   },
   {
    "duration": 18,
    "start_time": "2024-07-24T15:38:54.536Z"
   },
   {
    "duration": 32,
    "start_time": "2024-07-24T15:38:54.589Z"
   },
   {
    "duration": 16,
    "start_time": "2024-07-24T15:38:54.625Z"
   },
   {
    "duration": 58,
    "start_time": "2024-07-24T15:38:54.644Z"
   },
   {
    "duration": 12,
    "start_time": "2024-07-24T15:38:54.705Z"
   },
   {
    "duration": 45,
    "start_time": "2024-07-24T15:38:54.720Z"
   },
   {
    "duration": 34,
    "start_time": "2024-07-24T15:38:54.793Z"
   },
   {
    "duration": 32,
    "start_time": "2024-07-24T15:38:54.830Z"
   },
   {
    "duration": 34,
    "start_time": "2024-07-24T15:38:54.890Z"
   },
   {
    "duration": 35,
    "start_time": "2024-07-24T15:38:54.926Z"
   },
   {
    "duration": 53,
    "start_time": "2024-07-24T15:38:54.964Z"
   },
   {
    "duration": 34,
    "start_time": "2024-07-24T15:38:55.020Z"
   },
   {
    "duration": 50,
    "start_time": "2024-07-24T15:38:55.057Z"
   },
   {
    "duration": 550,
    "start_time": "2024-07-24T15:38:55.110Z"
   },
   {
    "duration": 506,
    "start_time": "2024-07-24T15:38:55.663Z"
   },
   {
    "duration": 25,
    "start_time": "2024-07-24T15:38:56.172Z"
   },
   {
    "duration": 444,
    "start_time": "2024-07-24T15:38:56.199Z"
   },
   {
    "duration": 27,
    "start_time": "2024-07-24T15:38:56.646Z"
   },
   {
    "duration": 529,
    "start_time": "2024-07-24T15:38:56.690Z"
   },
   {
    "duration": 16,
    "start_time": "2024-07-24T15:38:57.221Z"
   },
   {
    "duration": 354,
    "start_time": "2024-07-24T15:38:57.240Z"
   },
   {
    "duration": 4,
    "start_time": "2024-07-24T15:38:57.598Z"
   },
   {
    "duration": 3,
    "start_time": "2024-07-24T15:38:57.605Z"
   },
   {
    "duration": 1290,
    "start_time": "2024-07-24T15:50:25.255Z"
   },
   {
    "duration": 288,
    "start_time": "2024-07-24T15:50:26.549Z"
   },
   {
    "duration": 35,
    "start_time": "2024-07-24T15:50:26.841Z"
   },
   {
    "duration": 19,
    "start_time": "2024-07-24T15:50:26.901Z"
   },
   {
    "duration": 30,
    "start_time": "2024-07-24T15:50:26.924Z"
   },
   {
    "duration": 40,
    "start_time": "2024-07-24T15:50:26.957Z"
   },
   {
    "duration": 6,
    "start_time": "2024-07-24T15:50:27.000Z"
   },
   {
    "duration": 14,
    "start_time": "2024-07-24T15:50:27.009Z"
   },
   {
    "duration": 75,
    "start_time": "2024-07-24T15:50:27.026Z"
   },
   {
    "duration": 16,
    "start_time": "2024-07-24T15:50:27.107Z"
   },
   {
    "duration": 28,
    "start_time": "2024-07-24T15:50:27.126Z"
   },
   {
    "duration": 51,
    "start_time": "2024-07-24T15:50:27.156Z"
   },
   {
    "duration": 29,
    "start_time": "2024-07-24T15:50:27.210Z"
   },
   {
    "duration": 47,
    "start_time": "2024-07-24T15:50:27.243Z"
   },
   {
    "duration": 17,
    "start_time": "2024-07-24T15:50:27.293Z"
   },
   {
    "duration": 31,
    "start_time": "2024-07-24T15:50:27.313Z"
   },
   {
    "duration": 49,
    "start_time": "2024-07-24T15:50:27.347Z"
   },
   {
    "duration": 24,
    "start_time": "2024-07-24T15:50:27.399Z"
   },
   {
    "duration": 13,
    "start_time": "2024-07-24T15:50:27.425Z"
   },
   {
    "duration": 74,
    "start_time": "2024-07-24T15:50:27.443Z"
   },
   {
    "duration": 31,
    "start_time": "2024-07-24T15:50:27.520Z"
   },
   {
    "duration": 56,
    "start_time": "2024-07-24T15:50:27.555Z"
   },
   {
    "duration": 34,
    "start_time": "2024-07-24T15:50:27.614Z"
   },
   {
    "duration": 64,
    "start_time": "2024-07-24T15:50:27.651Z"
   },
   {
    "duration": 35,
    "start_time": "2024-07-24T15:50:27.719Z"
   },
   {
    "duration": 62,
    "start_time": "2024-07-24T15:50:27.758Z"
   },
   {
    "duration": 22,
    "start_time": "2024-07-24T15:50:27.823Z"
   },
   {
    "duration": 584,
    "start_time": "2024-07-24T15:50:27.852Z"
   },
   {
    "duration": 502,
    "start_time": "2024-07-24T15:50:28.440Z"
   },
   {
    "duration": 17,
    "start_time": "2024-07-24T15:50:28.945Z"
   },
   {
    "duration": 478,
    "start_time": "2024-07-24T15:50:28.966Z"
   },
   {
    "duration": 26,
    "start_time": "2024-07-24T15:50:29.448Z"
   },
   {
    "duration": 550,
    "start_time": "2024-07-24T15:50:29.492Z"
   },
   {
    "duration": 14,
    "start_time": "2024-07-24T15:50:30.046Z"
   },
   {
    "duration": 349,
    "start_time": "2024-07-24T15:50:30.063Z"
   },
   {
    "duration": 7,
    "start_time": "2024-07-24T15:50:30.415Z"
   },
   {
    "duration": 3,
    "start_time": "2024-07-24T15:50:30.426Z"
   },
   {
    "duration": 39,
    "start_time": "2024-07-24T16:00:42.193Z"
   },
   {
    "duration": 951,
    "start_time": "2024-07-24T16:01:13.217Z"
   },
   {
    "duration": 1022,
    "start_time": "2024-07-24T16:05:38.839Z"
   },
   {
    "duration": 21,
    "start_time": "2024-07-24T16:06:31.555Z"
   },
   {
    "duration": 512,
    "start_time": "2024-07-24T16:10:26.536Z"
   },
   {
    "duration": 401,
    "start_time": "2024-07-24T16:13:58.548Z"
   },
   {
    "duration": 500,
    "start_time": "2024-07-24T16:15:01.370Z"
   },
   {
    "duration": 331,
    "start_time": "2024-07-24T16:19:42.869Z"
   },
   {
    "duration": 20,
    "start_time": "2024-07-24T16:20:14.399Z"
   },
   {
    "duration": 83,
    "start_time": "2024-07-24T16:35:05.922Z"
   },
   {
    "duration": 58,
    "start_time": "2024-07-24T16:35:19.597Z"
   },
   {
    "duration": 1294,
    "start_time": "2024-07-24T16:35:46.832Z"
   },
   {
    "duration": 13,
    "start_time": "2024-07-24T16:46:42.920Z"
   },
   {
    "duration": 24,
    "start_time": "2024-07-24T16:46:53.241Z"
   },
   {
    "duration": 26,
    "start_time": "2024-07-24T16:50:22.551Z"
   },
   {
    "duration": 24,
    "start_time": "2024-07-24T16:53:01.849Z"
   },
   {
    "duration": 21,
    "start_time": "2024-07-24T16:53:26.823Z"
   },
   {
    "duration": 37,
    "start_time": "2024-07-24T16:53:35.702Z"
   },
   {
    "duration": 21,
    "start_time": "2024-07-24T16:53:57.395Z"
   },
   {
    "duration": 409,
    "start_time": "2024-07-24T16:53:58.762Z"
   },
   {
    "duration": 24,
    "start_time": "2024-07-24T16:54:10.725Z"
   },
   {
    "duration": 21,
    "start_time": "2024-07-24T16:55:08.528Z"
   },
   {
    "duration": 26,
    "start_time": "2024-07-24T16:55:35.886Z"
   },
   {
    "duration": 34,
    "start_time": "2024-07-24T16:55:45.639Z"
   },
   {
    "duration": 26,
    "start_time": "2024-07-24T16:56:07.712Z"
   },
   {
    "duration": 34,
    "start_time": "2024-07-24T16:57:17.066Z"
   },
   {
    "duration": 35,
    "start_time": "2024-07-24T16:58:02.262Z"
   },
   {
    "duration": 54,
    "start_time": "2024-07-24T17:00:21.897Z"
   },
   {
    "duration": 39,
    "start_time": "2024-07-24T17:01:04.642Z"
   },
   {
    "duration": 45,
    "start_time": "2024-07-24T17:04:04.408Z"
   },
   {
    "duration": 43,
    "start_time": "2024-07-24T17:04:44.071Z"
   },
   {
    "duration": 48,
    "start_time": "2024-07-24T17:05:46.446Z"
   },
   {
    "duration": 42,
    "start_time": "2024-07-24T17:06:45.802Z"
   },
   {
    "duration": 28,
    "start_time": "2024-07-24T17:07:30.837Z"
   },
   {
    "duration": 41,
    "start_time": "2024-07-24T17:08:13.281Z"
   },
   {
    "duration": 34,
    "start_time": "2024-07-24T17:09:01.699Z"
   },
   {
    "duration": 22,
    "start_time": "2024-07-24T17:09:45.762Z"
   },
   {
    "duration": 541,
    "start_time": "2024-07-24T17:09:54.899Z"
   },
   {
    "duration": 489,
    "start_time": "2024-07-24T17:09:55.624Z"
   },
   {
    "duration": 18,
    "start_time": "2024-07-24T17:09:56.889Z"
   },
   {
    "duration": 389,
    "start_time": "2024-07-24T17:09:57.449Z"
   },
   {
    "duration": 13,
    "start_time": "2024-07-24T17:09:59.532Z"
   },
   {
    "duration": 485,
    "start_time": "2024-07-24T17:09:59.735Z"
   },
   {
    "duration": 13,
    "start_time": "2024-07-24T17:10:00.224Z"
   },
   {
    "duration": 357,
    "start_time": "2024-07-24T17:10:00.241Z"
   },
   {
    "duration": 535,
    "start_time": "2024-07-24T17:10:01.774Z"
   },
   {
    "duration": 714,
    "start_time": "2024-07-24T17:10:02.312Z"
   },
   {
    "duration": 22,
    "start_time": "2024-07-24T17:10:03.030Z"
   },
   {
    "duration": 78,
    "start_time": "2024-07-24T17:10:03.380Z"
   },
   {
    "duration": 49,
    "start_time": "2024-07-24T17:10:04.554Z"
   },
   {
    "duration": 1226,
    "start_time": "2024-07-24T17:10:05.129Z"
   },
   {
    "duration": 74,
    "start_time": "2024-07-24T17:14:41.465Z"
   },
   {
    "duration": 34,
    "start_time": "2024-07-24T17:22:43.929Z"
   },
   {
    "duration": 646,
    "start_time": "2024-07-24T17:23:26.509Z"
   },
   {
    "duration": 694,
    "start_time": "2024-07-24T17:25:20.115Z"
   },
   {
    "duration": 625,
    "start_time": "2024-07-24T17:27:30.775Z"
   },
   {
    "duration": 601,
    "start_time": "2024-07-24T17:28:12.720Z"
   },
   {
    "duration": 703,
    "start_time": "2024-07-24T17:28:35.738Z"
   },
   {
    "duration": 696,
    "start_time": "2024-07-24T17:29:12.527Z"
   },
   {
    "duration": 579,
    "start_time": "2024-07-24T17:33:02.315Z"
   },
   {
    "duration": 26,
    "start_time": "2024-07-24T17:34:30.557Z"
   },
   {
    "duration": 32,
    "start_time": "2024-07-24T17:36:12.951Z"
   },
   {
    "duration": 281,
    "start_time": "2024-07-24T17:36:26.415Z"
   },
   {
    "duration": 12,
    "start_time": "2024-07-24T17:39:42.583Z"
   },
   {
    "duration": 15,
    "start_time": "2024-07-24T17:44:53.657Z"
   },
   {
    "duration": 962,
    "start_time": "2024-07-24T17:48:44.554Z"
   },
   {
    "duration": 29,
    "start_time": "2024-07-24T17:49:49.244Z"
   },
   {
    "duration": 111,
    "start_time": "2024-07-24T17:52:32.263Z"
   },
   {
    "duration": 9,
    "start_time": "2024-07-24T17:53:30.865Z"
   },
   {
    "duration": 398,
    "start_time": "2024-07-24T17:53:41.245Z"
   },
   {
    "duration": 96,
    "start_time": "2024-07-24T17:54:11.060Z"
   },
   {
    "duration": 16,
    "start_time": "2024-07-24T17:54:24.593Z"
   },
   {
    "duration": 31,
    "start_time": "2024-07-24T17:54:26.207Z"
   },
   {
    "duration": 1238,
    "start_time": "2024-07-24T21:16:27.126Z"
   },
   {
    "duration": 361,
    "start_time": "2024-07-24T21:16:28.367Z"
   },
   {
    "duration": 28,
    "start_time": "2024-07-24T21:16:28.730Z"
   },
   {
    "duration": 14,
    "start_time": "2024-07-24T21:16:28.764Z"
   },
   {
    "duration": 26,
    "start_time": "2024-07-24T21:16:28.811Z"
   },
   {
    "duration": 15,
    "start_time": "2024-07-24T21:16:28.840Z"
   },
   {
    "duration": 7,
    "start_time": "2024-07-24T21:16:28.858Z"
   },
   {
    "duration": 50,
    "start_time": "2024-07-24T21:16:28.868Z"
   },
   {
    "duration": 34,
    "start_time": "2024-07-24T21:16:28.921Z"
   },
   {
    "duration": 18,
    "start_time": "2024-07-24T21:16:28.957Z"
   },
   {
    "duration": 61,
    "start_time": "2024-07-24T21:16:28.978Z"
   },
   {
    "duration": 18,
    "start_time": "2024-07-24T21:16:29.042Z"
   },
   {
    "duration": 59,
    "start_time": "2024-07-24T21:16:29.064Z"
   },
   {
    "duration": 12,
    "start_time": "2024-07-24T21:16:29.130Z"
   },
   {
    "duration": 22,
    "start_time": "2024-07-24T21:16:29.144Z"
   },
   {
    "duration": 55,
    "start_time": "2024-07-24T21:16:29.169Z"
   },
   {
    "duration": 15,
    "start_time": "2024-07-24T21:16:29.227Z"
   },
   {
    "duration": 22,
    "start_time": "2024-07-24T21:16:29.248Z"
   },
   {
    "duration": 42,
    "start_time": "2024-07-24T21:16:29.273Z"
   },
   {
    "duration": 43,
    "start_time": "2024-07-24T21:16:29.320Z"
   },
   {
    "duration": 65,
    "start_time": "2024-07-24T21:16:29.367Z"
   },
   {
    "duration": 37,
    "start_time": "2024-07-24T21:16:29.436Z"
   },
   {
    "duration": 59,
    "start_time": "2024-07-24T21:16:29.477Z"
   },
   {
    "duration": 58,
    "start_time": "2024-07-24T21:16:29.543Z"
   },
   {
    "duration": 31,
    "start_time": "2024-07-24T21:16:29.606Z"
   },
   {
    "duration": 37,
    "start_time": "2024-07-24T21:16:29.640Z"
   },
   {
    "duration": 50,
    "start_time": "2024-07-24T21:16:29.680Z"
   },
   {
    "duration": 502,
    "start_time": "2024-07-24T21:16:29.733Z"
   },
   {
    "duration": 0,
    "start_time": "2024-07-24T21:16:30.238Z"
   },
   {
    "duration": 0,
    "start_time": "2024-07-24T21:16:30.240Z"
   },
   {
    "duration": 0,
    "start_time": "2024-07-24T21:16:30.242Z"
   },
   {
    "duration": 0,
    "start_time": "2024-07-24T21:16:30.244Z"
   },
   {
    "duration": 0,
    "start_time": "2024-07-24T21:16:30.246Z"
   },
   {
    "duration": 0,
    "start_time": "2024-07-24T21:16:30.249Z"
   },
   {
    "duration": 0,
    "start_time": "2024-07-24T21:16:30.251Z"
   },
   {
    "duration": 0,
    "start_time": "2024-07-24T21:16:30.254Z"
   },
   {
    "duration": 0,
    "start_time": "2024-07-24T21:16:30.256Z"
   },
   {
    "duration": 0,
    "start_time": "2024-07-24T21:16:30.258Z"
   },
   {
    "duration": 0,
    "start_time": "2024-07-24T21:16:30.260Z"
   },
   {
    "duration": 0,
    "start_time": "2024-07-24T21:16:30.261Z"
   },
   {
    "duration": 0,
    "start_time": "2024-07-24T21:16:30.263Z"
   },
   {
    "duration": 0,
    "start_time": "2024-07-24T21:16:30.264Z"
   },
   {
    "duration": 309,
    "start_time": "2024-07-24T21:37:44.591Z"
   },
   {
    "duration": 4653,
    "start_time": "2024-07-24T21:38:11.791Z"
   },
   {
    "duration": 348,
    "start_time": "2024-07-24T21:38:16.448Z"
   },
   {
    "duration": 28,
    "start_time": "2024-07-24T21:38:16.799Z"
   },
   {
    "duration": 14,
    "start_time": "2024-07-24T21:38:16.832Z"
   },
   {
    "duration": 25,
    "start_time": "2024-07-24T21:38:16.849Z"
   },
   {
    "duration": 50,
    "start_time": "2024-07-24T21:38:16.877Z"
   },
   {
    "duration": 7,
    "start_time": "2024-07-24T21:38:16.932Z"
   },
   {
    "duration": 13,
    "start_time": "2024-07-24T21:38:16.943Z"
   },
   {
    "duration": 68,
    "start_time": "2024-07-24T21:38:16.960Z"
   },
   {
    "duration": 15,
    "start_time": "2024-07-24T21:38:17.034Z"
   },
   {
    "duration": 60,
    "start_time": "2024-07-24T21:38:17.052Z"
   },
   {
    "duration": 17,
    "start_time": "2024-07-24T21:38:17.115Z"
   },
   {
    "duration": 28,
    "start_time": "2024-07-24T21:38:17.134Z"
   },
   {
    "duration": 13,
    "start_time": "2024-07-24T21:38:17.165Z"
   },
   {
    "duration": 19,
    "start_time": "2024-07-24T21:38:17.213Z"
   },
   {
    "duration": 30,
    "start_time": "2024-07-24T21:38:17.235Z"
   },
   {
    "duration": 47,
    "start_time": "2024-07-24T21:38:17.268Z"
   },
   {
    "duration": 22,
    "start_time": "2024-07-24T21:38:17.318Z"
   },
   {
    "duration": 12,
    "start_time": "2024-07-24T21:38:17.343Z"
   },
   {
    "duration": 77,
    "start_time": "2024-07-24T21:38:17.358Z"
   },
   {
    "duration": 27,
    "start_time": "2024-07-24T21:38:17.438Z"
   },
   {
    "duration": 61,
    "start_time": "2024-07-24T21:38:17.468Z"
   },
   {
    "duration": 38,
    "start_time": "2024-07-24T21:38:17.531Z"
   },
   {
    "duration": 65,
    "start_time": "2024-07-24T21:38:17.572Z"
   },
   {
    "duration": 25,
    "start_time": "2024-07-24T21:38:17.641Z"
   },
   {
    "duration": 65,
    "start_time": "2024-07-24T21:38:17.669Z"
   },
   {
    "duration": 23,
    "start_time": "2024-07-24T21:38:17.736Z"
   },
   {
    "duration": 435,
    "start_time": "2024-07-24T21:38:17.766Z"
   },
   {
    "duration": 0,
    "start_time": "2024-07-24T21:38:18.204Z"
   },
   {
    "duration": 0,
    "start_time": "2024-07-24T21:38:18.212Z"
   },
   {
    "duration": 0,
    "start_time": "2024-07-24T21:38:18.214Z"
   },
   {
    "duration": 0,
    "start_time": "2024-07-24T21:38:18.216Z"
   },
   {
    "duration": 0,
    "start_time": "2024-07-24T21:38:18.217Z"
   },
   {
    "duration": 0,
    "start_time": "2024-07-24T21:38:18.219Z"
   },
   {
    "duration": 0,
    "start_time": "2024-07-24T21:38:18.221Z"
   },
   {
    "duration": 0,
    "start_time": "2024-07-24T21:38:18.224Z"
   },
   {
    "duration": 0,
    "start_time": "2024-07-24T21:38:18.226Z"
   },
   {
    "duration": 0,
    "start_time": "2024-07-24T21:38:18.227Z"
   },
   {
    "duration": 0,
    "start_time": "2024-07-24T21:38:18.229Z"
   },
   {
    "duration": 0,
    "start_time": "2024-07-24T21:38:18.232Z"
   },
   {
    "duration": 0,
    "start_time": "2024-07-24T21:38:18.235Z"
   },
   {
    "duration": 0,
    "start_time": "2024-07-24T21:38:18.237Z"
   },
   {
    "duration": 27,
    "start_time": "2024-07-24T21:38:23.173Z"
   },
   {
    "duration": 29,
    "start_time": "2024-07-24T21:39:02.009Z"
   },
   {
    "duration": 35,
    "start_time": "2024-07-24T21:39:19.912Z"
   },
   {
    "duration": 37,
    "start_time": "2024-07-24T21:39:23.082Z"
   },
   {
    "duration": 39,
    "start_time": "2024-07-24T21:39:27.188Z"
   },
   {
    "duration": 25,
    "start_time": "2024-07-24T21:39:34.463Z"
   },
   {
    "duration": 858,
    "start_time": "2024-07-24T21:43:33.398Z"
   },
   {
    "duration": 96,
    "start_time": "2024-07-24T21:44:02.326Z"
   },
   {
    "duration": 38,
    "start_time": "2024-07-24T21:46:14.021Z"
   },
   {
    "duration": 91,
    "start_time": "2024-07-24T21:47:08.110Z"
   },
   {
    "duration": 39,
    "start_time": "2024-07-24T21:50:32.799Z"
   },
   {
    "duration": 41,
    "start_time": "2024-07-24T21:51:31.891Z"
   },
   {
    "duration": 99,
    "start_time": "2024-07-24T21:51:47.268Z"
   },
   {
    "duration": 633,
    "start_time": "2024-07-24T21:53:36.119Z"
   },
   {
    "duration": 258,
    "start_time": "2024-07-24T21:53:45.115Z"
   },
   {
    "duration": 494,
    "start_time": "2024-07-24T21:55:19.296Z"
   },
   {
    "duration": 81,
    "start_time": "2024-07-24T21:55:26.124Z"
   },
   {
    "duration": 25,
    "start_time": "2024-07-24T21:57:20.133Z"
   },
   {
    "duration": 373,
    "start_time": "2024-07-24T21:57:40.579Z"
   },
   {
    "duration": 380,
    "start_time": "2024-07-24T21:58:10.682Z"
   },
   {
    "duration": 60,
    "start_time": "2024-07-24T22:02:08.336Z"
   },
   {
    "duration": 12,
    "start_time": "2024-07-24T22:03:34.530Z"
   },
   {
    "duration": 31,
    "start_time": "2024-07-24T22:03:53.195Z"
   },
   {
    "duration": 21,
    "start_time": "2024-07-24T22:04:12.548Z"
   },
   {
    "duration": 27,
    "start_time": "2024-07-24T22:04:48.827Z"
   },
   {
    "duration": 624,
    "start_time": "2024-07-24T22:05:35.415Z"
   },
   {
    "duration": 313,
    "start_time": "2024-07-24T22:05:53.126Z"
   },
   {
    "duration": 516,
    "start_time": "2024-07-24T22:06:01.063Z"
   },
   {
    "duration": 89,
    "start_time": "2024-07-24T22:06:03.270Z"
   },
   {
    "duration": 507,
    "start_time": "2024-07-24T22:07:46.824Z"
   },
   {
    "duration": 502,
    "start_time": "2024-07-24T22:07:53.537Z"
   },
   {
    "duration": 517,
    "start_time": "2024-07-24T22:17:35.120Z"
   },
   {
    "duration": 26,
    "start_time": "2024-07-24T22:19:50.190Z"
   },
   {
    "duration": 18,
    "start_time": "2024-07-24T22:20:10.004Z"
   },
   {
    "duration": 88,
    "start_time": "2024-07-24T22:21:07.652Z"
   },
   {
    "duration": 14,
    "start_time": "2024-07-24T22:21:23.531Z"
   },
   {
    "duration": 16,
    "start_time": "2024-07-24T22:22:01.285Z"
   },
   {
    "duration": 18,
    "start_time": "2024-07-24T22:23:21.606Z"
   },
   {
    "duration": 507,
    "start_time": "2024-07-24T22:24:30.301Z"
   },
   {
    "duration": 83,
    "start_time": "2024-07-24T22:24:41.022Z"
   },
   {
    "duration": 25,
    "start_time": "2024-07-24T22:26:16.848Z"
   },
   {
    "duration": 26,
    "start_time": "2024-07-24T22:26:53.978Z"
   },
   {
    "duration": 716,
    "start_time": "2024-07-24T22:26:55.018Z"
   },
   {
    "duration": 14,
    "start_time": "2024-07-24T22:26:59.936Z"
   },
   {
    "duration": 28,
    "start_time": "2024-07-24T22:27:02.178Z"
   },
   {
    "duration": 4861,
    "start_time": "2024-07-25T05:13:24.056Z"
   },
   {
    "duration": 376,
    "start_time": "2024-07-25T05:13:28.920Z"
   },
   {
    "duration": 29,
    "start_time": "2024-07-25T05:13:29.300Z"
   },
   {
    "duration": 13,
    "start_time": "2024-07-25T05:13:29.332Z"
   },
   {
    "duration": 25,
    "start_time": "2024-07-25T05:13:29.349Z"
   },
   {
    "duration": 15,
    "start_time": "2024-07-25T05:13:29.377Z"
   },
   {
    "duration": 42,
    "start_time": "2024-07-25T05:13:29.395Z"
   },
   {
    "duration": 13,
    "start_time": "2024-07-25T05:13:29.440Z"
   },
   {
    "duration": 32,
    "start_time": "2024-07-25T05:13:29.457Z"
   },
   {
    "duration": 49,
    "start_time": "2024-07-25T05:13:29.495Z"
   },
   {
    "duration": 29,
    "start_time": "2024-07-25T05:13:29.546Z"
   },
   {
    "duration": 18,
    "start_time": "2024-07-25T05:13:29.578Z"
   },
   {
    "duration": 60,
    "start_time": "2024-07-25T05:13:29.599Z"
   },
   {
    "duration": 13,
    "start_time": "2024-07-25T05:13:29.661Z"
   },
   {
    "duration": 55,
    "start_time": "2024-07-25T05:13:29.677Z"
   },
   {
    "duration": 30,
    "start_time": "2024-07-25T05:13:29.736Z"
   },
   {
    "duration": 15,
    "start_time": "2024-07-25T05:13:29.769Z"
   },
   {
    "duration": 56,
    "start_time": "2024-07-25T05:13:29.787Z"
   },
   {
    "duration": 12,
    "start_time": "2024-07-25T05:13:29.846Z"
   },
   {
    "duration": 39,
    "start_time": "2024-07-25T05:13:29.861Z"
   },
   {
    "duration": 28,
    "start_time": "2024-07-25T05:13:29.932Z"
   },
   {
    "duration": 36,
    "start_time": "2024-07-25T05:13:29.962Z"
   },
   {
    "duration": 59,
    "start_time": "2024-07-25T05:13:30.002Z"
   },
   {
    "duration": 42,
    "start_time": "2024-07-25T05:13:30.064Z"
   },
   {
    "duration": 24,
    "start_time": "2024-07-25T05:13:30.132Z"
   },
   {
    "duration": 38,
    "start_time": "2024-07-25T05:13:30.159Z"
   },
   {
    "duration": 49,
    "start_time": "2024-07-25T05:13:30.201Z"
   },
   {
    "duration": 534,
    "start_time": "2024-07-25T05:13:30.257Z"
   },
   {
    "duration": 480,
    "start_time": "2024-07-25T05:13:30.794Z"
   },
   {
    "duration": 33,
    "start_time": "2024-07-25T05:13:31.277Z"
   },
   {
    "duration": 464,
    "start_time": "2024-07-25T05:13:31.313Z"
   },
   {
    "duration": 38,
    "start_time": "2024-07-25T05:13:31.780Z"
   },
   {
    "duration": 530,
    "start_time": "2024-07-25T05:13:31.834Z"
   },
   {
    "duration": 13,
    "start_time": "2024-07-25T05:13:32.367Z"
   },
   {
    "duration": 355,
    "start_time": "2024-07-25T05:13:32.383Z"
   },
   {
    "duration": 599,
    "start_time": "2024-07-25T05:13:32.741Z"
   },
   {
    "duration": 16,
    "start_time": "2024-07-25T05:13:33.343Z"
   },
   {
    "duration": 19,
    "start_time": "2024-07-25T05:13:33.362Z"
   },
   {
    "duration": 532,
    "start_time": "2024-07-25T05:13:33.384Z"
   },
   {
    "duration": 33,
    "start_time": "2024-07-25T05:13:33.919Z"
   },
   {
    "duration": 23,
    "start_time": "2024-07-25T05:13:33.955Z"
   },
   {
    "duration": 755,
    "start_time": "2024-07-25T05:13:33.982Z"
   },
   {
    "duration": 10,
    "start_time": "2024-07-25T05:13:34.740Z"
   },
   {
    "duration": 21,
    "start_time": "2024-07-25T05:13:34.754Z"
   },
   {
    "duration": 1222,
    "start_time": "2024-07-25T05:22:17.895Z"
   },
   {
    "duration": 1256,
    "start_time": "2024-07-25T05:22:29.995Z"
   },
   {
    "duration": 288,
    "start_time": "2024-07-25T05:22:31.254Z"
   },
   {
    "duration": 28,
    "start_time": "2024-07-25T05:22:31.545Z"
   },
   {
    "duration": 15,
    "start_time": "2024-07-25T05:22:31.578Z"
   },
   {
    "duration": 61,
    "start_time": "2024-07-25T05:22:31.595Z"
   },
   {
    "duration": 15,
    "start_time": "2024-07-25T05:22:31.659Z"
   },
   {
    "duration": 6,
    "start_time": "2024-07-25T05:22:31.677Z"
   },
   {
    "duration": 45,
    "start_time": "2024-07-25T05:22:31.687Z"
   },
   {
    "duration": 34,
    "start_time": "2024-07-25T05:22:31.736Z"
   },
   {
    "duration": 16,
    "start_time": "2024-07-25T05:22:31.775Z"
   },
   {
    "duration": 68,
    "start_time": "2024-07-25T05:22:31.794Z"
   },
   {
    "duration": 17,
    "start_time": "2024-07-25T05:22:31.865Z"
   },
   {
    "duration": 57,
    "start_time": "2024-07-25T05:22:31.885Z"
   },
   {
    "duration": 13,
    "start_time": "2024-07-25T05:22:31.945Z"
   },
   {
    "duration": 19,
    "start_time": "2024-07-25T05:22:31.961Z"
   },
   {
    "duration": 69,
    "start_time": "2024-07-25T05:22:31.983Z"
   },
   {
    "duration": 13,
    "start_time": "2024-07-25T05:22:32.056Z"
   },
   {
    "duration": 22,
    "start_time": "2024-07-25T05:22:32.072Z"
   },
   {
    "duration": 46,
    "start_time": "2024-07-25T05:22:32.097Z"
   },
   {
    "duration": 39,
    "start_time": "2024-07-25T05:22:32.146Z"
   },
   {
    "duration": 53,
    "start_time": "2024-07-25T05:22:32.188Z"
   },
   {
    "duration": 35,
    "start_time": "2024-07-25T05:22:32.245Z"
   },
   {
    "duration": 63,
    "start_time": "2024-07-25T05:22:32.282Z"
   },
   {
    "duration": 40,
    "start_time": "2024-07-25T05:22:32.347Z"
   },
   {
    "duration": 46,
    "start_time": "2024-07-25T05:22:32.392Z"
   },
   {
    "duration": 38,
    "start_time": "2024-07-25T05:22:32.442Z"
   },
   {
    "duration": 24,
    "start_time": "2024-07-25T05:22:32.483Z"
   },
   {
    "duration": 510,
    "start_time": "2024-07-25T05:22:32.541Z"
   },
   {
    "duration": 496,
    "start_time": "2024-07-25T05:22:33.055Z"
   },
   {
    "duration": 24,
    "start_time": "2024-07-25T05:22:33.554Z"
   },
   {
    "duration": 510,
    "start_time": "2024-07-25T05:22:33.581Z"
   },
   {
    "duration": 59,
    "start_time": "2024-07-25T05:22:34.094Z"
   },
   {
    "duration": 519,
    "start_time": "2024-07-25T05:22:34.156Z"
   },
   {
    "duration": 14,
    "start_time": "2024-07-25T05:22:34.678Z"
   },
   {
    "duration": 343,
    "start_time": "2024-07-25T05:22:34.695Z"
   },
   {
    "duration": 506,
    "start_time": "2024-07-25T05:22:35.040Z"
   },
   {
    "duration": 16,
    "start_time": "2024-07-25T05:22:35.549Z"
   },
   {
    "duration": 17,
    "start_time": "2024-07-25T05:22:35.568Z"
   },
   {
    "duration": 537,
    "start_time": "2024-07-25T05:22:35.589Z"
   },
   {
    "duration": 26,
    "start_time": "2024-07-25T05:22:36.133Z"
   },
   {
    "duration": 29,
    "start_time": "2024-07-25T05:22:36.162Z"
   },
   {
    "duration": 752,
    "start_time": "2024-07-25T05:22:36.195Z"
   },
   {
    "duration": 13,
    "start_time": "2024-07-25T05:22:36.950Z"
   },
   {
    "duration": 22,
    "start_time": "2024-07-25T05:22:36.965Z"
   },
   {
    "duration": 327,
    "start_time": "2024-07-25T14:26:52.788Z"
   },
   {
    "duration": 4874,
    "start_time": "2024-07-25T14:27:20.966Z"
   },
   {
    "duration": 368,
    "start_time": "2024-07-25T14:27:25.844Z"
   },
   {
    "duration": 28,
    "start_time": "2024-07-25T14:27:26.214Z"
   },
   {
    "duration": 12,
    "start_time": "2024-07-25T14:27:26.248Z"
   },
   {
    "duration": 25,
    "start_time": "2024-07-25T14:27:26.264Z"
   },
   {
    "duration": 46,
    "start_time": "2024-07-25T14:27:26.293Z"
   },
   {
    "duration": 7,
    "start_time": "2024-07-25T14:27:26.342Z"
   },
   {
    "duration": 11,
    "start_time": "2024-07-25T14:27:26.352Z"
   },
   {
    "duration": 66,
    "start_time": "2024-07-25T14:27:26.366Z"
   },
   {
    "duration": 16,
    "start_time": "2024-07-25T14:27:26.439Z"
   },
   {
    "duration": 28,
    "start_time": "2024-07-25T14:27:26.458Z"
   },
   {
    "duration": 50,
    "start_time": "2024-07-25T14:27:26.489Z"
   },
   {
    "duration": 28,
    "start_time": "2024-07-25T14:27:26.542Z"
   },
   {
    "duration": 13,
    "start_time": "2024-07-25T14:27:26.574Z"
   },
   {
    "duration": 55,
    "start_time": "2024-07-25T14:27:26.590Z"
   },
   {
    "duration": 29,
    "start_time": "2024-07-25T14:27:26.651Z"
   },
   {
    "duration": 48,
    "start_time": "2024-07-25T14:27:26.682Z"
   },
   {
    "duration": 23,
    "start_time": "2024-07-25T14:27:26.734Z"
   },
   {
    "duration": 12,
    "start_time": "2024-07-25T14:27:26.759Z"
   },
   {
    "duration": 74,
    "start_time": "2024-07-25T14:27:26.773Z"
   },
   {
    "duration": 27,
    "start_time": "2024-07-25T14:27:26.850Z"
   },
   {
    "duration": 61,
    "start_time": "2024-07-25T14:27:26.879Z"
   },
   {
    "duration": 36,
    "start_time": "2024-07-25T14:27:26.943Z"
   },
   {
    "duration": 65,
    "start_time": "2024-07-25T14:27:26.981Z"
   },
   {
    "duration": 26,
    "start_time": "2024-07-25T14:27:27.049Z"
   },
   {
    "duration": 62,
    "start_time": "2024-07-25T14:27:27.078Z"
   },
   {
    "duration": 23,
    "start_time": "2024-07-25T14:27:27.143Z"
   },
   {
    "duration": 560,
    "start_time": "2024-07-25T14:27:27.174Z"
   },
   {
    "duration": 503,
    "start_time": "2024-07-25T14:27:27.737Z"
   },
   {
    "duration": 24,
    "start_time": "2024-07-25T14:27:28.243Z"
   },
   {
    "duration": 400,
    "start_time": "2024-07-25T14:27:28.269Z"
   },
   {
    "duration": 39,
    "start_time": "2024-07-25T14:27:28.672Z"
   },
   {
    "duration": 529,
    "start_time": "2024-07-25T14:27:28.732Z"
   },
   {
    "duration": 14,
    "start_time": "2024-07-25T14:27:29.264Z"
   },
   {
    "duration": 357,
    "start_time": "2024-07-25T14:27:29.283Z"
   },
   {
    "duration": 605,
    "start_time": "2024-07-25T14:27:29.643Z"
   },
   {
    "duration": 17,
    "start_time": "2024-07-25T14:27:30.251Z"
   },
   {
    "duration": 17,
    "start_time": "2024-07-25T14:27:30.270Z"
   },
   {
    "duration": 537,
    "start_time": "2024-07-25T14:27:30.290Z"
   },
   {
    "duration": 27,
    "start_time": "2024-07-25T14:27:30.835Z"
   },
   {
    "duration": 24,
    "start_time": "2024-07-25T14:27:30.865Z"
   },
   {
    "duration": 763,
    "start_time": "2024-07-25T14:27:30.892Z"
   },
   {
    "duration": 12,
    "start_time": "2024-07-25T14:27:31.659Z"
   },
   {
    "duration": 21,
    "start_time": "2024-07-25T14:27:31.674Z"
   },
   {
    "duration": 1230,
    "start_time": "2024-07-25T14:27:46.944Z"
   },
   {
    "duration": 85,
    "start_time": "2024-07-25T14:28:04.641Z"
   },
   {
    "duration": 4,
    "start_time": "2024-07-25T14:28:17.725Z"
   },
   {
    "duration": 262,
    "start_time": "2024-07-25T14:28:18.324Z"
   },
   {
    "duration": 24,
    "start_time": "2024-07-25T14:28:19.318Z"
   },
   {
    "duration": 12,
    "start_time": "2024-07-25T14:28:19.501Z"
   },
   {
    "duration": 24,
    "start_time": "2024-07-25T14:28:22.170Z"
   },
   {
    "duration": 13,
    "start_time": "2024-07-25T14:28:22.650Z"
   },
   {
    "duration": 6,
    "start_time": "2024-07-25T14:28:24.591Z"
   },
   {
    "duration": 13,
    "start_time": "2024-07-25T14:28:24.941Z"
   },
   {
    "duration": 33,
    "start_time": "2024-07-25T14:28:26.147Z"
   },
   {
    "duration": 15,
    "start_time": "2024-07-25T14:28:26.332Z"
   },
   {
    "duration": 26,
    "start_time": "2024-07-25T14:28:27.458Z"
   },
   {
    "duration": 15,
    "start_time": "2024-07-25T14:28:28.109Z"
   },
   {
    "duration": 25,
    "start_time": "2024-07-25T14:28:29.048Z"
   },
   {
    "duration": 12,
    "start_time": "2024-07-25T14:28:29.227Z"
   },
   {
    "duration": 17,
    "start_time": "2024-07-25T14:28:30.170Z"
   },
   {
    "duration": 31,
    "start_time": "2024-07-25T14:28:31.387Z"
   },
   {
    "duration": 14,
    "start_time": "2024-07-25T14:28:31.589Z"
   },
   {
    "duration": 24,
    "start_time": "2024-07-25T14:28:32.920Z"
   },
   {
    "duration": 11,
    "start_time": "2024-07-25T14:28:34.222Z"
   },
   {
    "duration": 38,
    "start_time": "2024-07-25T14:28:35.370Z"
   },
   {
    "duration": 26,
    "start_time": "2024-07-25T14:28:35.584Z"
   },
   {
    "duration": 35,
    "start_time": "2024-07-25T14:28:38.134Z"
   },
   {
    "duration": 35,
    "start_time": "2024-07-25T14:28:38.681Z"
   },
   {
    "duration": 39,
    "start_time": "2024-07-25T14:28:39.613Z"
   },
   {
    "duration": 25,
    "start_time": "2024-07-25T14:28:40.807Z"
   },
   {
    "duration": 49,
    "start_time": "2024-07-25T14:28:41.983Z"
   },
   {
    "duration": 36,
    "start_time": "2024-07-25T14:29:00.497Z"
   },
   {
    "duration": 85,
    "start_time": "2024-07-25T14:29:01.176Z"
   },
   {
    "duration": 20,
    "start_time": "2024-07-25T14:29:04.721Z"
   },
   {
    "duration": 513,
    "start_time": "2024-07-25T14:29:16.097Z"
   },
   {
    "duration": 487,
    "start_time": "2024-07-25T14:29:18.314Z"
   },
   {
    "duration": 23,
    "start_time": "2024-07-25T14:29:18.842Z"
   },
   {
    "duration": 466,
    "start_time": "2024-07-25T14:29:19.410Z"
   },
   {
    "duration": 40,
    "start_time": "2024-07-25T14:29:22.534Z"
   },
   {
    "duration": 478,
    "start_time": "2024-07-25T14:29:23.280Z"
   },
   {
    "duration": 13,
    "start_time": "2024-07-25T14:29:23.763Z"
   },
   {
    "duration": 338,
    "start_time": "2024-07-25T14:30:38.622Z"
   },
   {
    "duration": 84,
    "start_time": "2024-07-25T14:30:54.514Z"
   },
   {
    "duration": 329,
    "start_time": "2024-07-25T14:31:09.220Z"
   },
   {
    "duration": 89,
    "start_time": "2024-07-25T14:31:13.522Z"
   },
   {
    "duration": 17,
    "start_time": "2024-07-25T14:32:04.337Z"
   },
   {
    "duration": 501,
    "start_time": "2024-07-25T14:32:18.643Z"
   },
   {
    "duration": 88,
    "start_time": "2024-07-25T14:32:48.253Z"
   },
   {
    "duration": 42,
    "start_time": "2024-07-25T14:33:29.907Z"
   },
   {
    "duration": 40,
    "start_time": "2024-07-25T14:33:53.207Z"
   },
   {
    "duration": 25,
    "start_time": "2024-07-25T14:34:10.920Z"
   },
   {
    "duration": 30,
    "start_time": "2024-07-25T14:35:11.220Z"
   },
   {
    "duration": 31,
    "start_time": "2024-07-25T14:35:19.415Z"
   },
   {
    "duration": 30,
    "start_time": "2024-07-25T14:35:28.104Z"
   },
   {
    "duration": 33,
    "start_time": "2024-07-25T14:35:33.456Z"
   },
   {
    "duration": 41,
    "start_time": "2024-07-25T14:35:56.416Z"
   },
   {
    "duration": 20,
    "start_time": "2024-07-25T14:36:45.530Z"
   },
   {
    "duration": 22,
    "start_time": "2024-07-25T14:37:17.011Z"
   },
   {
    "duration": 92,
    "start_time": "2024-07-25T14:38:01.415Z"
   },
   {
    "duration": 1134,
    "start_time": "2024-07-25T14:38:22.632Z"
   },
   {
    "duration": 89,
    "start_time": "2024-07-25T14:38:52.634Z"
   },
   {
    "duration": 200,
    "start_time": "2024-07-25T14:39:02.833Z"
   },
   {
    "duration": 38,
    "start_time": "2024-07-25T14:39:45.281Z"
   },
   {
    "duration": 25,
    "start_time": "2024-07-25T14:39:54.738Z"
   },
   {
    "duration": 40,
    "start_time": "2024-07-25T14:40:04.446Z"
   },
   {
    "duration": 23,
    "start_time": "2024-07-25T14:40:12.630Z"
   },
   {
    "duration": 510,
    "start_time": "2024-07-25T14:40:15.037Z"
   },
   {
    "duration": 470,
    "start_time": "2024-07-25T14:40:16.975Z"
   },
   {
    "duration": 23,
    "start_time": "2024-07-25T14:40:17.545Z"
   },
   {
    "duration": 386,
    "start_time": "2024-07-25T14:40:18.144Z"
   },
   {
    "duration": 40,
    "start_time": "2024-07-25T14:40:20.720Z"
   },
   {
    "duration": 537,
    "start_time": "2024-07-25T14:40:21.327Z"
   },
   {
    "duration": 14,
    "start_time": "2024-07-25T14:40:22.423Z"
   },
   {
    "duration": 495,
    "start_time": "2024-07-25T14:40:25.264Z"
   },
   {
    "duration": 346,
    "start_time": "2024-07-25T14:40:25.880Z"
   },
   {
    "duration": 15,
    "start_time": "2024-07-25T14:40:26.546Z"
   },
   {
    "duration": 18,
    "start_time": "2024-07-25T14:40:27.235Z"
   },
   {
    "duration": 498,
    "start_time": "2024-07-25T14:40:27.836Z"
   },
   {
    "duration": 26,
    "start_time": "2024-07-25T14:40:28.567Z"
   },
   {
    "duration": 24,
    "start_time": "2024-07-25T14:40:34.517Z"
   },
   {
    "duration": 722,
    "start_time": "2024-07-25T14:40:36.343Z"
   },
   {
    "duration": 12,
    "start_time": "2024-07-25T14:40:40.620Z"
   },
   {
    "duration": 13,
    "start_time": "2024-07-25T14:41:04.035Z"
   },
   {
    "duration": 21,
    "start_time": "2024-07-25T14:41:12.546Z"
   },
   {
    "duration": 92,
    "start_time": "2024-07-25T14:41:39.570Z"
   },
   {
    "duration": 35,
    "start_time": "2024-07-25T14:42:49.974Z"
   },
   {
    "duration": 108,
    "start_time": "2024-07-25T14:43:08.124Z"
   },
   {
    "duration": 1220,
    "start_time": "2024-07-25T14:43:23.764Z"
   },
   {
    "duration": 274,
    "start_time": "2024-07-25T14:43:24.988Z"
   },
   {
    "duration": 28,
    "start_time": "2024-07-25T14:43:25.265Z"
   },
   {
    "duration": 35,
    "start_time": "2024-07-25T14:43:25.297Z"
   },
   {
    "duration": 25,
    "start_time": "2024-07-25T14:43:25.335Z"
   },
   {
    "duration": 14,
    "start_time": "2024-07-25T14:43:25.364Z"
   },
   {
    "duration": 7,
    "start_time": "2024-07-25T14:43:25.381Z"
   },
   {
    "duration": 48,
    "start_time": "2024-07-25T14:43:25.391Z"
   },
   {
    "duration": 32,
    "start_time": "2024-07-25T14:43:25.442Z"
   },
   {
    "duration": 52,
    "start_time": "2024-07-25T14:43:25.481Z"
   },
   {
    "duration": 28,
    "start_time": "2024-07-25T14:43:25.536Z"
   },
   {
    "duration": 19,
    "start_time": "2024-07-25T14:43:25.567Z"
   },
   {
    "duration": 55,
    "start_time": "2024-07-25T14:43:25.589Z"
   },
   {
    "duration": 13,
    "start_time": "2024-07-25T14:43:25.647Z"
   },
   {
    "duration": 18,
    "start_time": "2024-07-25T14:43:25.663Z"
   },
   {
    "duration": 62,
    "start_time": "2024-07-25T14:43:25.684Z"
   },
   {
    "duration": 14,
    "start_time": "2024-07-25T14:43:25.750Z"
   },
   {
    "duration": 22,
    "start_time": "2024-07-25T14:43:25.767Z"
   },
   {
    "duration": 45,
    "start_time": "2024-07-25T14:43:25.791Z"
   },
   {
    "duration": 40,
    "start_time": "2024-07-25T14:43:25.840Z"
   },
   {
    "duration": 63,
    "start_time": "2024-07-25T14:43:25.882Z"
   },
   {
    "duration": 41,
    "start_time": "2024-07-25T14:43:25.948Z"
   },
   {
    "duration": 55,
    "start_time": "2024-07-25T14:43:25.993Z"
   },
   {
    "duration": 44,
    "start_time": "2024-07-25T14:43:26.051Z"
   },
   {
    "duration": 48,
    "start_time": "2024-07-25T14:43:26.098Z"
   },
   {
    "duration": 39,
    "start_time": "2024-07-25T14:43:26.149Z"
   },
   {
    "duration": 45,
    "start_time": "2024-07-25T14:43:26.191Z"
   },
   {
    "duration": 521,
    "start_time": "2024-07-25T14:43:26.245Z"
   },
   {
    "duration": 497,
    "start_time": "2024-07-25T14:43:26.769Z"
   },
   {
    "duration": 23,
    "start_time": "2024-07-25T14:43:27.269Z"
   },
   {
    "duration": 468,
    "start_time": "2024-07-25T14:43:27.295Z"
   },
   {
    "duration": 40,
    "start_time": "2024-07-25T14:43:27.766Z"
   },
   {
    "duration": 542,
    "start_time": "2024-07-25T14:43:27.810Z"
   },
   {
    "duration": 13,
    "start_time": "2024-07-25T14:43:28.355Z"
   },
   {
    "duration": 533,
    "start_time": "2024-07-25T14:43:28.372Z"
   },
   {
    "duration": 344,
    "start_time": "2024-07-25T14:43:28.908Z"
   },
   {
    "duration": 17,
    "start_time": "2024-07-25T14:43:29.255Z"
   },
   {
    "duration": 18,
    "start_time": "2024-07-25T14:43:29.275Z"
   },
   {
    "duration": 601,
    "start_time": "2024-07-25T14:43:29.296Z"
   },
   {
    "duration": 39,
    "start_time": "2024-07-25T14:43:29.901Z"
   },
   {
    "duration": 23,
    "start_time": "2024-07-25T14:43:29.943Z"
   },
   {
    "duration": 777,
    "start_time": "2024-07-25T14:43:29.971Z"
   },
   {
    "duration": 12,
    "start_time": "2024-07-25T14:43:30.752Z"
   },
   {
    "duration": 34,
    "start_time": "2024-07-25T14:43:30.767Z"
   },
   {
    "duration": 1323,
    "start_time": "2024-07-25T14:43:53.876Z"
   },
   {
    "duration": 11,
    "start_time": "2024-07-25T14:46:31.337Z"
   },
   {
    "duration": 25,
    "start_time": "2024-07-25T14:46:59.596Z"
   },
   {
    "duration": 89,
    "start_time": "2024-07-25T14:51:27.896Z"
   },
   {
    "duration": 1263,
    "start_time": "2024-07-25T14:51:39.567Z"
   },
   {
    "duration": 267,
    "start_time": "2024-07-25T14:51:40.834Z"
   },
   {
    "duration": 37,
    "start_time": "2024-07-25T14:51:41.104Z"
   },
   {
    "duration": 12,
    "start_time": "2024-07-25T14:51:41.146Z"
   },
   {
    "duration": 25,
    "start_time": "2024-07-25T14:51:41.161Z"
   },
   {
    "duration": 50,
    "start_time": "2024-07-25T14:51:41.189Z"
   },
   {
    "duration": 7,
    "start_time": "2024-07-25T14:51:41.242Z"
   },
   {
    "duration": 12,
    "start_time": "2024-07-25T14:51:41.252Z"
   },
   {
    "duration": 65,
    "start_time": "2024-07-25T14:51:41.267Z"
   },
   {
    "duration": 16,
    "start_time": "2024-07-25T14:51:41.337Z"
   },
   {
    "duration": 27,
    "start_time": "2024-07-25T14:51:41.356Z"
   },
   {
    "duration": 50,
    "start_time": "2024-07-25T14:51:41.386Z"
   },
   {
    "duration": 29,
    "start_time": "2024-07-25T14:51:41.438Z"
   },
   {
    "duration": 12,
    "start_time": "2024-07-25T14:51:41.471Z"
   },
   {
    "duration": 55,
    "start_time": "2024-07-25T14:51:41.486Z"
   },
   {
    "duration": 31,
    "start_time": "2024-07-25T14:51:41.544Z"
   },
   {
    "duration": 15,
    "start_time": "2024-07-25T14:51:41.577Z"
   },
   {
    "duration": 51,
    "start_time": "2024-07-25T14:51:41.595Z"
   },
   {
    "duration": 12,
    "start_time": "2024-07-25T14:51:41.648Z"
   },
   {
    "duration": 67,
    "start_time": "2024-07-25T14:51:41.664Z"
   },
   {
    "duration": 35,
    "start_time": "2024-07-25T14:51:41.734Z"
   },
   {
    "duration": 56,
    "start_time": "2024-07-25T14:51:41.776Z"
   },
   {
    "duration": 36,
    "start_time": "2024-07-25T14:51:41.835Z"
   },
   {
    "duration": 63,
    "start_time": "2024-07-25T14:51:41.874Z"
   },
   {
    "duration": 25,
    "start_time": "2024-07-25T14:51:41.940Z"
   },
   {
    "duration": 68,
    "start_time": "2024-07-25T14:51:41.969Z"
   },
   {
    "duration": 27,
    "start_time": "2024-07-25T14:51:42.040Z"
   },
   {
    "duration": 588,
    "start_time": "2024-07-25T14:51:42.074Z"
   },
   {
    "duration": 493,
    "start_time": "2024-07-25T14:51:42.665Z"
   },
   {
    "duration": 25,
    "start_time": "2024-07-25T14:51:43.161Z"
   },
   {
    "duration": 479,
    "start_time": "2024-07-25T14:51:43.189Z"
   },
   {
    "duration": 38,
    "start_time": "2024-07-25T14:51:43.671Z"
   },
   {
    "duration": 517,
    "start_time": "2024-07-25T14:51:43.730Z"
   },
   {
    "duration": 13,
    "start_time": "2024-07-25T14:51:44.252Z"
   },
   {
    "duration": 498,
    "start_time": "2024-07-25T14:51:44.268Z"
   },
   {
    "duration": 353,
    "start_time": "2024-07-25T14:51:44.770Z"
   },
   {
    "duration": 17,
    "start_time": "2024-07-25T14:51:45.126Z"
   },
   {
    "duration": 21,
    "start_time": "2024-07-25T14:51:45.146Z"
   },
   {
    "duration": 512,
    "start_time": "2024-07-25T14:51:45.172Z"
   },
   {
    "duration": 24,
    "start_time": "2024-07-25T14:51:45.687Z"
   },
   {
    "duration": 24,
    "start_time": "2024-07-25T14:51:45.730Z"
   },
   {
    "duration": 701,
    "start_time": "2024-07-25T14:51:45.757Z"
   },
   {
    "duration": 12,
    "start_time": "2024-07-25T14:51:56.577Z"
   },
   {
    "duration": 24,
    "start_time": "2024-07-25T14:51:56.593Z"
   },
   {
    "duration": 87,
    "start_time": "2024-07-25T14:53:03.955Z"
   },
   {
    "duration": 83,
    "start_time": "2024-07-25T14:53:07.595Z"
   },
   {
    "duration": 83,
    "start_time": "2024-07-25T14:53:14.544Z"
   },
   {
    "duration": 94,
    "start_time": "2024-07-25T14:53:52.691Z"
   },
   {
    "duration": 1287,
    "start_time": "2024-07-25T14:54:01.301Z"
   },
   {
    "duration": 285,
    "start_time": "2024-07-25T14:54:02.591Z"
   },
   {
    "duration": 29,
    "start_time": "2024-07-25T14:54:02.879Z"
   },
   {
    "duration": 33,
    "start_time": "2024-07-25T14:54:02.911Z"
   },
   {
    "duration": 25,
    "start_time": "2024-07-25T14:54:02.949Z"
   },
   {
    "duration": 14,
    "start_time": "2024-07-25T14:54:02.977Z"
   },
   {
    "duration": 40,
    "start_time": "2024-07-25T14:54:02.994Z"
   },
   {
    "duration": 13,
    "start_time": "2024-07-25T14:54:03.037Z"
   },
   {
    "duration": 34,
    "start_time": "2024-07-25T14:54:03.054Z"
   },
   {
    "duration": 49,
    "start_time": "2024-07-25T14:54:03.091Z"
   },
   {
    "duration": 30,
    "start_time": "2024-07-25T14:54:03.143Z"
   },
   {
    "duration": 16,
    "start_time": "2024-07-25T14:54:03.176Z"
   },
   {
    "duration": 56,
    "start_time": "2024-07-25T14:54:03.195Z"
   },
   {
    "duration": 13,
    "start_time": "2024-07-25T14:54:03.257Z"
   },
   {
    "duration": 17,
    "start_time": "2024-07-25T14:54:03.273Z"
   },
   {
    "duration": 64,
    "start_time": "2024-07-25T14:54:03.293Z"
   },
   {
    "duration": 15,
    "start_time": "2024-07-25T14:54:03.360Z"
   },
   {
    "duration": 57,
    "start_time": "2024-07-25T14:54:03.377Z"
   },
   {
    "duration": 16,
    "start_time": "2024-07-25T14:54:03.437Z"
   },
   {
    "duration": 39,
    "start_time": "2024-07-25T14:54:03.456Z"
   },
   {
    "duration": 56,
    "start_time": "2024-07-25T14:54:03.498Z"
   },
   {
    "duration": 36,
    "start_time": "2024-07-25T14:54:03.557Z"
   },
   {
    "duration": 61,
    "start_time": "2024-07-25T14:54:03.596Z"
   },
   {
    "duration": 40,
    "start_time": "2024-07-25T14:54:03.659Z"
   },
   {
    "duration": 50,
    "start_time": "2024-07-25T14:54:03.702Z"
   },
   {
    "duration": 39,
    "start_time": "2024-07-25T14:54:03.757Z"
   },
   {
    "duration": 45,
    "start_time": "2024-07-25T14:54:03.799Z"
   },
   {
    "duration": 516,
    "start_time": "2024-07-25T14:54:03.848Z"
   },
   {
    "duration": 489,
    "start_time": "2024-07-25T14:54:04.367Z"
   },
   {
    "duration": 24,
    "start_time": "2024-07-25T14:54:04.859Z"
   },
   {
    "duration": 474,
    "start_time": "2024-07-25T14:54:04.886Z"
   },
   {
    "duration": 40,
    "start_time": "2024-07-25T14:54:05.363Z"
   },
   {
    "duration": 553,
    "start_time": "2024-07-25T14:54:05.405Z"
   },
   {
    "duration": 14,
    "start_time": "2024-07-25T14:54:05.961Z"
   },
   {
    "duration": 529,
    "start_time": "2024-07-25T14:54:05.977Z"
   },
   {
    "duration": 336,
    "start_time": "2024-07-25T14:54:06.509Z"
   },
   {
    "duration": 17,
    "start_time": "2024-07-25T14:54:06.848Z"
   },
   {
    "duration": 19,
    "start_time": "2024-07-25T14:54:06.869Z"
   },
   {
    "duration": 549,
    "start_time": "2024-07-25T14:54:06.892Z"
   },
   {
    "duration": 25,
    "start_time": "2024-07-25T14:54:07.445Z"
   },
   {
    "duration": 22,
    "start_time": "2024-07-25T14:54:07.478Z"
   },
   {
    "duration": 716,
    "start_time": "2024-07-25T14:54:07.532Z"
   },
   {
    "duration": 12,
    "start_time": "2024-07-25T14:54:08.250Z"
   },
   {
    "duration": 22,
    "start_time": "2024-07-25T14:54:08.265Z"
   },
   {
    "duration": 368,
    "start_time": "2024-07-25T15:03:13.549Z"
   },
   {
    "duration": 399,
    "start_time": "2024-07-25T15:03:53.759Z"
   },
   {
    "duration": 4922,
    "start_time": "2024-07-25T19:15:03.612Z"
   },
   {
    "duration": 397,
    "start_time": "2024-07-25T19:15:08.538Z"
   },
   {
    "duration": 28,
    "start_time": "2024-07-25T19:15:08.938Z"
   },
   {
    "duration": 12,
    "start_time": "2024-07-25T19:15:08.970Z"
   },
   {
    "duration": 58,
    "start_time": "2024-07-25T19:15:08.985Z"
   },
   {
    "duration": 18,
    "start_time": "2024-07-25T19:15:09.047Z"
   },
   {
    "duration": 11,
    "start_time": "2024-07-25T19:15:09.068Z"
   },
   {
    "duration": 50,
    "start_time": "2024-07-25T19:15:09.082Z"
   },
   {
    "duration": 50,
    "start_time": "2024-07-25T19:15:09.137Z"
   },
   {
    "duration": 19,
    "start_time": "2024-07-25T19:15:09.222Z"
   },
   {
    "duration": 31,
    "start_time": "2024-07-25T19:15:09.244Z"
   },
   {
    "duration": 54,
    "start_time": "2024-07-25T19:15:09.278Z"
   },
   {
    "duration": 31,
    "start_time": "2024-07-25T19:15:09.336Z"
   },
   {
    "duration": 15,
    "start_time": "2024-07-25T19:15:09.371Z"
   },
   {
    "duration": 39,
    "start_time": "2024-07-25T19:15:09.425Z"
   },
   {
    "duration": 30,
    "start_time": "2024-07-25T19:15:09.468Z"
   },
   {
    "duration": 35,
    "start_time": "2024-07-25T19:15:09.524Z"
   },
   {
    "duration": 22,
    "start_time": "2024-07-25T19:15:09.562Z"
   },
   {
    "duration": 13,
    "start_time": "2024-07-25T19:15:09.586Z"
   },
   {
    "duration": 52,
    "start_time": "2024-07-25T19:15:09.638Z"
   },
   {
    "duration": 60,
    "start_time": "2024-07-25T19:15:09.694Z"
   },
   {
    "duration": 40,
    "start_time": "2024-07-25T19:15:09.757Z"
   },
   {
    "duration": 67,
    "start_time": "2024-07-25T19:15:09.800Z"
   },
   {
    "duration": 40,
    "start_time": "2024-07-25T19:15:09.871Z"
   },
   {
    "duration": 54,
    "start_time": "2024-07-25T19:15:09.914Z"
   },
   {
    "duration": 38,
    "start_time": "2024-07-25T19:15:09.972Z"
   },
   {
    "duration": 55,
    "start_time": "2024-07-25T19:15:10.012Z"
   },
   {
    "duration": 682,
    "start_time": "2024-07-25T19:15:10.077Z"
   },
   {
    "duration": 570,
    "start_time": "2024-07-25T19:15:10.764Z"
   },
   {
    "duration": 26,
    "start_time": "2024-07-25T19:15:11.353Z"
   },
   {
    "duration": 434,
    "start_time": "2024-07-25T19:15:11.382Z"
   },
   {
    "duration": 58,
    "start_time": "2024-07-25T19:15:11.820Z"
   },
   {
    "duration": 613,
    "start_time": "2024-07-25T19:15:11.883Z"
   },
   {
    "duration": 14,
    "start_time": "2024-07-25T19:15:12.499Z"
   },
   {
    "duration": 479,
    "start_time": "2024-07-25T19:15:12.524Z"
   },
   {
    "duration": 602,
    "start_time": "2024-07-25T19:15:13.006Z"
   },
   {
    "duration": 360,
    "start_time": "2024-07-25T19:15:13.611Z"
   },
   {
    "duration": 17,
    "start_time": "2024-07-25T19:15:13.974Z"
   },
   {
    "duration": 67,
    "start_time": "2024-07-25T19:15:13.994Z"
   },
   {
    "duration": 551,
    "start_time": "2024-07-25T19:15:14.064Z"
   },
   {
    "duration": 53,
    "start_time": "2024-07-25T19:15:14.618Z"
   },
   {
    "duration": 427,
    "start_time": "2024-07-25T19:15:14.673Z"
   },
   {
    "duration": 40,
    "start_time": "2024-07-25T19:15:15.104Z"
   },
   {
    "duration": 821,
    "start_time": "2024-07-25T19:15:15.152Z"
   },
   {
    "duration": 12,
    "start_time": "2024-07-25T19:15:15.976Z"
   },
   {
    "duration": 64,
    "start_time": "2024-07-25T19:15:15.991Z"
   }
  ],
  "kernelspec": {
   "display_name": "Python 3 (ipykernel)",
   "language": "python",
   "name": "python3"
  },
  "language_info": {
   "codemirror_mode": {
    "name": "ipython",
    "version": 3
   },
   "file_extension": ".py",
   "mimetype": "text/x-python",
   "name": "python",
   "nbconvert_exporter": "python",
   "pygments_lexer": "ipython3",
   "version": "3.12.4"
  },
  "toc": {
   "base_numbering": 1,
   "nav_menu": {},
   "number_sections": true,
   "sideBar": true,
   "skip_h1_title": false,
   "title_cell": "Table of Contents",
   "title_sidebar": "Contents",
   "toc_cell": false,
   "toc_position": {
    "height": "calc(100% - 180px)",
    "left": "10px",
    "top": "150px",
    "width": "192.391px"
   },
   "toc_section_display": true,
   "toc_window_display": true
  }
 },
 "nbformat": 4,
 "nbformat_minor": 4
}
